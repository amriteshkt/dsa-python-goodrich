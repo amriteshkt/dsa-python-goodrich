{
 "cells": [
  {
   "cell_type": "code",
   "execution_count": 32,
   "metadata": {},
   "outputs": [],
   "source": [
    "from linked_binary_tree import LinkedBinaryTree"
   ]
  },
  {
   "cell_type": "markdown",
   "metadata": {},
   "source": [
    "# Reinforcement"
   ]
  },
  {
   "cell_type": "markdown",
   "metadata": {},
   "source": [
    "## R-8.13\n",
    "Try Again"
   ]
  },
  {
   "cell_type": "code",
   "execution_count": 40,
   "metadata": {},
   "outputs": [],
   "source": [
    "def arithmetic_expression(expression):\n",
    "    lst = list()\n",
    "    for i in expression:\n",
    "        if i not in '()':\n",
    "            bt = LinkedBinaryTree()\n",
    "            bt._add_root(i)\n",
    "            lst.append(bt)      # we are appending binary tree\n",
    "        elif i == ')':\n",
    "            lst[-3]._root._parent = lst[-2]._root\n",
    "            lst[-2]._root._left = lst[-3]._root\n",
    "            lst[-1]._root._parent = lst[-2]._root\n",
    "            lst[-2]._root._right = lst[-1]._root\n",
    "            root_node = lst[-2]\n",
    "            lst.pop()\n",
    "            lst.pop()\n",
    "            lst.pop()\n",
    "            lst.append(root_node)   # store the middle binary tree in lst at 0 index\n",
    "    #print(lst)\n",
    "    print('length of list should be 1, and it is: ', len(lst))\n",
    "    return lst[0]\n",
    "        "
   ]
  },
  {
   "cell_type": "code",
   "execution_count": 42,
   "metadata": {},
   "outputs": [
    {
     "name": "stdout",
     "output_type": "stream",
     "text": [
      "length of list should be 1, and it is:  3\n",
      "a\n",
      "root of the tree is :  a\n"
     ]
    }
   ],
   "source": [
    "e = '(((5+2)*(2-1))/((2+9)+((7-2)-1))*8)'\n",
    "tree = arithmetic_expression(e)\n",
    "for i in tree.inorder():\n",
    "    print(i.element())\n",
    "print('root of the tree is : ',tree.root()._node._element)"
   ]
  },
  {
   "cell_type": "code",
   "execution_count": 4,
   "metadata": {},
   "outputs": [
    {
     "name": "stdout",
     "output_type": "stream",
     "text": [
      "1\n"
     ]
    }
   ],
   "source": [
    "lst = [1,2,3]\n",
    "print(lst[-3])"
   ]
  },
  {
   "cell_type": "markdown",
   "metadata": {},
   "source": [
    "## R-8.12\n",
    "Draw an arithmetic expression tree that has four external nodes, storing\n",
    "the numbers $ 1, 5, 6, $ and $ 7 $ (with each number stored in a distinct external\n",
    "node, but not necessarily in this order), and has three internal nodes, each\n",
    "storing an operator from the set $ \\{+,-,\\times,\\} $ , so that the value of the root\n",
    "is $ 21 $. The operators may return and act on fractions, and an operator may\n",
    "be used more than once."
   ]
  },
  {
   "cell_type": "markdown",
   "metadata": {},
   "source": [
    "Solution: We try to draw and evaluate all possible expression binary trees until we find required configuration. Following possibilities need to be considered:\n",
    "1. Distinct number at each external nodes means permutation of $ {1, 5, 6, 7} $. We need to put every permutation at the external node of each tree variation. $ 4! = 24 $\n",
    "2. We can put any operator out of $ \\{+,-,\\times,/\\} $ at the tree internal nodes, and an operator can be used at more than once. $ 4 \\times 4 \\times 4 = 64 $\n",
    "3. Combining the external and internal nodes arrangement, we get total $ 24 \\times 64 = 1536 $ variation of a single expression tree."
   ]
  },
  {
   "cell_type": "markdown",
   "metadata": {},
   "source": [
    "There are 5 different expression trees possible for three internal nodes and four external nodes.\n",
    "1. First configuration\n",
    "![first configuration](images/tree_r-8.12_1.jpg)"
   ]
  },
  {
   "cell_type": "code",
   "execution_count": 5,
   "metadata": {},
   "outputs": [
    {
     "name": "stdout",
     "output_type": "stream",
     "text": [
      "1536\n"
     ]
    }
   ],
   "source": [
    "from itertools import permutations\n",
    "operator = ['+', '-', '*', '/']\n",
    "numbers = [1, 5, 6, 7]\n",
    "operand = list(permutations(numbers))\n",
    "clock = None  # we will use it break out of all the loops as soon as we find answer\n",
    "count = 0   # to track if we get all 1536 variations if we don't get the answer\n",
    "\n",
    "for i in operator:\n",
    "    for j in operator:\n",
    "        for k in operator:\n",
    "            for num in operand:\n",
    "                ET = LinkedBinaryTree()\n",
    "                root = ET._add_root(i)\n",
    "                op1 = ET._add_left(root, j)\n",
    "                op2 = ET._add_right(root, k)\n",
    "                ET._add_left(op1, num[0])\n",
    "                ET._add_right(op1, num[1])\n",
    "                ET._add_left(op2, num[2])\n",
    "                ET._add_right(op2, num[3])\n",
    "                count += 1\n",
    "                try:\n",
    "                    if ET.evaluate() == 21:\n",
    "                        print('found the configuration!')\n",
    "                        for l in ET.inorder():\n",
    "                            print(l.element())\n",
    "                        clock = 'over'\n",
    "                        break\n",
    "                except ZeroDivisionError:\n",
    "                    pass\n",
    "            if clock == 'over':\n",
    "                break\n",
    "        if clock == 'over':\n",
    "            break\n",
    "    if clock == 'over':\n",
    "        break\n",
    "print(count)"
   ]
  },
  {
   "cell_type": "markdown",
   "metadata": {},
   "source": [
    "2. Second configuration\n",
    "![second configuration](images/tree_r-8.12_2.jpg)"
   ]
  },
  {
   "cell_type": "code",
   "execution_count": 6,
   "metadata": {},
   "outputs": [
    {
     "name": "stdout",
     "output_type": "stream",
     "text": [
      "1536\n"
     ]
    }
   ],
   "source": [
    "from itertools import permutations\n",
    "operator = ['+', '-', '*', '/']\n",
    "numbers = [1, 5, 6, 7]\n",
    "operand = list(permutations(numbers))\n",
    "clock = None  # we will use it break out of all the loops as soon as we find answer\n",
    "count = 0   # to track if we get all 1536 variations if we don't get the answer\n",
    "\n",
    "for i in operator:\n",
    "    for j in operator:\n",
    "        for k in operator:\n",
    "            for num in operand:\n",
    "                ET = LinkedBinaryTree()\n",
    "                root = ET._add_root(i)\n",
    "                op1 = ET._add_left(root, j)\n",
    "                ET._add_left(op1, num[0])\n",
    "                op2 = ET._add_right(op1, k)\n",
    "                ET._add_left(op2, num[1])\n",
    "                ET._add_right(op2, num[2])\n",
    "                ET._add_right(root, num[3])\n",
    "                count += 1\n",
    "                try:\n",
    "                    if ET.evaluate() == 21:\n",
    "                        print('found the configuration!')\n",
    "                        for l in ET.inorder():\n",
    "                            print(l.element())\n",
    "                        clock = 'over'\n",
    "                        break\n",
    "                except ZeroDivisionError:\n",
    "                    pass\n",
    "            if clock == 'over':\n",
    "                break\n",
    "        if clock == 'over':\n",
    "            break\n",
    "    if clock == 'over':\n",
    "        break\n",
    "print(count)"
   ]
  },
  {
   "cell_type": "markdown",
   "metadata": {},
   "source": [
    "3. Third configuration\n",
    "![third configuration](images/tree_r-8.12_3.jpg)"
   ]
  },
  {
   "cell_type": "code",
   "execution_count": 7,
   "metadata": {},
   "outputs": [
    {
     "name": "stdout",
     "output_type": "stream",
     "text": [
      "1536\n"
     ]
    }
   ],
   "source": [
    "from itertools import permutations\n",
    "operator = ['+', '-', '*', '/']\n",
    "numbers = [1, 5, 6, 7]\n",
    "operand = list(permutations(numbers))\n",
    "clock = None  # we will use it break out of all the loops as soon as we find answer\n",
    "count = 0   # to track if we get all 1536 variations if we don't get the answer\n",
    "\n",
    "for i in operator:\n",
    "    for j in operator:\n",
    "        for k in operator:\n",
    "            for num in operand:\n",
    "                ET = LinkedBinaryTree()\n",
    "                root = ET._add_root(i)\n",
    "                ET._add_left(root, num[0])\n",
    "                op1 = ET._add_right(root, j)\n",
    "                op2 = ET._add_left(op1, k)\n",
    "                ET._add_left(op2, num[1])\n",
    "                ET._add_right(op2, num[2])\n",
    "                ET._add_right(op1, num[3])\n",
    "                count += 1\n",
    "                try:\n",
    "                    if ET.evaluate() == 21:\n",
    "                        print('found the configuration!')\n",
    "                        for l in ET.inorder():\n",
    "                            print(l.element())\n",
    "                        clock = 'over'\n",
    "                        break\n",
    "                except ZeroDivisionError:\n",
    "                    pass\n",
    "            if clock == 'over':\n",
    "                break\n",
    "        if clock == 'over':\n",
    "            break\n",
    "    if clock == 'over':\n",
    "        break\n",
    "print(count)"
   ]
  },
  {
   "cell_type": "markdown",
   "metadata": {},
   "source": [
    "4. Fourth configuration\n",
    "![fourth configuration](images/tree_r-8.12_4.jpg)"
   ]
  },
  {
   "cell_type": "code",
   "execution_count": 8,
   "metadata": {},
   "outputs": [
    {
     "name": "stdout",
     "output_type": "stream",
     "text": [
      "1536\n"
     ]
    }
   ],
   "source": [
    "from itertools import permutations\n",
    "operator = ['+', '-', '*', '/']\n",
    "numbers = [1, 5, 6, 7]\n",
    "operand = list(permutations(numbers))\n",
    "clock = None  # we will use it break out of all the loops as soon as we find answer\n",
    "count = 0   # to track if we get all 1536 variations if we don't get the answer\n",
    "\n",
    "for i in operator:\n",
    "    for j in operator:\n",
    "        for k in operator:\n",
    "            for num in operand:\n",
    "                ET = LinkedBinaryTree()\n",
    "                root = ET._add_root(i)\n",
    "                op1 = ET._add_left(root, j)\n",
    "                op2 = ET._add_left(op1, k)\n",
    "                ET._add_left(op2, num[0])\n",
    "                ET._add_right(op2, num[1])\n",
    "                ET._add_right(op1, num[2])\n",
    "                ET._add_right(root, num[3])\n",
    "                count += 1\n",
    "                try:\n",
    "                    if ET.evaluate() == 21:\n",
    "                        print('found the configuration!')\n",
    "                        for l in ET.inorder():\n",
    "                            print(l.element())\n",
    "                        clock = 'over'\n",
    "                        break\n",
    "                except ZeroDivisionError:\n",
    "                    pass\n",
    "            if clock == 'over':\n",
    "                break\n",
    "        if clock == 'over':\n",
    "            break\n",
    "    if clock == 'over':\n",
    "        break\n",
    "print(count)"
   ]
  },
  {
   "cell_type": "markdown",
   "metadata": {},
   "source": [
    "5. Fifth configuration\n",
    "![fifth configuration](images/tree_r-8.12_5.jpg)"
   ]
  },
  {
   "cell_type": "code",
   "execution_count": 9,
   "metadata": {},
   "outputs": [
    {
     "name": "stdout",
     "output_type": "stream",
     "text": [
      "found the configuration!\n",
      "6\n",
      "/\n",
      "1\n",
      "-\n",
      "5\n",
      "/\n",
      "7\n",
      "1333\n"
     ]
    }
   ],
   "source": [
    "from itertools import permutations\n",
    "operator = ['+', '-', '*', '/']\n",
    "numbers = [1, 5, 6, 7]\n",
    "operand = list(permutations(numbers))\n",
    "clock = None  # we will use it break out of all the loops as soon as we find answer\n",
    "count = 0   # to track if we get all 1536 variations if we don't get the answer\n",
    "\n",
    "for i in operator:\n",
    "    for j in operator:\n",
    "        for k in operator:\n",
    "            for num in operand:\n",
    "                ET = LinkedBinaryTree()\n",
    "                root = ET._add_root(i)\n",
    "                op1 = ET._add_right(root, j)\n",
    "                op2 = ET._add_right(op1, k)\n",
    "                ET._add_left(root, num[0])\n",
    "                ET._add_left(op1, num[1])\n",
    "                ET._add_left(op2, num[2])\n",
    "                ET._add_right(op2, num[3])\n",
    "                count += 1\n",
    "                try:\n",
    "                    if ET.evaluate() == 21:\n",
    "                        print('found the configuration!')\n",
    "                        for l in ET.inorder():\n",
    "                            print(l.element())\n",
    "                        clock = 'over'\n",
    "                        break\n",
    "                except ZeroDivisionError:\n",
    "                    pass\n",
    "            if clock == 'over':\n",
    "                break\n",
    "        if clock == 'over':\n",
    "            break\n",
    "    if clock == 'over':\n",
    "        break\n",
    "print(count)"
   ]
  },
  {
   "cell_type": "markdown",
   "metadata": {},
   "source": [
    "Required configuration:\n",
    "![required configuration](images/answer_r-8.12.jpg)"
   ]
  },
  {
   "cell_type": "markdown",
   "metadata": {},
   "source": [
    "## R-8.30\n",
    "The build expression tree method of the `ExpressionTree` class requires input that is an iterable of string tokens. We used a convenient example, ' $ (((3+1) \\times 4)/((9-5)+2)) $ ', in which each character is its own token, so that the string itself sufficed as input to build expression tree. In general, a string, such as ' $ (35 + 14) $ ', must be explicitly tokenized into list [ '(' , '35' , '+' , '14' , ')' ] so as to ignore whitespace and to recognize multidigit numbers as a single token. Write a utility method, `tokenize(raw)`, that returns such a list of tokens for a raw string."
   ]
  },
  {
   "cell_type": "code",
   "execution_count": 29,
   "metadata": {},
   "outputs": [],
   "source": [
    "def tokenize(raw):\n",
    "    lst = raw.split()\n",
    "    lst1 = list()\n",
    "    i = 0\n",
    "    while i < len(lst):\n",
    "        j = 0\n",
    "        while j < len(lst[i]):\n",
    "            if not lst[i][j].isdigit():\n",
    "                lst1.append(lst[i][j])\n",
    "                j += 1\n",
    "            if j < len(lst[i]) and lst[i][j].isdigit():\n",
    "                s = ''\n",
    "                while j < len(lst[i]) and lst[i][j].isdigit():\n",
    "                    s += lst[i][j]\n",
    "                    j += 1\n",
    "                lst1.append(s)\n",
    "        i += 1\n",
    "    return lst1"
   ]
  },
  {
   "cell_type": "code",
   "execution_count": 30,
   "metadata": {},
   "outputs": [
    {
     "name": "stdout",
     "output_type": "stream",
     "text": [
      "['(', '35', '+', '14', ')']\n"
     ]
    }
   ],
   "source": [
    "raw = '   ( 35 + 14  )'\n",
    "print(tokenize(raw))"
   ]
  },
  {
   "cell_type": "code",
   "execution_count": null,
   "metadata": {},
   "outputs": [],
   "source": []
  }
 ],
 "metadata": {
  "kernelspec": {
   "display_name": "Python 3",
   "language": "python",
   "name": "python3"
  },
  "language_info": {
   "codemirror_mode": {
    "name": "ipython",
    "version": 3
   },
   "file_extension": ".py",
   "mimetype": "text/x-python",
   "name": "python",
   "nbconvert_exporter": "python",
   "pygments_lexer": "ipython3",
   "version": "3.12.0"
  }
 },
 "nbformat": 4,
 "nbformat_minor": 2
}
