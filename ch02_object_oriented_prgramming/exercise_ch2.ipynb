{
  "nbformat": 4,
  "nbformat_minor": 0,
  "metadata": {
    "colab": {
      "provenance": []
    },
    "kernelspec": {
      "name": "python3",
      "display_name": "Python 3"
    },
    "language_info": {
      "name": "python"
    }
  },
  "cells": [
    {
      "cell_type": "markdown",
      "source": [
        "**R-2.4** Write a Python class, **Flower**, that has three instance variables of type str, int, and float, that respectively represent the name of the flower, its number of petals, and its price. Your class must include a constructor method that initializes each variable to an appropriate value, and your class should include methods for setting the value of each type, and retrieving the value of each type."
      ],
      "metadata": {
        "id": "wCxchLQEIsmN"
      }
    },
    {
      "cell_type": "code",
      "execution_count": null,
      "metadata": {
        "id": "zkAWdnci6yZo"
      },
      "outputs": [],
      "source": [
        "class Flower:\n",
        "    def __init__(self, name, number, price):\n",
        "        self.name = str(name)\n",
        "        self.number = int(number)\n",
        "        self.price = float(price)\n",
        "    def set_name(self, name1):\n",
        "        self.name = name1\n",
        "    def set_number(self, number1):\n",
        "        self.number = number1\n",
        "    def set_price(self, price1):\n",
        "        self.price = price1\n",
        "    def get_name(self):\n",
        "        print(f'the name of the flower is: {self.name}')\n",
        "    def get_number(self):\n",
        "        print(f'the number of petals of {self.name} is: {self.number}')\n",
        "    def get_price(self):\n",
        "        print(f'the price of flower {self.name} is: {self.price}')"
      ]
    },
    {
      "cell_type": "code",
      "source": [
        "flower = Flower('Rose', 10, 200.50)"
      ],
      "metadata": {
        "id": "EQ1-9DqULd9x"
      },
      "execution_count": null,
      "outputs": []
    },
    {
      "cell_type": "code",
      "source": [
        "flower.get_name()\n",
        "flower.get_number()\n",
        "flower.get_price()"
      ],
      "metadata": {
        "colab": {
          "base_uri": "https://localhost:8080/"
        },
        "id": "q58OjFC6LyVe",
        "outputId": "578822aa-2108-490b-d483-7d9752f534b8"
      },
      "execution_count": null,
      "outputs": [
        {
          "output_type": "stream",
          "name": "stdout",
          "text": [
            "the name of the flower is: Rose\n",
            "the number of petals of Rose is: 10\n",
            "the price of flower Rose is: 200.5\n"
          ]
        }
      ]
    },
    {
      "cell_type": "code",
      "source": [
        "flower.set_name('Lotus')\n",
        "flower.set_number(15)\n",
        "flower.set_price(110)"
      ],
      "metadata": {
        "id": "TRG2V41DL-xG"
      },
      "execution_count": null,
      "outputs": []
    },
    {
      "cell_type": "code",
      "source": [
        "flower.get_name()\n",
        "flower.get_number()\n",
        "flower.get_price()"
      ],
      "metadata": {
        "colab": {
          "base_uri": "https://localhost:8080/"
        },
        "outputId": "aadffff7-327c-4828-f4f9-a2d287b889bf",
        "id": "44WxcoO9Mn2U"
      },
      "execution_count": null,
      "outputs": [
        {
          "output_type": "stream",
          "name": "stdout",
          "text": [
            "the name of the flower is: Lotus\n",
            "the number of petals of Lotus is: 15\n",
            "the price of flower Lotus is: 110\n"
          ]
        }
      ]
    },
    {
      "cell_type": "markdown",
      "source": [
        "**R-2.5** Use the techniques of **Section 1.7** to revise the **charge** and **make_payment** methods of the **CreditCard** class to ensure that the caller sends a number as a parameter."
      ],
      "metadata": {
        "id": "oljm6LjkMesO"
      }
    },
    {
      "cell_type": "markdown",
      "source": [
        "Solution: Section 1.7 talks about exception handling."
      ],
      "metadata": {
        "id": "U4lSq2wINerk"
      }
    },
    {
      "cell_type": "code",
      "source": [
        "class CreditCard:\n",
        "    def __init__(self, customer, bank, acnt, limit):\n",
        "        self._customer = customer\n",
        "        self._bank = bank\n",
        "        self._account = acnt\n",
        "        self._limit = limit\n",
        "        self._balance = 0\n",
        "\n",
        "    def get_customer(self):\n",
        "        return self._customer\n",
        "\n",
        "    def get_bank(self):\n",
        "        return self._bank\n",
        "\n",
        "    def get_account(self):\n",
        "        return self._account\n",
        "\n",
        "    def get_limit(self):\n",
        "        return self._limit\n",
        "\n",
        "    def get_balance(self):\n",
        "        return self._balance\n",
        "\n",
        "    def charge(self, price):\n",
        "        try:\n",
        "            if isinstance(price, (int,float)):\n",
        "                if price + self._balance > self._limit:\n",
        "                    return 'Charge Unsuccessful!'\n",
        "                else:\n",
        "                    self._balance += price\n",
        "                    return 'Charge Successful!'\n",
        "            else:\n",
        "                raise TypeError\n",
        "        except TypeError:\n",
        "            print('please enter a valid number!')\n",
        "\n",
        "\n",
        "    def make_payment(self, amount):\n",
        "        try:\n",
        "            if isinstance(amount, (int,float)):\n",
        "                self._balance -= amount\n",
        "                return 'Make Payment Successful!'\n",
        "            else:\n",
        "                raise TypeError\n",
        "        except TypeError:\n",
        "            print('please enter a valid number!')"
      ],
      "metadata": {
        "id": "3vjtCxElRQUb"
      },
      "execution_count": null,
      "outputs": []
    },
    {
      "cell_type": "code",
      "source": [
        "mycard = CreditCard('Ram', 'SBI', 465736243475, 100000)"
      ],
      "metadata": {
        "id": "q4a6hCa0WEOr"
      },
      "execution_count": null,
      "outputs": []
    },
    {
      "cell_type": "code",
      "source": [
        "mycard.charge(100)"
      ],
      "metadata": {
        "colab": {
          "base_uri": "https://localhost:8080/",
          "height": 35
        },
        "id": "RS7hM3mxXVNh",
        "outputId": "0dfe373f-068d-4550-f2f3-8368f7c472d5"
      },
      "execution_count": null,
      "outputs": [
        {
          "output_type": "execute_result",
          "data": {
            "text/plain": [
              "'Charge Successful!'"
            ],
            "application/vnd.google.colaboratory.intrinsic+json": {
              "type": "string"
            }
          },
          "metadata": {},
          "execution_count": 38
        }
      ]
    },
    {
      "cell_type": "code",
      "source": [
        "mycard.charge('something')"
      ],
      "metadata": {
        "colab": {
          "base_uri": "https://localhost:8080/"
        },
        "id": "zhTiGz1DX0Vd",
        "outputId": "877e8c32-51eb-47e0-d96a-84aeb2a6a719"
      },
      "execution_count": null,
      "outputs": [
        {
          "output_type": "stream",
          "name": "stdout",
          "text": [
            "please enter a valid number!\n"
          ]
        }
      ]
    },
    {
      "cell_type": "code",
      "source": [
        "mycard.make_payment(1100)"
      ],
      "metadata": {
        "colab": {
          "base_uri": "https://localhost:8080/",
          "height": 35
        },
        "id": "b-N5DPsTYF9Z",
        "outputId": "b0d04f6e-afac-4329-9d3b-63153aac2ae8"
      },
      "execution_count": null,
      "outputs": [
        {
          "output_type": "execute_result",
          "data": {
            "text/plain": [
              "'Make Payment Successful!'"
            ],
            "application/vnd.google.colaboratory.intrinsic+json": {
              "type": "string"
            }
          },
          "metadata": {},
          "execution_count": 40
        }
      ]
    },
    {
      "cell_type": "code",
      "source": [
        "mycard.make_payment('someword')"
      ],
      "metadata": {
        "colab": {
          "base_uri": "https://localhost:8080/"
        },
        "id": "2LRjHihWYKWC",
        "outputId": "981d955f-f10a-4f4d-ccd0-a6f2b67ce0d3"
      },
      "execution_count": null,
      "outputs": [
        {
          "output_type": "stream",
          "name": "stdout",
          "text": [
            "please enter a valid number!\n"
          ]
        }
      ]
    },
    {
      "cell_type": "markdown",
      "source": [
        "**R-2.6** If the parameter to the make_payment method of the CreditCard class were a negative number, that would have the effect of raising the balance on the account. Revise the implementation so that it raises a **ValueError** if a negative value is sent."
      ],
      "metadata": {
        "id": "qU_mYCQxYOJQ"
      }
    },
    {
      "cell_type": "code",
      "source": [
        "class CreditCard1:  #chaned the name of class so that it doesn't\n",
        "                    #conflict with previous code cells.\n",
        "    def __init__(self, customer, bank, acnt, limit):\n",
        "        self._customer = customer\n",
        "        self._bank = bank\n",
        "        self._account = acnt\n",
        "        self._limit = limit\n",
        "        self._balance = 0\n",
        "\n",
        "    def get_customer(self):\n",
        "        return self._customer\n",
        "\n",
        "    def get_bank(self):\n",
        "        return self._bank\n",
        "\n",
        "    def get_account(self):\n",
        "        return self._account\n",
        "\n",
        "    def get_limit(self):\n",
        "        return self._limit\n",
        "\n",
        "    def get_balance(self):\n",
        "        return self._balance\n",
        "\n",
        "    def charge(self, price):\n",
        "        try:\n",
        "            price = float(price)\n",
        "            if price + self._balance > self._limit:\n",
        "                return 'Charge Unsuccessful!'\n",
        "            else:\n",
        "                self._balance += price\n",
        "                return 'Charge Successful!'\n",
        "        except ValueError:\n",
        "            print('please enter a valid number!')\n",
        "\n",
        "\n",
        "    def make_payment(self, amount):\n",
        "        if amount > 0:\n",
        "            self._balance -= amount\n",
        "            return 'Make Payment Successful!'\n",
        "        else:\n",
        "            raise ValueError('Please enter a positive amount!')"
      ],
      "metadata": {
        "id": "4y1RSkA7YnvR"
      },
      "execution_count": null,
      "outputs": []
    },
    {
      "cell_type": "code",
      "source": [
        "newcard = CreditCard1('Shyam', 'ICICI', 3464557493, 50000)"
      ],
      "metadata": {
        "id": "5pYpakahZ8NF"
      },
      "execution_count": null,
      "outputs": []
    },
    {
      "cell_type": "code",
      "source": [
        "newcard.make_payment(3000)"
      ],
      "metadata": {
        "colab": {
          "base_uri": "https://localhost:8080/",
          "height": 35
        },
        "id": "fvWp4vJFaHOq",
        "outputId": "9ce85de4-28de-4424-d121-e5d621541fb1"
      },
      "execution_count": null,
      "outputs": [
        {
          "output_type": "execute_result",
          "data": {
            "text/plain": [
              "'Make Payment Successful!'"
            ],
            "application/vnd.google.colaboratory.intrinsic+json": {
              "type": "string"
            }
          },
          "metadata": {},
          "execution_count": 23
        }
      ]
    },
    {
      "cell_type": "code",
      "source": [
        "# newcard.make_payment(-2456)  # working good."
      ],
      "metadata": {
        "id": "6zVW_iF0aRUj"
      },
      "execution_count": null,
      "outputs": []
    },
    {
      "cell_type": "markdown",
      "source": [
        "**R-2.7** The **CreditCard** class of Section 2.3 initializes the balance of a new account to zero. Modify that class so that a new account can be given a nonzero balance using an optional fifth parameter to the constructor. The four-parameter constructor syntax should continue to produce an account with zero balance."
      ],
      "metadata": {
        "id": "5YVExzFDaVC3"
      }
    },
    {
      "cell_type": "markdown",
      "source": [
        "Solution: We will use default parameter.\n",
        "I have truncated the source code."
      ],
      "metadata": {
        "id": "y-6WoOwxa2qx"
      }
    },
    {
      "cell_type": "code",
      "source": [
        "class CreditCard2:  #changed name of class to avoid conflict.\n",
        "    def __init__(self, customer, bank, acnt, limit, balance=0):\n",
        "        self._customer = customer\n",
        "        self._bank = bank\n",
        "        self._account = acnt\n",
        "        self._limit = limit\n",
        "        self._balance = balance\n",
        "\n",
        "    def get_customer(self):\n",
        "        return self._customer\n",
        "\n",
        "    def get_bank(self):\n",
        "        return self._bank\n",
        "\n",
        "    def get_account(self):\n",
        "        return self._account\n",
        "\n",
        "    def get_limit(self):\n",
        "        return self._limit\n",
        "\n",
        "    def get_balance(self):\n",
        "        return self._balance"
      ],
      "metadata": {
        "id": "sOAAc6l0bASW"
      },
      "execution_count": null,
      "outputs": []
    },
    {
      "cell_type": "code",
      "source": [
        "neocard = CreditCard2('Sita', 'HDFC Bank', 34356734365, 70000, 10000)\n",
        "# created object using fifth balanca parameter."
      ],
      "metadata": {
        "id": "pIuRr6cCbgzR"
      },
      "execution_count": null,
      "outputs": []
    },
    {
      "cell_type": "code",
      "source": [
        "neocard.get_balance()"
      ],
      "metadata": {
        "colab": {
          "base_uri": "https://localhost:8080/"
        },
        "id": "4-PAhlvVbyhT",
        "outputId": "3c10a646-29ff-4932-dcef-5b46bff09024"
      },
      "execution_count": null,
      "outputs": [
        {
          "output_type": "execute_result",
          "data": {
            "text/plain": [
              "10000"
            ]
          },
          "metadata": {},
          "execution_count": 28
        }
      ]
    },
    {
      "cell_type": "code",
      "source": [
        "neocardnil = CreditCard2('Geeta', 'AXIS Bank', 9346353736, 120000)\n",
        "# created object wiothout fifth parameter.\n",
        "# object took default value of 0."
      ],
      "metadata": {
        "id": "jIm5L818b3IA"
      },
      "execution_count": null,
      "outputs": []
    },
    {
      "cell_type": "code",
      "source": [
        "neocardnil.get_balance()"
      ],
      "metadata": {
        "colab": {
          "base_uri": "https://localhost:8080/"
        },
        "id": "fjbWhq0RcGDY",
        "outputId": "81a8cbf8-d4e1-44e1-bf68-7b5374d251cf"
      },
      "execution_count": null,
      "outputs": [
        {
          "output_type": "execute_result",
          "data": {
            "text/plain": [
              "0"
            ]
          },
          "metadata": {},
          "execution_count": 31
        }
      ]
    },
    {
      "cell_type": "markdown",
      "source": [
        "**R-2.8** Modify the declaration of the first for loop in the CreditCard tests, from Code Fragment 2.3, so that it will eventually cause exactly one of the three credit cards to go over its credit limit. Which credit card is it?"
      ],
      "metadata": {
        "id": "kvnCbBZBmDOw"
      }
    },
    {
      "cell_type": "code",
      "source": [
        "class CreditCard3:     # changed the name of class to avoid conflict.\n",
        "    def __init__(self, customer, bank, acnt, limit):\n",
        "        self._customer = customer\n",
        "        self._bank = bank\n",
        "        self._account = acnt\n",
        "        self._limit = limit\n",
        "        self._balance = 0\n",
        "\n",
        "    def get_customer(self):\n",
        "        return self._customer\n",
        "\n",
        "    def get_bank(self):\n",
        "        return self._bank\n",
        "\n",
        "    def get_account(self):\n",
        "        return self._account\n",
        "\n",
        "    def get_limit(self):\n",
        "        return self._limit\n",
        "\n",
        "    def get_balance(self):\n",
        "        return self._balance\n",
        "\n",
        "    def charge(self, price):\n",
        "        if price + self._balance > self._limit:\n",
        "            return False  # if it becomes false, means we exceeded limit.\n",
        "        else:\n",
        "            self._balance += price\n",
        "            return True\n",
        "\n",
        "    def make_payment(self, amount):\n",
        "        self._balance -= amount"
      ],
      "metadata": {
        "id": "tP1ICWP1cJJH"
      },
      "execution_count": null,
      "outputs": []
    },
    {
      "cell_type": "code",
      "source": [
        "if __name__ == '__main__':\n",
        "    wallet = []\n",
        "    wallet.append(CreditCard3('John Bowman', 'California Savings',\n",
        "                                '5391 0375 9387 5309', 2500) )\n",
        "    wallet.append(CreditCard3('John Bowman', 'California Federal',\n",
        "                                '3485 0399 3395 1954', 3500) )\n",
        "    wallet.append(CreditCard3('John Bowman', 'California Finance',\n",
        "                                '5391 0375 9387 5309', 5000) )\n",
        "\n",
        "# below is the modification in for loop as asked in problem.\n",
        "for val in range(1, 170):\n",
        "    if wallet[0].charge(val) == False:\n",
        "        print(wallet[0].get_bank(), 'exhausted limit first.')\n",
        "        break\n",
        "    if wallet[1].charge(2*val) == False:\n",
        "        print(wallet[1].get_bank(), 'exhausted limit first.')\n",
        "        break\n",
        "    if wallet[2].charge(3*val) == False:\n",
        "        print(wallet[2].get_bank(), 'exhausted limit first.')\n",
        "        break"
      ],
      "metadata": {
        "colab": {
          "base_uri": "https://localhost:8080/"
        },
        "id": "Bfb783R1mYxK",
        "outputId": "0e8f04bb-5d80-408f-d19e-0a704d24ab33"
      },
      "execution_count": null,
      "outputs": [
        {
          "output_type": "stream",
          "name": "stdout",
          "text": [
            "California Finance exhausted limit first.\n"
          ]
        }
      ]
    },
    {
      "cell_type": "markdown",
      "source": [
        "Below is the last problem of OOP chapter in algorithm book. It is not complete though."
      ],
      "metadata": {
        "id": "2kYngI8GnPWH"
      }
    },
    {
      "cell_type": "code",
      "source": [
        "from abc import ABCMeta, abstractmethod\n",
        "class Polygon(metaclass= ABCMeta):\n",
        "    @abstractmethod\n",
        "    def area(self):\n",
        "        pass\n",
        "    @abstractmethod\n",
        "    def perimeter(self):\n",
        "        pass\n",
        "\n",
        "class Triangle(Polygon):\n",
        "    def __init__(self, a, b, c):\n",
        "        self.a = a\n",
        "        self.b = b\n",
        "        self.c = c\n",
        "    def perimeter(self):\n",
        "        peri = (self.a+self.b+self.c)\n",
        "        return peri\n",
        "    def area(self):\n",
        "        semi_peri = self.perimeter()/2\n",
        "        ar = pow(semi_peri*(semi_peri- self.a)*(semi_peri- self.b)*(semi_peri- self.c),1/2)\n",
        "        return ar\n"
      ],
      "metadata": {
        "id": "yXe5UxIaoTxF"
      },
      "execution_count": null,
      "outputs": []
    },
    {
      "cell_type": "code",
      "source": [
        "tri = Triangle(24,11,14)"
      ],
      "metadata": {
        "id": "ItWGasOoFZbS"
      },
      "execution_count": null,
      "outputs": []
    },
    {
      "cell_type": "code",
      "source": [
        "tri.perimeter()"
      ],
      "metadata": {
        "colab": {
          "base_uri": "https://localhost:8080/"
        },
        "id": "C0vhh5yfFlAR",
        "outputId": "ceb0fec4-2865-46e0-c876-ec84413f9bf1"
      },
      "execution_count": null,
      "outputs": [
        {
          "output_type": "execute_result",
          "data": {
            "text/plain": [
              "49"
            ]
          },
          "metadata": {},
          "execution_count": 36
        }
      ]
    },
    {
      "cell_type": "code",
      "source": [
        "tri.area()"
      ],
      "metadata": {
        "colab": {
          "base_uri": "https://localhost:8080/"
        },
        "id": "9hYl4cWtFpiA",
        "outputId": "8b048fea-abde-45f3-880f-9c420370f71f"
      },
      "execution_count": null,
      "outputs": [
        {
          "output_type": "execute_result",
          "data": {
            "text/plain": [
              "41.6705831492673"
            ]
          },
          "metadata": {},
          "execution_count": 37
        }
      ]
    },
    {
      "cell_type": "code",
      "source": [],
      "metadata": {
        "id": "1L10FIU0GmDB"
      },
      "execution_count": null,
      "outputs": []
    }
  ]
}