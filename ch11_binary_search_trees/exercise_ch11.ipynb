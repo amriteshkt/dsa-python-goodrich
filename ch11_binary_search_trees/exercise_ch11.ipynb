{
 "cells": [
  {
   "cell_type": "code",
   "execution_count": 1,
   "metadata": {},
   "outputs": [],
   "source": [
    "from tree_map import TreeMap\n",
    "from avl_tree_map import AVLTreeMap\n",
    "from splay_tree_map import SplayTreeMap\n",
    "from red_black_tree_map import RedBlackTreeMap"
   ]
  },
  {
   "cell_type": "markdown",
   "metadata": {},
   "source": [
    "# Reinforcement"
   ]
  },
  {
   "cell_type": "markdown",
   "metadata": {},
   "source": [
    "## R-11.1\n",
    "If we insert the entries $ (1,A),(2,B),(3,C),(4,D) $, and $(5,E) $,in this order, into an initially empty binary search tree, what will it look like?"
   ]
  },
  {
   "cell_type": "code",
   "execution_count": 7,
   "metadata": {},
   "outputs": [
    {
     "name": "stdout",
     "output_type": "stream",
     "text": [
      "1\n",
      "  2\n",
      "    3\n",
      "      4\n",
      "        5\n",
      "the root of tree: 1\n"
     ]
    }
   ],
   "source": [
    "TM = TreeMap()\n",
    "for i in [(1, \"A\"), (2, \"B\"), (3, \"C\"), (4, \"D\"), (5, \"E\")]:\n",
    "    TM[i[0]] = i[1]\n",
    "\n",
    "# to print the tree we use indent printing where siblings have same indentation.\n",
    "def preorder_indent(T, p, d=0):\n",
    "    \"\"\"Print preorder representation of subtree of T rooted at p at depth d.\"\"\"\n",
    "    print(2*d*' ' + str(p.element()._key))\n",
    "    for c in T.children(p):\n",
    "        preorder_indent(T, c, d+1)\n",
    "\n",
    "preorder_indent(TM, TM.root())\n",
    "print('the root of tree:', TM.root().element()._key)\n",
    "# simple binary search tree does not do balancing.\n"
   ]
  },
  {
   "cell_type": "markdown",
   "metadata": {},
   "source": [
    "## R-11.2\n",
    "Insert, into an empty binary search tree, entries with keys $ 30, 40, 24, 58, 48, 26, 11, 13 $ (in this order). Draw the tree after each insertion."
   ]
  },
  {
   "cell_type": "code",
   "execution_count": 10,
   "metadata": {},
   "outputs": [
    {
     "name": "stdout",
     "output_type": "stream",
     "text": [
      "30\n",
      "\n",
      "30\n",
      "  40\n",
      "\n",
      "30\n",
      "  24\n",
      "  40\n",
      "\n",
      "30\n",
      "  24\n",
      "  40\n",
      "    58\n",
      "\n",
      "30\n",
      "  24\n",
      "  40\n",
      "    58\n",
      "      48\n",
      "\n",
      "30\n",
      "  24\n",
      "    26\n",
      "  40\n",
      "    58\n",
      "      48\n",
      "\n",
      "30\n",
      "  24\n",
      "    11\n",
      "    26\n",
      "  40\n",
      "    58\n",
      "      48\n",
      "\n",
      "30\n",
      "  24\n",
      "    11\n",
      "      13\n",
      "    26\n",
      "  40\n",
      "    58\n",
      "      48\n",
      "\n",
      "the root of tree: 30\n"
     ]
    }
   ],
   "source": [
    "TM = TreeMap()\n",
    "for i in [30, 40, 24, 58, 48, 26, 11, 13]:\n",
    "    TM[i] = i\n",
    "\n",
    "    # to print the tree we use indent printing where siblings have same indentation.\n",
    "    def preorder_indent(T, p, d=0):\n",
    "        \"\"\"Print preorder representation of subtree of T rooted at p at depth d.\"\"\"\n",
    "        print(2*d*' ' + str(p.element()._key))\n",
    "        for c in T.children(p):\n",
    "            preorder_indent(T, c, d+1)\n",
    "\n",
    "    preorder_indent(TM, TM.root())\n",
    "    print() # newline after each insertion\n",
    "\n",
    "print('the root of tree:', TM.root().element()._key)\n",
    "# simple binary search tree does not do balancing.\n"
   ]
  },
  {
   "cell_type": "markdown",
   "metadata": {},
   "source": [
    "## R-11.3\n",
    "How many different binary search trees can store the keys $ \\{1, 2, 3\\} $ ?"
   ]
  },
  {
   "cell_type": "markdown",
   "metadata": {},
   "source": [
    "Solution: Three  \n",
    "1. When 1 is at root\n",
    "2. When 2 is at root\n",
    "3. When 3 is at root"
   ]
  },
  {
   "cell_type": "markdown",
   "metadata": {},
   "source": [
    "## R-11.4\n",
    "Dr. Amongus claims that the order in which a fixed set of entries is inserted into a binary search tree does not matter—the same tree results every time. Give a small example that proves he is wrong."
   ]
  },
  {
   "cell_type": "markdown",
   "metadata": {},
   "source": [
    "Solution: The root of a binary search tree is determined by which element is inserted first. So there are at least as many trees as the number of entries."
   ]
  },
  {
   "cell_type": "markdown",
   "metadata": {},
   "source": [
    "## R-11.5\n",
    "Dr. Amongus claims that the order in which a fixed set of entries is inserted into an AVL tree does not matter—the same AVL tree results every time. Give a small example that proves he is wrong.\n"
   ]
  },
  {
   "cell_type": "markdown",
   "metadata": {},
   "source": [
    "Solution: For three elements, same AVL tree is formed. But when we take four elements {1,2,3,4} and once create a tree by inserting elements in increasing order of keys, and then another tree by inserting elements in decreasing order of keys we get different AVL trees."
   ]
  },
  {
   "cell_type": "markdown",
   "metadata": {},
   "source": [
    "## R-11.6\n",
    "Our implementation of the `TreeMap._subtree_search` utility, from Code Fragment 11.4, relies on recursion. For a large unbalanced tree, Python’s default limit on recursive depth may be prohibitive. Give an alternative implementation of that method that does not rely on the use of recursion."
   ]
  },
  {
   "cell_type": "code",
   "execution_count": 28,
   "metadata": {},
   "outputs": [],
   "source": [
    "def _subtree_search(tree, p, k):\n",
    "    while (tree.left(p) or tree.right(p)) and p.key() != k:\n",
    "        if k < p.key():\n",
    "            p = tree.left(p)\n",
    "        else:\n",
    "            p = tree.right(p)\n",
    "    return p"
   ]
  },
  {
   "cell_type": "code",
   "execution_count": 31,
   "metadata": {},
   "outputs": [
    {
     "name": "stdout",
     "output_type": "stream",
     "text": [
      "40\n",
      "13\n"
     ]
    }
   ],
   "source": [
    "TM = TreeMap()\n",
    "for i in [30, 40, 24, 58, 48, 26, 11, 13]:\n",
    "    TM[i] = i\n",
    "# when we search a key that exists in tree\n",
    "k = 40\n",
    "p = _subtree_search(TM, TM.root(), k) # returns the position of key\n",
    "print(p.element()._key)\n",
    "\n",
    "# when we search a key that doesn't exist\n",
    "k = 20\n",
    "p = _subtree_search(TM, TM.root(), k) # returns the position where key should be added\n",
    "print(p.element()._key)"
   ]
  },
  {
   "cell_type": "markdown",
   "metadata": {},
   "source": [
    "## R-11.7\n",
    "Do the trinode restructurings in Figures 11.12 and 11.14 result in single or double rotations?"
   ]
  },
  {
   "cell_type": "markdown",
   "metadata": {},
   "source": [
    "Solution:\n",
    "* Fig 11.12 : Double rotation\n",
    "* Fig 11.14 : Single rotation"
   ]
  },
  {
   "cell_type": "markdown",
   "metadata": {},
   "source": [
    "## R-11.8\n",
    "Draw the AVL tree resulting from the insertion of an entry with key $ 52 $ into the AVL tree of Figure 11.14b."
   ]
  },
  {
   "cell_type": "code",
   "execution_count": null,
   "metadata": {},
   "outputs": [],
   "source": []
  }
 ],
 "metadata": {
  "kernelspec": {
   "display_name": "Python 3",
   "language": "python",
   "name": "python3"
  },
  "language_info": {
   "codemirror_mode": {
    "name": "ipython",
    "version": 3
   },
   "file_extension": ".py",
   "mimetype": "text/x-python",
   "name": "python",
   "nbconvert_exporter": "python",
   "pygments_lexer": "ipython3",
   "version": "3.12.0"
  }
 },
 "nbformat": 4,
 "nbformat_minor": 2
}
