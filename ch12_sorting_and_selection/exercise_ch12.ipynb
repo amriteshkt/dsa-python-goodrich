{
 "cells": [
  {
   "cell_type": "code",
   "execution_count": 1,
   "metadata": {},
   "outputs": [],
   "source": [
    "from merge import merge\n",
    "from merge_sort import merge_sort\n",
    "from queue_merge import queue_merge\n",
    "from queue_merge_sort import queue_merge_sort\n",
    "from inplace_quick_sort import inplace_quick_sort"
   ]
  },
  {
   "cell_type": "markdown",
   "metadata": {},
   "source": [
    "# Reinforcement"
   ]
  },
  {
   "cell_type": "markdown",
   "metadata": {},
   "source": [
    "## R-12.1\n",
    "Give a complete justification of Proposition 12.1."
   ]
  },
  {
   "cell_type": "markdown",
   "metadata": {},
   "source": [
    "Solution:  \n",
    "__Proposition 12.1__: The merge-sort tree associated with an execution of merge-sort on a sequence of size $ n $ has height $ \\lceil \\log_{}n \\rceil $.  \n",
    "Each time we are dividing the sequence by 2 until we get a sequence having single element. This gives us a log function with base 2.  \n",
    "The ceiling function is used when we have number of elements which are not power of 2."
   ]
  },
  {
   "cell_type": "markdown",
   "metadata": {},
   "source": [
    "## R-12.2\n",
    "In the merge-sort tree shown in Figures 12.2 through 12.4, some edges are drawn as arrows. What is the meaning of a downward arrow? How about an upward arrow?"
   ]
  },
  {
   "cell_type": "markdown",
   "metadata": {},
   "source": [
    "Solution: Downward arrow - new recursive call.  \n",
    "Upward arrow - return value of a function."
   ]
  },
  {
   "cell_type": "markdown",
   "metadata": {},
   "source": [
    "## R-12.3\n",
    "Show that the running time of the merge-sort algorithm on an $ n $ -element sequence is $ O(n \\log n) $, even when $ n $ is not a power of $ 2 $."
   ]
  },
  {
   "cell_type": "markdown",
   "metadata": {},
   "source": [
    "Solution:  \n",
    "$ n \\lceil \\log n \\rceil  \\leq n (\\log n + 1) $  \n",
    "$ n \\lceil \\log n \\rceil  \\leq n \\log n + n $ for $ n \\gt 2 $  \n",
    "$ n \\lceil \\log n \\rceil $ is $ O(n \\log n) $"
   ]
  },
  {
   "cell_type": "markdown",
   "metadata": {},
   "source": [
    "## R-12.4\n",
    "Is our array-based implementation of merge-sort given in Section 12.2.2 stable? Explain why or why not."
   ]
  },
  {
   "cell_type": "markdown",
   "metadata": {},
   "source": [
    "Solution: A sorting algorithm is considered stable if two keys are equal, and their order before and after sorting is same.  \n",
    "Example: $ (k_1,v_1) $ and $ (k_2,v_2) $ are key value pairs such that $ k_1 = k_2 $. If $ k_1 $ comes before $ k_2 $ in original sequence, then $ k_1 $ must come before $ k_2 $ after sorting.\n",
    "\n",
    "A sorting algorithm (like quick-sort or heap-sort) that swaps keys can change the order of duplicate keys.  \n",
    "This is not the case with merge-sort. Absence of swapping makes merge-sort a stable sorting algorithm."
   ]
  },
  {
   "cell_type": "markdown",
   "metadata": {},
   "source": [
    "## R-12.5\n",
    "Is our linked-list-based implementation of merge-sort given in Code Fragment 12.3 stable? Explain why or why not."
   ]
  },
  {
   "cell_type": "markdown",
   "metadata": {},
   "source": [
    "Solution: LinkedQueue uses FIFO. This ensures the order of equal keys (duplicate keys) are preserved before and after sorting."
   ]
  },
  {
   "cell_type": "markdown",
   "metadata": {},
   "source": [
    "# R-12.6\n",
    "An algorithm that sorts key-value entries by key is said to be straggling if, any time two entries $ e_i $ and $ e_j $ have equal keys, but $ e_i $ appears before $ e_j $ in the input, then the algorithm places $ e_i $ after $ e_j $ in the output. Describe a change to the merge-sort algorithm in Section 12.2 to make it straggling.\n"
   ]
  },
  {
   "cell_type": "markdown",
   "metadata": {},
   "source": [
    "Solution: If we change the comparison condition from 'striclty less than' to 'less than or equal to' then the merge-sort will become straggling."
   ]
  },
  {
   "cell_type": "markdown",
   "metadata": {},
   "source": [
    "# R-12.7\n",
    "Suppose we are given two $n$-element sorted sequences $ A $ and $ B $ each with distinct elements, but potentially some elements that are in both sequences. Describe an $ O(n) $ -time method for computing a sequence representing the union $ A \\cup B $ (with no duplicates) as a sorted sequence."
   ]
  },
  {
   "cell_type": "code",
   "execution_count": 16,
   "metadata": {},
   "outputs": [
    {
     "name": "stdout",
     "output_type": "stream",
     "text": [
      "[1, 2, 3, 4, 5, 6, 7, 8, 9]\n"
     ]
    }
   ],
   "source": [
    "def union_merge(S1, S2):\n",
    "    S = list()\n",
    "    i = j = 0\n",
    "    while i+j < len(S1)+len(S2):    # to scan entire S1 and S2\n",
    "        if j == len(S2) or (i < len(S1) and S1[i] < S2[j]):\n",
    "            S.append(S1[i])\n",
    "            i += 1\n",
    "        elif j == len(S2) or (i < len(S1) and S1[i] == S2[j]):  # append i and skip j\n",
    "            S.append(S1[i])\n",
    "            i += 1\n",
    "            j += 1    \n",
    "        else:\n",
    "            S.append(S2[j])\n",
    "            j += 1\n",
    "    return S\n",
    "\n",
    "S1 = [1,2,3,4,5,6]\n",
    "S2 = [4,6,7,8,9]\n",
    "print(union_merge(S1,S2))"
   ]
  },
  {
   "cell_type": "code",
   "execution_count": null,
   "metadata": {},
   "outputs": [],
   "source": []
  }
 ],
 "metadata": {
  "kernelspec": {
   "display_name": "Python 3",
   "language": "python",
   "name": "python3"
  },
  "language_info": {
   "codemirror_mode": {
    "name": "ipython",
    "version": 3
   },
   "file_extension": ".py",
   "mimetype": "text/x-python",
   "name": "python",
   "nbconvert_exporter": "python",
   "pygments_lexer": "ipython3",
   "version": "3.12.0"
  }
 },
 "nbformat": 4,
 "nbformat_minor": 2
}
