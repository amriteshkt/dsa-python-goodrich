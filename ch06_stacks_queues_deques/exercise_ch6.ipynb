{
  "nbformat": 4,
  "nbformat_minor": 0,
  "metadata": {
    "colab": {
      "provenance": []
    },
    "kernelspec": {
      "name": "python3",
      "display_name": "Python 3"
    },
    "language_info": {
      "name": "python"
    }
  },
  "cells": [
    {
      "cell_type": "markdown",
      "source": [
        "# Textbook Topics"
      ],
      "metadata": {
        "id": "clc0WnuEq_Nf"
      }
    },
    {
      "cell_type": "markdown",
      "source": [
        "## Implementing a Stack Using a Python List."
      ],
      "metadata": {
        "id": "67HqpBCkrI2s"
      }
    },
    {
      "cell_type": "markdown",
      "source": [
        "first we define a `Empty` class as a subclass of Python `Exception` class to raise a custom exception when the stack is empty."
      ],
      "metadata": {
        "id": "fri4Hl3dsIpO"
      }
    },
    {
      "cell_type": "code",
      "source": [
        "class Empty(Exception):\n",
        "    pass"
      ],
      "metadata": {
        "id": "OGHAip1Lszvw"
      },
      "execution_count": null,
      "outputs": []
    },
    {
      "cell_type": "code",
      "source": [
        "\"\"\"Basic example of an adapter class to provide a stack interface to Python's list.\"\"\"\n",
        "\n",
        "class ArrayStack:\n",
        "    \"\"\"LIFO Stack implementation using a Python list as underlying storage.\"\"\"\n",
        "\n",
        "    def __init__(self):\n",
        "        \"\"\"Create an empty stack.\n",
        "        If the length of stack is fixed then use [0]*n, to initialise the list,\n",
        "        and put n in parameter in __init__\"\"\"\n",
        "        self._data = []                       # nonpublic list instance\n",
        "\n",
        "    def __len__(self):\n",
        "        \"\"\"Return the number of elements in the stack.\"\"\"\n",
        "        return len(self._data)\n",
        "\n",
        "    def is_empty(self):\n",
        "        \"\"\"Return True if the stack is empty.\"\"\"\n",
        "        return len(self._data) == 0\n",
        "\n",
        "    def push(self, e):\n",
        "        \"\"\"Add element e to the top of the stack.\"\"\"\n",
        "        self._data.append(e)                  # new item stored at end of list\n",
        "\n",
        "    def top(self):\n",
        "        \"\"\"Return (but do not remove) the element at the top of the stack.\n",
        "\n",
        "        Raise Empty exception if the stack is empty.\n",
        "        \"\"\"\n",
        "        if self.is_empty():\n",
        "            raise Empty('Stack is empty')\n",
        "        return self._data[-1]                 # the last item in the list\n",
        "\n",
        "    def pop(self):\n",
        "        \"\"\"Remove and return the element from the top of the stack (i.e., LIFO).\n",
        "\n",
        "        Raise Empty exception if the stack is empty.\n",
        "        \"\"\"\n",
        "        if self.is_empty():\n",
        "            raise Empty('Stack is empty')\n",
        "        return self._data.pop()               # remove last item from list"
      ],
      "metadata": {
        "id": "xSs24d3LrSz-"
      },
      "execution_count": null,
      "outputs": []
    },
    {
      "cell_type": "markdown",
      "source": [
        "## A Python Queue Implementation"
      ],
      "metadata": {
        "id": "f7SYd8i8t5uz"
      }
    },
    {
      "cell_type": "code",
      "source": [
        "class ArrayQueue:\n",
        "    \"\"\"FIFO queue implementation using a Python list as underlying storage.\"\"\"\n",
        "    DEFAULT_CAPACITY = 10          # moderate capacity for all new queues\n",
        "\n",
        "    def __init__(self):\n",
        "        \"\"\"Create an empty queue.\"\"\"\n",
        "        self._data = [None] * ArrayQueue.DEFAULT_CAPACITY\n",
        "        self._size = 0\n",
        "        self._front = 0\n",
        "\n",
        "    def __len__(self):\n",
        "        \"\"\"Return the number of elements in the queue.\"\"\"\n",
        "        return self._size   # we cannot use len(self._data) here.\n",
        "\n",
        "    def is_empty(self):\n",
        "        \"\"\"Return True if the queue is empty.\"\"\"\n",
        "        return self._size == 0\n",
        "\n",
        "    def first(self):\n",
        "        \"\"\"Return (but do not remove) the element at the front of the queue.\n",
        "\n",
        "        Raise Empty exception if the queue is empty.\n",
        "        \"\"\"\n",
        "        if self.is_empty():\n",
        "            raise Empty('Queue is empty')\n",
        "        return self._data[self._front]\n",
        "\n",
        "    def dequeue(self):\n",
        "        \"\"\"Remove and return the first element of the queue (i.e., FIFO).\n",
        "\n",
        "        Raise Empty exception if the queue is empty.\n",
        "        \"\"\"\n",
        "        if self.is_empty():\n",
        "            raise Empty('Queue is empty')\n",
        "        answer = self._data[self._front]\n",
        "        self._data[self._front] = None         # help garbage collection\n",
        "        self._front = (self._front + 1) % len(self._data)\n",
        "        self._size -= 1\n",
        "        return answer\n",
        "\n",
        "    def enqueue(self, e):\n",
        "        \"\"\"Add an element to the back of queue.\"\"\"\n",
        "        if self._size == len(self._data):\n",
        "            self._resize(2 * len(self.data))     # double the array size\n",
        "        avail = (self._front + self._size) % len(self._data)\n",
        "        self._data[avail] = e\n",
        "        self._size += 1\n",
        "\n",
        "    def _resize(self, cap):                  # we assume cap >= len(self)\n",
        "        \"\"\"Resize to a new list of capacity >= len(self).\"\"\"\n",
        "        old = self._data                       # keep track of existing list\n",
        "        self._data = [None] * cap              # allocate list with new capacity\n",
        "        walk = self._front\n",
        "        for k in range(self._size):            # only consider existing elements\n",
        "            self._data[k] = old[walk]            # intentionally shift indices\n",
        "            walk = (1 + walk) % len(old)         # use old size as modulus\n",
        "        self._front = 0                        # front has been realigned\n"
      ],
      "metadata": {
        "id": "eHWF45fduEXw"
      },
      "execution_count": null,
      "outputs": []
    },
    {
      "cell_type": "markdown",
      "source": [
        "## Deques in Python Collection Module\n",
        "An implementation of a deque class is available in Pythons standard `collections` module."
      ],
      "metadata": {
        "id": "TOLtgezVxWU8"
      }
    },
    {
      "cell_type": "markdown",
      "source": [
        "# Exercises"
      ],
      "metadata": {
        "id": "1O6m30Icx6Dx"
      }
    },
    {
      "cell_type": "markdown",
      "source": [
        "## R-6.1\n",
        "What values are returned during the following series of stack operations, if executed upon an initially empty stack? `push(5)`, `push(3)`, `pop()`, `push(2)`, `push(8)`, `pop()`, `pop()`, `push(9)`, `push(1)`, `pop()`, `push(7)`, `push(6)`, `pop()`, `pop()`, `push(4)`, `pop()`, `pop()`."
      ],
      "metadata": {
        "id": "UhQ0GFG0xnvF"
      }
    },
    {
      "cell_type": "code",
      "source": [
        "# we create an object of ArrayStack class defined above.\n",
        "stack = ArrayStack()"
      ],
      "metadata": {
        "id": "8NfLJmNBzWDO"
      },
      "execution_count": null,
      "outputs": []
    },
    {
      "cell_type": "code",
      "source": [
        "# only pop operation return a value that it removes from the stack.\n",
        "# push simply adds the elements in the stack and return nothing to print.\n",
        "\n",
        "print(len(stack))       # 0, starting with empty stack.\n",
        "print(stack.push(5), end=',')\n",
        "print(stack.push(3), end=',')\n",
        "print(stack.pop(), end=',')\n",
        "print(stack.push(2), end=',')\n",
        "print(stack.push(8), end=',')\n",
        "print(stack.pop(), end=',')\n",
        "print(stack.pop(), end=',')\n",
        "print(stack.push(9), end=',')\n",
        "print(stack.push(1), end=',')\n",
        "print(stack.pop(), end=',')\n",
        "print(stack.push(7), end=',')\n",
        "print(stack.push(6), end=',')\n",
        "print(stack.pop(), end=',')\n",
        "print(stack.pop(), end=',')\n",
        "print(stack.push(4), end=',')\n",
        "print(stack.pop(), end=',')\n",
        "print(stack.pop())\n",
        "print(len(stack))\n",
        "# 1, the length of stack after all operations.\n",
        "# total 9 pushes, and 8 pops."
      ],
      "metadata": {
        "colab": {
          "base_uri": "https://localhost:8080/"
        },
        "id": "ZZgAxozlzzWy",
        "outputId": "2345510b-f6fc-46ba-e443-be28ed7e9305"
      },
      "execution_count": null,
      "outputs": [
        {
          "output_type": "stream",
          "name": "stdout",
          "text": [
            "0\n",
            "None,None,3,None,None,8,2,None,None,1,None,None,6,7,None,4,9\n",
            "1\n"
          ]
        }
      ]
    },
    {
      "cell_type": "markdown",
      "source": [
        "## R-6.2\n",
        "Suppose an initially empty stack $ S $ has executed a total of 25 `push` operations, 12 `top` operations, and 10 `pop` operations, 3 of which raised `Empty` errors that were caught and ignored. What is the current size of $ S $?"
      ],
      "metadata": {
        "id": "-pfj5dWbnc5s"
      }
    },
    {
      "cell_type": "markdown",
      "source": [
        "Solution:\n",
        "1. 25 `push` operations, led to total size of 25.\n",
        "2. 12 `top` operations, don't affect size.\n",
        "3. 10 `pop` operation, out of which 3 raised `Empty` errors. It means only 7 were effective in reducing the size of $ S $ by 7.\n",
        "\n",
        "The current size of $ S $ is $ (+25)+(-7) = 18 $."
      ],
      "metadata": {
        "id": "1Dn5Vr_zoJHp"
      }
    },
    {
      "cell_type": "markdown",
      "source": [
        "## R-6.3\n",
        "Implement a function with signature `transfer(S, T)` that transfers all elements from stack $ S $ onto stack $ T $, so that the element that starts at the top of $ S $ is the first to be inserted onto $ T $, and the element at the bottom of $ S $ ends up at the top of $ T $."
      ],
      "metadata": {
        "id": "2vWpuYKi83Bo"
      }
    },
    {
      "cell_type": "code",
      "source": [
        "def transfer(S, T):\n",
        "    for i in range(len(S)):\n",
        "        T.push(S.pop())"
      ],
      "metadata": {
        "id": "xXcjXI9Z0joV"
      },
      "execution_count": null,
      "outputs": []
    },
    {
      "cell_type": "code",
      "source": [
        "S = ArrayStack()\n",
        "print(f'the length of S before push: {len(S)}')\n",
        "for i in [34,12,56,78]:\n",
        "    S.push(i)\n",
        "print(f'the length of S after push: {len(S)}, and its top element is: {S.top()}')\n",
        "T = ArrayStack()\n",
        "print(f'the length of T before \"transfer(S, T)\": {len(T)}')\n",
        "transfer(S, T)\n",
        "print(f'the length of T after \"transfer(S, T)\": {len(T)} and its top element is {T.top()}')"
      ],
      "metadata": {
        "colab": {
          "base_uri": "https://localhost:8080/"
        },
        "id": "Sp5chTcP4wFY",
        "outputId": "a7482531-a9cb-4102-af6b-82ee4509f136"
      },
      "execution_count": null,
      "outputs": [
        {
          "output_type": "stream",
          "name": "stdout",
          "text": [
            "the length of S before push: 0\n",
            "the length of S after push: 4, and its top element is: 78\n",
            "the length of T before \"transfer(S, T)\": 0\n",
            "the length of T after \"transfer(S, T)\": 4 and its top element is 34\n"
          ]
        }
      ]
    },
    {
      "cell_type": "markdown",
      "source": [
        "## R-6.4\n",
        "Give a recursive method for removing all the elements from a stack."
      ],
      "metadata": {
        "id": "_pwpDYkv9Lz9"
      }
    },
    {
      "cell_type": "code",
      "source": [
        "def recursive_pop(rec_stack, n):\n",
        "    if n == 0:\n",
        "        return 'All elements removed from stack.'\n",
        "    rec_stack.pop()\n",
        "    return recursive_pop(rec_stack, n-1)"
      ],
      "metadata": {
        "id": "s5YaGnZ85aYP"
      },
      "execution_count": null,
      "outputs": []
    },
    {
      "cell_type": "code",
      "source": [
        "newstack = ArrayStack()\n",
        "for i in [76,87,12,90,23]:\n",
        "    newstack.push(i)\n",
        "n = len(newstack)\n",
        "print(f'the size of stack before applying \"recursive_pop(rec_stack, n)\": {n}')\n",
        "print(recursive_pop(newstack,n))\n",
        "print(f'the size of stack after applying \"recursive_pop(rec_stack, n)\": {len(newstack)}')"
      ],
      "metadata": {
        "colab": {
          "base_uri": "https://localhost:8080/"
        },
        "id": "xG4sYeh27kL6",
        "outputId": "bed00b48-f2ac-400b-e8ec-7fd25806dfd9"
      },
      "execution_count": null,
      "outputs": [
        {
          "output_type": "stream",
          "name": "stdout",
          "text": [
            "the size of stack before applying \"recursive_pop(rec_stack, n)\": 5\n",
            "All elements removed from stack.\n",
            "the size of stack after applying \"recursive_pop(rec_stack, n)\": 0\n"
          ]
        }
      ]
    },
    {
      "cell_type": "markdown",
      "source": [
        "## R-6.5\n",
        "Implement a function that reverses a list of elements by pushing them on to a stack in one order, and writing them back to the list in reversed order.\n"
      ],
      "metadata": {
        "id": "OeZHkssz9Ytg"
      }
    },
    {
      "cell_type": "code",
      "source": [
        "def reverse_through_stack(L):\n",
        "    \"\"\"Create an ArrayStack class object.\n",
        "    We have already defined ArrayStack class at the start of this document.\"\"\"\n",
        "    stack = ArrayStack()\n",
        "    for i in L:\n",
        "        stack.push(i)\n",
        "    for i in range(len(stack)):\n",
        "        \"\"\"Not using i in stack, because ArrayStack class doesn't have\n",
        "        __contains__()\"\"\"\n",
        "        L[i] = stack.pop()\n",
        "    return L"
      ],
      "metadata": {
        "id": "B4aOAHc48c5-"
      },
      "execution_count": null,
      "outputs": []
    },
    {
      "cell_type": "code",
      "source": [
        "\"\"\"L is the list of elements that need to be reversed using stack.\"\"\"\n",
        "L = [34,65,12,67,33,78]\n",
        "print(reverse_through_stack(L))"
      ],
      "metadata": {
        "colab": {
          "base_uri": "https://localhost:8080/"
        },
        "id": "Weukm9j5NnNM",
        "outputId": "1ec40c68-a80d-4ce7-9dff-ad814c8023db"
      },
      "execution_count": null,
      "outputs": [
        {
          "output_type": "stream",
          "name": "stdout",
          "text": [
            "[78, 33, 67, 12, 65, 34]\n"
          ]
        }
      ]
    },
    {
      "cell_type": "markdown",
      "source": [
        "## R-6.6\n",
        "Give a precise and complete definition of the concept of matching for grouping symbols in an arithmetic expression. Your definition may be recursive."
      ],
      "metadata": {
        "id": "QitzRJ98N_j8"
      }
    },
    {
      "cell_type": "code",
      "source": [
        "def match_symbols(expression):\n",
        "    open = '({['\n",
        "    close = ')}]'\n",
        "    \"\"\"Implement dictionary to chech if top of stack matches its opposite.\"\"\"\n",
        "    dct = {'(':')', '{':'}', '[':']'}\n",
        "\n",
        "    stack = ArrayStack()\n",
        "\n",
        "    for i in expression:\n",
        "        if i in open:\n",
        "            stack.push(i)\n",
        "        elif i in close:\n",
        "            if stack.is_empty():\n",
        "                return 'incorrect expression!'\n",
        "            if i != dct[stack.top()]:\n",
        "                return 'incorrect expression!'\n",
        "            stack.pop()\n",
        "\n",
        "    if stack.is_empty():\n",
        "        return 'correct expression!'\n",
        "    return 'incorrect expression!'"
      ],
      "metadata": {
        "id": "bmUbwuH8NvOH"
      },
      "execution_count": null,
      "outputs": []
    },
    {
      "cell_type": "code",
      "source": [
        "print(match_symbols('x+y'))"
      ],
      "metadata": {
        "colab": {
          "base_uri": "https://localhost:8080/"
        },
        "id": "gh-Ufb5cQ6u9",
        "outputId": "ddc6c0c5-ab99-4788-8b49-2cb6eb9cfbdd"
      },
      "execution_count": null,
      "outputs": [
        {
          "output_type": "stream",
          "name": "stdout",
          "text": [
            "correct expression!\n"
          ]
        }
      ]
    },
    {
      "cell_type": "markdown",
      "source": [
        "Recursive Approach to solve the same problem."
      ],
      "metadata": {
        "id": "cjFaGZy5RE1K"
      }
    },
    {
      "cell_type": "code",
      "source": [
        "def recursive_match_symbols(expression, low, high, stack_s):\n",
        "    open = '({['\n",
        "    close = ')}]'\n",
        "    dct = {'(':')', '{':'}', '[':']'}\n",
        "    if low > high and stack_s.is_empty():\n",
        "        return 'correct expression!'\n",
        "    if low > high and not stack_s.is_empty():\n",
        "        return 'incorrect expression!'\n",
        "    if expression[low] in open:\n",
        "        stack_s.push(expression[low])\n",
        "    if expression[low] in close:\n",
        "        if stack_s.is_empty():\n",
        "            return 'incorrect expression!'\n",
        "        if expression[low] != dct[stack_s.top()]:\n",
        "            return 'incorrect expression!'\n",
        "        stack_s.pop()\n",
        "    return recursive_match_symbols(expression, low+1, high, stack_s)"
      ],
      "metadata": {
        "id": "J2bsauzYjqWO"
      },
      "execution_count": null,
      "outputs": []
    },
    {
      "cell_type": "code",
      "source": [
        "expression = '[{(x)+y}]'\n",
        "low = 0\n",
        "high = len(expression) - 1\n",
        "stack_s = ArrayStack()\n",
        "print(recursive_match_symbols(expression, low, high, stack_s))"
      ],
      "metadata": {
        "colab": {
          "base_uri": "https://localhost:8080/"
        },
        "id": "wPvM1ZhrpYdR",
        "outputId": "049c1961-dc84-4cb2-acff-eef4557580d7"
      },
      "execution_count": null,
      "outputs": [
        {
          "output_type": "stream",
          "name": "stdout",
          "text": [
            "correct expression!\n"
          ]
        }
      ]
    },
    {
      "cell_type": "markdown",
      "source": [
        "## R-6.7\n",
        "What values are returned during the following sequence of queue operations, if executed on an initially empty queue? `enqueue(5)`, `enqueue(3)`, `dequeue()`, `enqueue(2)`, `enqueue(8)`, `dequeue()`, `dequeue()`, `enqueue(9)`, `enqueue(1)`, `dequeue()`, `enqueue(7)`, `enqueue(6)`, `dequeue()`, `dequeue()`, `enqueue(4)`, `dequeue()`, `dequeue()`."
      ],
      "metadata": {
        "id": "a6tkz4OTp7G-"
      }
    },
    {
      "cell_type": "code",
      "source": [
        "queue = ArrayQueue()    # creates a queue of 10 none elements.\n",
        "print(queue.enqueue(5), end = ',')\n",
        "print(queue.enqueue(3), end = ',')\n",
        "print(queue.dequeue(), end = ',')\n",
        "print(queue.enqueue(2), end = ',')\n",
        "print(queue.enqueue(8), end = ',')\n",
        "print(queue.dequeue(), end = ',')\n",
        "print(queue.dequeue(), end = ',')\n",
        "print(queue.enqueue(9), end = ',')\n",
        "print(queue.enqueue(1), end = ',')\n",
        "print(queue.dequeue(), end = ',')\n",
        "print(queue.enqueue(7), end = ',')\n",
        "print(queue.enqueue(6), end = ',')\n",
        "print(queue.dequeue(), end = ',')\n",
        "print(queue.dequeue(), end = ',')\n",
        "print(queue.enqueue(4), end = ',')\n",
        "print(queue.dequeue(), end = ',')\n",
        "print(queue.dequeue())\n",
        "print(queue.first())"
      ],
      "metadata": {
        "colab": {
          "base_uri": "https://localhost:8080/"
        },
        "id": "LF7OZ8J4OPHU",
        "outputId": "a6e133dd-fd43-4e39-ed60-af4d0dbb926b"
      },
      "execution_count": null,
      "outputs": [
        {
          "output_type": "stream",
          "name": "stdout",
          "text": [
            "None,None,5,None,None,3,2,None,None,8,None,None,9,1,None,7,6\n",
            "4\n"
          ]
        }
      ]
    },
    {
      "cell_type": "markdown",
      "source": [
        "## R-6.8\n",
        "Suppose an initially empty queue $ Q $ has executed a total of 32 `enqueue` operations, 10 `first` operations, and 15 `dequeue` operations, 5 of which raised `Empty` errors that were caught and ignored. What is the current size of $ Q $?"
      ],
      "metadata": {
        "id": "tU31Q09up5Mg"
      }
    },
    {
      "cell_type": "markdown",
      "source": [
        "Solution:\n",
        "1. 32 `enqueue` operations, led to total size of 32.\n",
        "2. 10 `first` operations, don't affect size.\n",
        "3. 15 `dequeue` operations, out of which 5 raised `Empty` errors. It means only 10 were effective in reducing the size of $ Q $ by 10.\n",
        "\n",
        "The current size of $ Q $ is $ (+32)+(-10) = 22 $."
      ],
      "metadata": {
        "id": "e1xj_ffjqdLa"
      }
    },
    {
      "cell_type": "markdown",
      "source": [
        "## R-6.9\n",
        "Had the queue of the previous problem been an instance of `ArrayQueue` that used an initial array of capacity 30, and had its size never been greater than 30, what would be the final value of the `_front` instance variable?"
      ],
      "metadata": {
        "id": "aOqgMsmZrR1R"
      }
    },
    {
      "cell_type": "markdown",
      "source": [
        "Solution: The value of `self._front` changes in two cases in `ArrayQueue` class:\n",
        "1. When we perform `dequeue` operation, the `self._front` increments by 1 each time.\n",
        "2. When resize happens as a result of performing `enqueue` operation. `self._front` is assigned 0 in this case.\n",
        "\n",
        "The problem clearly states that size of the queue never exceeded initial capacity, which means that resize operation never happened. It means that `self._front` variable was only changed by `dequeue` operation. 10 effective `dequeue` operations led to `self._front` = 10."
      ],
      "metadata": {
        "id": "-1qMC50ssrVo"
      }
    },
    {
      "cell_type": "markdown",
      "source": [
        "## R-6.10\n",
        "Consider what happens if the loop in the `ArrayQueue._resize` method at lines 53-55 of Code Fragment 6.7\n",
        "```\n",
        "def _resize(self, cap):\n",
        "        old = self._data\n",
        "        self._data = [None] * cap\n",
        "        walk = self._front\n",
        "        for k in range(self._size):\n",
        "            self._data[k] = old[walk]\n",
        "            walk = (1 + walk) % len(old)\n",
        "        self._front = 0\n",
        "```\n",
        "had been implemented as:\n",
        "```\n",
        "for k in range(self. size):\n",
        "    self. data[k] = old[k]     # rather than old[walk]\n",
        "```\n",
        "Give a clear explanation of what could go wrong."
      ],
      "metadata": {
        "id": "4ve_U3jfPGY7"
      }
    },
    {
      "cell_type": "markdown",
      "source": [
        "**Explanation:** The indices of old underlying list are not linear, they are circular due to the fact we have used modular arithmetic while adding to and removing elements from the queue. The first element of the queue is not necessarily the first element(index 0) of the underlying list. If we copy older elements with original indices then it is possible that the first elements of the queue would be be put somewhere in the middle of the new underlying list, and the last element of the queue would be placed in the front. We would not be able to track the first and last element easily, because the variable `self._front` which tells us which element is first in the queue depends upon the length of old list."
      ],
      "metadata": {
        "id": "FNiz4qjUSdxO"
      }
    },
    {
      "cell_type": "markdown",
      "source": [
        "## R-6.11\n",
        "Give a simple adapter that implements our queue ADT while using a `collections.deque` instance for storage."
      ],
      "metadata": {
        "id": "5SQkGXk9UYVN"
      }
    },
    {
      "cell_type": "markdown",
      "source": [
        "Solution: Earlier we used created queue ADT using `list` class object. Now we have to do the same using `collection.deque` object instead of List object.\n",
        "> [Python documentation on collections.deque](https://docs.python.org/3/library/collections.html#collections.deque)"
      ],
      "metadata": {
        "id": "Q3a2bU7pXKWb"
      }
    },
    {
      "cell_type": "code",
      "source": [
        "from collections import deque\n",
        "\n",
        "class QueueCollections:\n",
        "\n",
        "    def __init__(self, iter_elements='', maxlength=None):\n",
        "        \"\"\"If maxlength parameter is used, then if we append an element\n",
        "        to the rightmost of deque when it is full, then the leftmost element is\n",
        "        automatically popped out.\"\"\"\n",
        "        self._data = deque(iter_elements, maxlength)\n",
        "\n",
        "    def __len__(self):\n",
        "        \"\"\"Return the length of queue.\"\"\"\n",
        "        return len(self._data)\n",
        "\n",
        "    def is_empty(self):\n",
        "        \"\"\"Check if the queue is empty.\"\"\"\n",
        "        return len(self._data) == 0\n",
        "\n",
        "    def first(self):\n",
        "        \"\"\"Return the element at the start of the queue.\"\"\"\n",
        "        if self.is_empty():\n",
        "            return Empty('queue is empty!')\n",
        "        return self._data[0]\n",
        "\n",
        "    def dequeue(self):\n",
        "        \"\"\"Remove the element at the start of queue.\"\"\"\n",
        "        if self.is_empty():\n",
        "            return Empty('queue is empty!')\n",
        "        return self._data.popleft()\n",
        "\n",
        "    def enqueue(self, e):\n",
        "        \"\"\"Add the element at the last of queue.\"\"\"\n",
        "        \"\"\"No return statement because append or appendleft doesn't\n",
        "        return anything in collections.deque class.\"\"\"\n",
        "        self._data.append(e)"
      ],
      "metadata": {
        "id": "Csd5laMrX0f3"
      },
      "execution_count": null,
      "outputs": []
    },
    {
      "cell_type": "code",
      "source": [
        "# create an empty queue.\n",
        "queue_using_deque = QueueCollections()\n",
        "for i in range(10,30):\n",
        "    queue_using_deque.enqueue(i)\n",
        "print(len(queue_using_deque))\n",
        "print(f'first element of queue is: {queue_using_deque.first()}')"
      ],
      "metadata": {
        "colab": {
          "base_uri": "https://localhost:8080/"
        },
        "id": "XHRmCjy33YmH",
        "outputId": "c0ec206c-f9b2-4f6b-898b-5f545cebef03"
      },
      "execution_count": null,
      "outputs": [
        {
          "output_type": "stream",
          "name": "stdout",
          "text": [
            "20\n",
            "first element of queue is: 10\n"
          ]
        }
      ]
    },
    {
      "cell_type": "code",
      "source": [
        "# create an empty queue with maxlength parameter.\n",
        "queue_using_deque_maxlen = QueueCollections('', 10)\n",
        "for i in range(10,30):\n",
        "    queue_using_deque_maxlen.enqueue(i)\n",
        "print(len(queue_using_deque_maxlen))\n",
        "print(f'first element of queue when using maxlength is: {queue_using_deque_maxlen.first()}')\n",
        "# notice how only 10 elements are there.\n",
        "# after the queue is full, the 11th element when added pushed the\n",
        "# 1st element out of the queue."
      ],
      "metadata": {
        "colab": {
          "base_uri": "https://localhost:8080/"
        },
        "id": "HcPgEjYc3eKC",
        "outputId": "14d30a74-b6af-4c78-98b2-328f881c4201"
      },
      "execution_count": null,
      "outputs": [
        {
          "output_type": "stream",
          "name": "stdout",
          "text": [
            "10\n",
            "first element of queue when using maxlength is: 20\n"
          ]
        }
      ]
    },
    {
      "cell_type": "code",
      "source": [
        "# create a queue with some elements already present.\n",
        "queue_use_deque = QueueCollections([23,45,67])\n",
        "\n",
        "print(f'the first element of queue is: {queue_use_deque.first()} \\\n",
        "and its length is {len(queue_use_deque)}')\n",
        "queue_use_deque.dequeue()\n",
        "print(f'the first element of queue after one dequeue operation is: \\\n",
        "{queue_use_deque.first()} and its length is {len(queue_use_deque)}')"
      ],
      "metadata": {
        "colab": {
          "base_uri": "https://localhost:8080/"
        },
        "id": "j5_xIJC05t9k",
        "outputId": "35ccca4b-a3de-4104-e469-29de3c294107"
      },
      "execution_count": null,
      "outputs": [
        {
          "output_type": "stream",
          "name": "stdout",
          "text": [
            "the first element of queue is: 23 and its length is 3\n",
            "the first element of queue after one dequeue operation is: 45 and its length is 2\n"
          ]
        }
      ]
    },
    {
      "cell_type": "markdown",
      "source": [
        "**I think using `collections` module is better for creating queue ADT and deque.**"
      ],
      "metadata": {
        "id": "Wv8IdR946_Wk"
      }
    },
    {
      "cell_type": "markdown",
      "source": [
        "## R-6.12\n",
        "What values are returned during the following sequence of deque ADT operations, on initially empty deque? `add_first(4)`, `add_last(8)`, `add_last(9)`, `add_first(5)`, `back()`, `delete_first()`, `delete_last()`, `add_last(7)`, `first()`, `last()`, `add_last(6)`, `delete_first()`, `delete_first`().\n"
      ],
      "metadata": {
        "id": "5VWWZLNE8Zv5"
      }
    },
    {
      "cell_type": "markdown",
      "source": [
        "Solution: We create a Deque class that support the exact operations mentioned in the problem, using `collections` module."
      ],
      "metadata": {
        "id": "sUPgRI3_-wM6"
      }
    },
    {
      "cell_type": "code",
      "source": [
        "from collections import deque\n",
        "\n",
        "class DequeCollections:\n",
        "\n",
        "    def __init__(self, iterable='', maxlength=None):\n",
        "        self._data = deque(iterable, maxlength)\n",
        "\n",
        "    def __len__(self):\n",
        "        return len(self._data)\n",
        "\n",
        "    def is_empty(self):\n",
        "        return len(self._data) == 0\n",
        "\n",
        "    def first(self):\n",
        "        if self.is_empty():\n",
        "            return Empty('Deque is empty!')\n",
        "        return self._data[0]\n",
        "\n",
        "    def last(self):\n",
        "        if self.is_empty():\n",
        "            return Empty('Deque is empty!')\n",
        "        return self._data[-1]\n",
        "\n",
        "    def add_first(self, e):\n",
        "        \"\"\"No return statement because append or appendleft doesn't\n",
        "        return anything in collections.deque class.\"\"\"\n",
        "        self._data.appendleft(e)\n",
        "\n",
        "    def add_last(self, e):\n",
        "        self._data.append(e)\n",
        "\n",
        "    def delete_first(self):\n",
        "        if self.is_empty():\n",
        "            return Empty('Deque is empty!')\n",
        "        return self._data.popleft()\n",
        "\n",
        "    def delete_last(self):\n",
        "        if self.is_empty():\n",
        "            return Empty('Deque is empty!')\n",
        "        return self._data.pop()"
      ],
      "metadata": {
        "id": "kLGTf1r4_I7l"
      },
      "execution_count": null,
      "outputs": []
    },
    {
      "cell_type": "code",
      "source": [
        "deque_obj = DequeCollections()   #create empty deque object.\n",
        "print(deque_obj.add_first(4),end=',')   #[4]\n",
        "print(deque_obj.add_last(8),end=',')    #[4,8]\n",
        "print(deque_obj.add_last(9),end=',')    #[4,8,9]\n",
        "print(deque_obj.add_first(5),end=',')   #[5,4,8,9]\n",
        "# print(deque_obj.back()) # throws error as no attribute named 'back'.\n",
        "print(deque_obj.delete_first(),end=',') #[4,8,9]  removes and returns 5\n",
        "print(deque_obj.delete_last(),end=',')  #[4,8]    removes and returns 9\n",
        "print(deque_obj.add_last(7),end=',')    #[4,8,7]\n",
        "print(deque_obj.first(),end=',')        # returns 4\n",
        "print(deque_obj.last(),end=',')         # returns 7\n",
        "print(deque_obj.add_last(6),end=',')    #[4,8,7,6]\n",
        "print(deque_obj.delete_first(),end=',') #[8,7,6]  removes and returns 4\n",
        "print(deque_obj.delete_first())         #[7,6]    removes and returns 8\n",
        "print(f'length after all opertions: {len(deque_obj)}')"
      ],
      "metadata": {
        "colab": {
          "base_uri": "https://localhost:8080/"
        },
        "id": "slsRlwFhB7cr",
        "outputId": "37b69ae9-5b12-42f7-c677-e2b52e86618c"
      },
      "execution_count": null,
      "outputs": [
        {
          "output_type": "stream",
          "name": "stdout",
          "text": [
            "None,None,None,None,5,9,None,4,7,None,4,8\n",
            "length after all opertions: 2\n"
          ]
        }
      ]
    },
    {
      "cell_type": "markdown",
      "source": [
        "## R-6.13\n",
        "Suppose you have a deque $ D $ containing the numbers $ (1,2,3,4,5,6,7,8) $ , in this order. Suppose further that you have an initially empty queue $ Q $ . Give a code fragment that uses only $ D $ and $ Q $ (and no other variables) and results in $ D $ storing the elements in the order $ (1,2,3,5,4,6,7,8) $ ."
      ],
      "metadata": {
        "id": "SQqQnavoH17W"
      }
    },
    {
      "cell_type": "code",
      "source": [
        "def deque_and_queue(D, Q):\n",
        "    for i in range(len(D)):\n",
        "        Q.enqueue(D.delete_first())\n",
        "        D.add_last(Q.dequeue())"
      ],
      "metadata": {
        "id": "YyQDR2w7OPri"
      },
      "execution_count": null,
      "outputs": []
    },
    {
      "cell_type": "code",
      "source": [
        "# we use the classes that we created in problem R-6.11\n",
        "# and R-6.12 to create deque and queue objects.\n",
        "D = DequeCollections([1,2,3,4,5,6,7,8])\n",
        "Q = QueueCollections()\n",
        "print(f'before the operation, the first element of D: {D.first()}')\n",
        "print(f'before the operation, the last element of D: {D.last()}')\n",
        "print(f'before the operation, the length of D: {len(D)}')\n",
        "deque_and_queue(D, Q)\n",
        "print(f'after the operation, the first element of D: {D.first()}')\n",
        "print(f'after the operation, the last element of D: {D.last()}')\n",
        "print(f'after the operation, the length of D: {len(D)}')"
      ],
      "metadata": {
        "colab": {
          "base_uri": "https://localhost:8080/"
        },
        "id": "DHLQ6KEFPZE7",
        "outputId": "31479463-d302-45df-a4ce-2bb60a7ec9e7"
      },
      "execution_count": null,
      "outputs": [
        {
          "output_type": "stream",
          "name": "stdout",
          "text": [
            "before the operation, the first element of D: 1\n",
            "before the operation, the last element of D: 8\n",
            "before the operation, the length of D: 8\n",
            "after the operation, the first element of D: 1\n",
            "after the operation, the last element of D: 8\n",
            "after the operation, the length of D: 8\n"
          ]
        }
      ]
    },
    {
      "cell_type": "markdown",
      "source": [
        "## R-6.14\n",
        "Repeat the previous problem using the deque $ D $ and an initially empty stack $ S $."
      ],
      "metadata": {
        "id": "P_rSwzg_QRZt"
      }
    },
    {
      "cell_type": "code",
      "source": [
        "def deque_and_stack(D, S):\n",
        "    for i in range(len(D)):\n",
        "        S.push(D.delete_last())\n",
        "        D.add_last(S.pop())"
      ],
      "metadata": {
        "id": "rD3aHJteSaB5"
      },
      "execution_count": null,
      "outputs": []
    },
    {
      "cell_type": "code",
      "source": [
        "D = DequeCollections([1,2,3,4,5,6,7,8])\n",
        "S = ArrayStack()    # create an empty stack.\n",
        "print(f'before the operation, the first element of D: {D.first()}')\n",
        "print(f'before the operation, the last element of D: {D.last()}')\n",
        "print(f'before the operation, the length of D: {len(D)}')\n",
        "deque_and_stack(D, S)\n",
        "print(f'after the operation, the first element of D: {D.first()}')\n",
        "print(f'after the operation, the last element of D: {D.last()}')\n",
        "print(f'after the operation, the length of D: {len(D)}')"
      ],
      "metadata": {
        "colab": {
          "base_uri": "https://localhost:8080/"
        },
        "id": "opVjNmYpSxdC",
        "outputId": "1ab22878-a3a4-40b2-fe4f-d2ff0dc1e6d3"
      },
      "execution_count": null,
      "outputs": [
        {
          "output_type": "stream",
          "name": "stdout",
          "text": [
            "before the operation, the first element of D: 1\n",
            "before the operation, the last element of D: 8\n",
            "before the operation, the length of D: 8\n",
            "after the operation, the first element of D: 1\n",
            "after the operation, the last element of D: 8\n",
            "after the operation, the length of D: 8\n"
          ]
        }
      ]
    },
    {
      "cell_type": "markdown",
      "source": [
        "## C-6.15\n",
        "Suppose Alice has picked three distinct integers and placed them into a stack $ S $ in random order. Write a short, straight-line piece of pseudo-code (with no loops or recursion) that uses only one comparison and only one variable $ x $, yet that results in variable $ x $ storing the largest of Alice's three integers with probability 2/3. Argue why your method is correct.\n"
      ],
      "metadata": {
        "id": "KtllXD4l70i3"
      }
    },
    {
      "cell_type": "markdown",
      "source": [
        "## C-6.16\n",
        "Modify the `ArrayStack` implementation so that the stack's capacity is limited to `maxlen` elements, where `maxlen` is an optional parameter to the constructor (that defaults to None). If `push` is called when the stack is at full capacity, throw a `Full` exception (defined similarly to `Empty`)."
      ],
      "metadata": {
        "id": "jnt7uD977D79"
      }
    },
    {
      "cell_type": "code",
      "source": [
        "class Full(Exception):\n",
        "    pass"
      ],
      "metadata": {
        "id": "mlGu9Xqe0R04"
      },
      "execution_count": null,
      "outputs": []
    },
    {
      "cell_type": "code",
      "source": [
        "class ArrayStackMaxlen:\n",
        "\n",
        "    def __init__(self, maxlen=None):\n",
        "        self._data = []                       # nonpublic list instance\n",
        "        self._maxlen = maxlen\n",
        "\n",
        "    def __len__(self):\n",
        "        return len(self._data)\n",
        "\n",
        "    def is_empty(self):\n",
        "        return len(self._data) == 0\n",
        "\n",
        "    def push(self, e):\n",
        "        if len(self._data) == self._maxlen:\n",
        "            raise Full('The Stack is full!')\n",
        "        self._data.append(e)                  # new item stored at end of list\n",
        "\n",
        "    def top(self):\n",
        "        if self.is_empty():\n",
        "            raise Empty('Stack is empty')\n",
        "        return self._data[-1]                 # the last item in the list\n",
        "\n",
        "    def pop(self):\n",
        "        if self.is_empty():\n",
        "            raise Empty('Stack is empty')\n",
        "        return self._data.pop()               # remove last item from list"
      ],
      "metadata": {
        "id": "FbyZkX2bTSTI"
      },
      "execution_count": null,
      "outputs": []
    },
    {
      "cell_type": "code",
      "source": [
        "stack_maxlen = ArrayStackMaxlen(10)\n",
        "for i in range(10):\n",
        "    stack_maxlen.push(i)\n",
        "print(f'the length of stack_maxlen at its full capacity is: {len(stack_maxlen)}')\n",
        "# stack_maxlen.push(34) this throws full exception as expected."
      ],
      "metadata": {
        "colab": {
          "base_uri": "https://localhost:8080/"
        },
        "id": "VtS4zDcr0fgc",
        "outputId": "0a9b4826-9e94-4ec4-87fc-edcaa02ecdd4"
      },
      "execution_count": null,
      "outputs": [
        {
          "output_type": "stream",
          "name": "stdout",
          "text": [
            "the length of stack_maxlen at its full capacity is: 10\n"
          ]
        }
      ]
    },
    {
      "cell_type": "markdown",
      "source": [
        "## C-6.17\n",
        "In the previous exercise, we assume that the underlying list is initially empty. Redo that exercise, this time preallocating an underlying list with length equal to the stack's maximum capacity."
      ],
      "metadata": {
        "id": "QJwJj5Cr7Zbo"
      }
    },
    {
      "cell_type": "code",
      "source": [
        "class ArrayStackMaxlenModified:\n",
        "\n",
        "    def __init__(self, maxlen):\n",
        "        \"\"\"Preallocating underlying list with length equal to maxlen.\n",
        "        Since this is not an empty list, we cannot use append method\n",
        "        and pop method will not remove the last element of list if\n",
        "        the list is not full.\"\"\"\n",
        "        self._data = [None]*maxlen  #preallocating underlying list.\n",
        "        self._n = 0\n",
        "        self._maxlen = maxlen\n",
        "\n",
        "    def __len__(self):\n",
        "        return self._n\n",
        "\n",
        "    def is_empty(self):\n",
        "        return self._n == 0\n",
        "\n",
        "    def push(self, e):\n",
        "        if self._n == self._maxlen:\n",
        "            raise Full('The Stack is full!')\n",
        "        self._data[self._n] = e\n",
        "        self._n += 1\n",
        "\n",
        "    def top(self):\n",
        "        if self.is_empty():\n",
        "            raise Empty('Stack is empty')\n",
        "        return self._data[self._n - 1]\n",
        "\n",
        "    def pop(self):\n",
        "        if self.is_empty():\n",
        "            raise Empty('Stack is empty')\n",
        "        pop_element = self._data[self._n - 1]\n",
        "        self._data[self._n - 1] = None\n",
        "        self._n -= 1\n",
        "        return pop_element"
      ],
      "metadata": {
        "id": "z60VgDDi1C5O"
      },
      "execution_count": null,
      "outputs": []
    },
    {
      "cell_type": "code",
      "source": [
        "stack_maxlen_modified = ArrayStackMaxlenModified(15)\n",
        "print(f'the stack_maxlen_modified length is: {len(stack_maxlen_modified)}')\n",
        "for i in range(15):\n",
        "    stack_maxlen_modified.push(i)\n",
        "print(f'the stack_maxlen_modified length after pushing 15 elements is: {len(stack_maxlen_modified)} \\\n",
        ", the top element of stack is: {stack_maxlen_modified.top()}')"
      ],
      "metadata": {
        "colab": {
          "base_uri": "https://localhost:8080/"
        },
        "id": "itXKZS414StD",
        "outputId": "fd1ed911-e564-4698-e980-f5a028958206"
      },
      "execution_count": null,
      "outputs": [
        {
          "output_type": "stream",
          "name": "stdout",
          "text": [
            "the stack_maxlen_modified length is: 0\n",
            "the stack_maxlen_modified length after pushing 15 elements is: 15 , the top element of stack is: 14\n"
          ]
        }
      ]
    },
    {
      "cell_type": "code",
      "source": [
        "for i in range(5):\n",
        "    print(stack_maxlen_modified.pop())\n",
        "print(f'the stack_maxlen_modified length after popping 5 elements is: {len(stack_maxlen_modified)} \\\n",
        ", the top element of stack is: {stack_maxlen_modified.top()}')"
      ],
      "metadata": {
        "colab": {
          "base_uri": "https://localhost:8080/"
        },
        "id": "9SmYNXIU5SdZ",
        "outputId": "7f78846c-5332-4dfc-9dcf-594e3eb37a97"
      },
      "execution_count": null,
      "outputs": [
        {
          "output_type": "stream",
          "name": "stdout",
          "text": [
            "14\n",
            "13\n",
            "12\n",
            "11\n",
            "10\n",
            "the stack_maxlen_modified length after popping 5 elements is: 10 , the top element of stack is: 9\n"
          ]
        }
      ]
    },
    {
      "cell_type": "markdown",
      "source": [
        "## C-6.20\n",
        "Describe a nonrecursive algorithm for enumerating all permutations of the numbers $ \\{1,2,...,n\\} $ using an explicit stack."
      ],
      "metadata": {
        "id": "wVtF5R9L9ruj"
      }
    },
    {
      "cell_type": "markdown",
      "source": [
        "The logic to solve this problem is as follows:\n",
        "1. if we have permutations of $ \\{1,2,...,n-1\\} $ elements, the we can place the $ n^{th} $ element at all the places in each permutation one at a time.\n",
        "2. Example: $ \\{1,2\\} $ has permutations $ [[1,2], [2,1]] $. If want permutations for $ \\{1,2,3\\} $, then we place 3 at all places in each element of $ [[1,2], [2,1]] $, like $ [[3, 2, 1], [2, 3, 1], [2, 1, 3], [3, 1, 2], [1, 3, 2], [1, 2, 3]] $."
      ],
      "metadata": {
        "id": "asfRy21e98o8"
      }
    },
    {
      "cell_type": "markdown",
      "source": [
        "First we try to solve the problem using a simple `list` and its `insert` and `pop` method."
      ],
      "metadata": {
        "id": "u0Wz08UPAswe"
      }
    },
    {
      "cell_type": "code",
      "source": [
        "\"\"\"Base Case: When number of elements in the\n",
        "sequence is 0, then return empty list.\"\"\"\n",
        "lst = [[]]\n",
        "t = 0\n",
        "n = 3\n",
        "while t < n:\n",
        "    lst2 = list()\n",
        "    for i in lst:\n",
        "        for j in range(t+1):\n",
        "            i.insert(j,t+1)\n",
        "            k = i.copy()\n",
        "            lst2.append(k) # why not append i directly?\n",
        "            i.pop(j)\n",
        "    lst = lst2\n",
        "    t = t+1\n",
        "print(lst)\n",
        "print(len(lst))"
      ],
      "metadata": {
        "id": "oL-Zm-yH6z68",
        "colab": {
          "base_uri": "https://localhost:8080/"
        },
        "outputId": "ec03b89a-0d9b-4648-d489-1c8d4646bbe0"
      },
      "execution_count": null,
      "outputs": [
        {
          "output_type": "stream",
          "name": "stdout",
          "text": [
            "[[3, 2, 1], [2, 3, 1], [2, 1, 3], [3, 1, 2], [1, 3, 2], [1, 2, 3]]\n",
            "6\n"
          ]
        }
      ]
    },
    {
      "cell_type": "markdown",
      "source": [
        "A `list` stores a reference to an object. If we append `i` to the list directly, and pop out an element of `i` after appending to the list, the list still stores the same reference to object `i`, which now contains one less element."
      ],
      "metadata": {
        "id": "TK--incCBNHw"
      }
    },
    {
      "cell_type": "markdown",
      "source": [
        "Now we try to solve the same problem using stack."
      ],
      "metadata": {
        "id": "637JqUm1CSnk"
      }
    },
    {
      "cell_type": "code",
      "source": [
        "\"\"\"We not improve the code by using only append i.e push\n",
        "and pop of list instead of insert method.\n",
        "Improve the code further by using ArrayStack object\"\"\"\n",
        "seq = [[]]\n",
        "\n",
        "n = 3\n",
        "t = 0\n",
        "while t < n:\n",
        "    lst = list()\n",
        "    for e in seq:\n",
        "        lst2 = list()\n",
        "        for i in range(t+1):\n",
        "            lst1 = list()\n",
        "            #print('value of e: ',e)\n",
        "            #lst.append(seq[:i] + [n] + seq[i:])\n",
        "            for j in e[:i]:\n",
        "                lst1.append(j)\n",
        "            lst1.append(t+1)\n",
        "            for k in e[i:]:\n",
        "                lst1.append(k)\n",
        "            #print(lst1, 'value of i: ',i,'value of t+1: ',t+1)\n",
        "            lst2.append(lst1)\n",
        "        lst = lst + lst2\n",
        "        #print('valie of lst: ', lst)\n",
        "    seq = lst\n",
        "    t = t+1\n",
        "print(seq)"
      ],
      "metadata": {
        "id": "ysVO8XkUU7Nq",
        "colab": {
          "base_uri": "https://localhost:8080/"
        },
        "outputId": "833f04d7-25a4-4748-9245-44ac6154f347"
      },
      "execution_count": null,
      "outputs": [
        {
          "output_type": "stream",
          "name": "stdout",
          "text": [
            "[[3, 2, 1], [2, 3, 1], [2, 1, 3], [3, 1, 2], [1, 3, 2], [1, 2, 3]]\n"
          ]
        }
      ]
    },
    {
      "cell_type": "markdown",
      "source": [
        "Final answer to the problem."
      ],
      "metadata": {
        "id": "GQpcQEawJS_N"
      }
    },
    {
      "cell_type": "code",
      "source": [
        "def permutations_using_stack(n):\n",
        "    seq = [[]]\n",
        "    stack = ArrayStack() # Use of an explicit stack to solve the problem.\n",
        "    t = 0\n",
        "    while t < n:\n",
        "        lst = list()\n",
        "        for e in seq:\n",
        "            lst2 = list()\n",
        "            for i in range(t+1):\n",
        "                for j in e[:i]:\n",
        "                    stack.push(j)\n",
        "                stack.push(t+1)\n",
        "                for k in e[i:]:\n",
        "                    stack.push(k)\n",
        "                lst2.append([stack.pop() for i in range(t+1)])\n",
        "            lst = lst + lst2\n",
        "        seq = lst\n",
        "        t = t+1\n",
        "    return seq"
      ],
      "metadata": {
        "id": "OmgQbS0SCyPr"
      },
      "execution_count": null,
      "outputs": []
    },
    {
      "cell_type": "code",
      "source": [
        "print(permutations_using_stack(2))"
      ],
      "metadata": {
        "colab": {
          "base_uri": "https://localhost:8080/"
        },
        "id": "_sIqgFoHEW1x",
        "outputId": "23a1a075-6fb2-47bf-e23d-078a6f6fc1b4"
      },
      "execution_count": null,
      "outputs": [
        {
          "output_type": "stream",
          "name": "stdout",
          "text": [
            "[[1, 2], [2, 1]]\n"
          ]
        }
      ]
    },
    {
      "cell_type": "markdown",
      "source": [
        "## C-6.21\n",
        "Show how to use a stack $ S $ and a queue $ Q $ to generate all possible subsets of an $ n $-element set $ T $ nonrecursively."
      ],
      "metadata": {
        "id": "eY2oZh36dzGI"
      }
    },
    {
      "cell_type": "markdown",
      "source": [
        "First we use a simple list to develop logic."
      ],
      "metadata": {
        "id": "yHIIUv4JWpIT"
      }
    },
    {
      "cell_type": "code",
      "source": [
        "def subset(T):\n",
        "    final_subset = [[]]\n",
        "    temp_subset = final_subset.copy()\n",
        "\n",
        "    for i in T:\n",
        "        for j in temp_subset:\n",
        "            #print(i,j)\n",
        "            final_subset.append(j+[i])\n",
        "            #print(final_subset)\n",
        "        temp_subset = final_subset.copy()   #temp_subset = final_subset will create an infinite loop.\n",
        "    return final_subset"
      ],
      "metadata": {
        "id": "lJffKDYkeB5F"
      },
      "execution_count": null,
      "outputs": []
    },
    {
      "cell_type": "code",
      "source": [
        "print(len(subset([1,2,3])))"
      ],
      "metadata": {
        "colab": {
          "base_uri": "https://localhost:8080/"
        },
        "id": "s9Xj8Xsriayj",
        "outputId": "ec9819eb-67f7-48ec-bdd9-629b449b876d"
      },
      "execution_count": null,
      "outputs": [
        {
          "output_type": "stream",
          "name": "stdout",
          "text": [
            "8\n"
          ]
        }
      ]
    },
    {
      "cell_type": "markdown",
      "source": [
        "Now, we use stack and queue to find subsets. But it still uses a list instance."
      ],
      "metadata": {
        "id": "V_UCu0wOWvBr"
      }
    },
    {
      "cell_type": "code",
      "source": [
        "def subset_using_stack_and_queue(T):\n",
        "    queue = QueueCollections(T)  # this class was created in R-6.11\n",
        "    stack = ArrayStack()\n",
        "    stack.push([])\n",
        "    result = [[]]\n",
        "    while not queue.is_empty():\n",
        "        t = queue.dequeue()\n",
        "        for i in range(len(result)):\n",
        "            stack.push(result[i] + [t])\n",
        "            result.append(stack.pop())\n",
        "    return result"
      ],
      "metadata": {
        "id": "9F_6Cz-8ieRa"
      },
      "execution_count": null,
      "outputs": []
    },
    {
      "cell_type": "code",
      "source": [
        "print(subset_using_stack_and_queue([1,2,3]))"
      ],
      "metadata": {
        "colab": {
          "base_uri": "https://localhost:8080/"
        },
        "id": "JJdIaW9mtI5Y",
        "outputId": "66277711-5d10-492d-edb1-54c74074cfc3"
      },
      "execution_count": null,
      "outputs": [
        {
          "output_type": "stream",
          "name": "stdout",
          "text": [
            "[[], [1], [2], [1, 2], [3], [1, 3], [2, 3], [1, 2, 3]]\n"
          ]
        }
      ]
    },
    {
      "cell_type": "markdown",
      "source": [
        "Final answer: This solution uses only stack and queue to get the subsets."
      ],
      "metadata": {
        "id": "PZ4uckHbW50n"
      }
    },
    {
      "cell_type": "code",
      "source": [
        "def subset_using_stack_and_queue(T):\n",
        "    queue = QueueCollections(T)  # this class was created in R-6.11\n",
        "    stack = ArrayStack()    # this will help us store subsets.\n",
        "    \"\"\"We create stack to store the subsets. This is not necessary,\n",
        "    as another_queue itself creates and stores subsets,\n",
        "     due to the circular logic that we have used.\"\"\"\n",
        "    stack.push([])\n",
        "    another_queue = QueueCollections() # this will help us create subsets.\n",
        "    another_queue.enqueue([])\n",
        "    t = 1\n",
        "    while not queue.is_empty():\n",
        "        k = queue.dequeue()\n",
        "        for i in range(t):\n",
        "            another_queue.enqueue(another_queue.first())\n",
        "            stack.push(another_queue.first()+[k])   #   this is optional.\n",
        "            another_queue.enqueue(another_queue.dequeue()+ [k])\n",
        "        t = len(another_queue)\n",
        "    return len(stack)\n",
        "    #we can use _data non public instance variable to check our results."
      ],
      "metadata": {
        "id": "ggqDnBKztNfg"
      },
      "execution_count": null,
      "outputs": []
    },
    {
      "cell_type": "code",
      "source": [
        "print(subset_using_stack_and_queue([1,2,3,4]))"
      ],
      "metadata": {
        "colab": {
          "base_uri": "https://localhost:8080/"
        },
        "id": "9mD9zBPxNZdx",
        "outputId": "bf1aa8f2-529b-4d88-9bac-047c263e1e5e"
      },
      "execution_count": null,
      "outputs": [
        {
          "output_type": "stream",
          "name": "stdout",
          "text": [
            "16\n"
          ]
        }
      ]
    },
    {
      "cell_type": "markdown",
      "source": [
        "## C-6.22 Try Again"
      ],
      "metadata": {
        "id": "XHNYYg5aNrg4"
      }
    },
    {
      "cell_type": "code",
      "source": [
        "def postfix_notation(expression):\n",
        "    lst = [i if i not in '()' else ' ' for i in expression]\n",
        "    print(lst)\n",
        "    lst = ''.join(lst)\n",
        "    print(lst)\n",
        "    lst = lst.split(\" \")\n",
        "    print(lst)\n",
        "    lst = [i for i in lst if i != '']\n",
        "    print('cleaned list: ',lst)\n",
        "    for i in range(len(lst)):\n",
        "        if lst[i] in ['+','-','*','/']:\n",
        "            print('value of i: ', i)\n",
        "            temp = lst[i+1]\n",
        "            lst[i+1] = lst[i]\n",
        "            lst[i] = temp\n",
        "    print(lst)\n",
        "    for i in range(len(lst)):\n",
        "        templst = lst[i].split()\n",
        "        for j in range(len(templst)):\n",
        "            if templst[j] in ['+','-','*','/']:\n",
        "                temp = templst[j+1]\n",
        "                templst[j+1] = templst[j]\n",
        "                templst[j] = temp\n",
        "                lst[i] = ''.join(templst)\n",
        "    print(lst)"
      ],
      "metadata": {
        "id": "acAXghLf2n42"
      },
      "execution_count": null,
      "outputs": []
    },
    {
      "cell_type": "code",
      "source": [
        "postfix_notation('((5+2)*(8-3))/4')"
      ],
      "metadata": {
        "colab": {
          "base_uri": "https://localhost:8080/",
          "height": 419
        },
        "id": "J3qbb_F5JKYS",
        "outputId": "13182a39-b84e-4bd7-9d56-c2e4c0a5c209"
      },
      "execution_count": null,
      "outputs": [
        {
          "output_type": "stream",
          "name": "stdout",
          "text": [
            "[' ', ' ', '5', '+', '2', ' ', '*', ' ', '8', '-', '3', ' ', ' ', '/', '4']\n",
            "  5+2 * 8-3  /4\n",
            "['', '', '5+2', '*', '8-3', '', '/4']\n",
            "cleaned list:  ['5+2', '*', '8-3', '/4']\n",
            "value of i:  1\n",
            "value of i:  2\n",
            "value of i:  3\n"
          ]
        },
        {
          "output_type": "error",
          "ename": "IndexError",
          "evalue": "ignored",
          "traceback": [
            "\u001b[0;31m---------------------------------------------------------------------------\u001b[0m",
            "\u001b[0;31mIndexError\u001b[0m                                Traceback (most recent call last)",
            "\u001b[0;32m<ipython-input-79-db518a5bca25>\u001b[0m in \u001b[0;36m<cell line: 1>\u001b[0;34m()\u001b[0m\n\u001b[0;32m----> 1\u001b[0;31m \u001b[0mpostfix_notation\u001b[0m\u001b[0;34m(\u001b[0m\u001b[0;34m'((5+2)*(8-3))/4'\u001b[0m\u001b[0;34m)\u001b[0m\u001b[0;34m\u001b[0m\u001b[0;34m\u001b[0m\u001b[0m\n\u001b[0m",
            "\u001b[0;32m<ipython-input-78-6f9dd563f6cb>\u001b[0m in \u001b[0;36mpostfix_notation\u001b[0;34m(expression)\u001b[0m\n\u001b[1;32m     11\u001b[0m         \u001b[0;32mif\u001b[0m \u001b[0mlst\u001b[0m\u001b[0;34m[\u001b[0m\u001b[0mi\u001b[0m\u001b[0;34m]\u001b[0m \u001b[0;32min\u001b[0m \u001b[0;34m[\u001b[0m\u001b[0;34m'+'\u001b[0m\u001b[0;34m,\u001b[0m\u001b[0;34m'-'\u001b[0m\u001b[0;34m,\u001b[0m\u001b[0;34m'*'\u001b[0m\u001b[0;34m,\u001b[0m\u001b[0;34m'/'\u001b[0m\u001b[0;34m]\u001b[0m\u001b[0;34m:\u001b[0m\u001b[0;34m\u001b[0m\u001b[0;34m\u001b[0m\u001b[0m\n\u001b[1;32m     12\u001b[0m             \u001b[0mprint\u001b[0m\u001b[0;34m(\u001b[0m\u001b[0;34m'value of i: '\u001b[0m\u001b[0;34m,\u001b[0m \u001b[0mi\u001b[0m\u001b[0;34m)\u001b[0m\u001b[0;34m\u001b[0m\u001b[0;34m\u001b[0m\u001b[0m\n\u001b[0;32m---> 13\u001b[0;31m             \u001b[0mtemp\u001b[0m \u001b[0;34m=\u001b[0m \u001b[0mlst\u001b[0m\u001b[0;34m[\u001b[0m\u001b[0mi\u001b[0m\u001b[0;34m+\u001b[0m\u001b[0;36m1\u001b[0m\u001b[0;34m]\u001b[0m\u001b[0;34m\u001b[0m\u001b[0;34m\u001b[0m\u001b[0m\n\u001b[0m\u001b[1;32m     14\u001b[0m             \u001b[0mlst\u001b[0m\u001b[0;34m[\u001b[0m\u001b[0mi\u001b[0m\u001b[0;34m+\u001b[0m\u001b[0;36m1\u001b[0m\u001b[0;34m]\u001b[0m \u001b[0;34m=\u001b[0m \u001b[0mlst\u001b[0m\u001b[0;34m[\u001b[0m\u001b[0mi\u001b[0m\u001b[0;34m]\u001b[0m\u001b[0;34m\u001b[0m\u001b[0;34m\u001b[0m\u001b[0m\n\u001b[1;32m     15\u001b[0m             \u001b[0mlst\u001b[0m\u001b[0;34m[\u001b[0m\u001b[0mi\u001b[0m\u001b[0;34m]\u001b[0m \u001b[0;34m=\u001b[0m \u001b[0mtemp\u001b[0m\u001b[0;34m\u001b[0m\u001b[0;34m\u001b[0m\u001b[0m\n",
            "\u001b[0;31mIndexError\u001b[0m: list index out of range"
          ]
        }
      ]
    },
    {
      "cell_type": "markdown",
      "source": [
        "## C-6.23"
      ],
      "metadata": {
        "id": "51CwfjCe1Y7E"
      }
    },
    {
      "cell_type": "code",
      "source": [
        "def three_stacks(R,S,T):\n",
        "    \"\"\"We cannot use len(S) or len(T) directly in range(),\n",
        "    as pushing and popping changes the len(S) while we are\n",
        "    still inside the loop.\"\"\"\n",
        "    n_s = len(S)\n",
        "    n_t = len(T)\n",
        "    for i in range(n_s):\n",
        "        R.push(S.pop())\n",
        "    for i in range(n_t):\n",
        "        R.push(T.pop())\n",
        "    for i in range(n_s + n_t):\n",
        "        S.push(R.pop())"
      ],
      "metadata": {
        "id": "3LTeYde4NdyZ"
      },
      "execution_count": null,
      "outputs": []
    },
    {
      "cell_type": "code",
      "source": [
        "R = ArrayStack()\n",
        "for i in [1,2,3]:\n",
        "    R.push(i)\n",
        "S = ArrayStack()\n",
        "for i in [4,5]:\n",
        "    S.push(i)\n",
        "T = ArrayStack()\n",
        "for i in [6,7,8,9]:\n",
        "    T.push(i)\n",
        "\n",
        "three_stacks(R,S,T)\n",
        "print(len(S))   # should be sum of original S and T\n",
        "print(S.top())  # shold be the top of S\n",
        "print(len(R))   # should be same as original R\n",
        "print(R.top())  # should be same as original R"
      ],
      "metadata": {
        "colab": {
          "base_uri": "https://localhost:8080/"
        },
        "id": "Hk9df8fq1hbi",
        "outputId": "1d165043-87a1-483a-93e7-af15263e26cd"
      },
      "execution_count": null,
      "outputs": [
        {
          "output_type": "stream",
          "name": "stdout",
          "text": [
            "6\n",
            "5\n",
            "3\n",
            "3\n"
          ]
        }
      ]
    },
    {
      "cell_type": "code",
      "source": [],
      "metadata": {
        "id": "HDDe6YwGJVOF"
      },
      "execution_count": null,
      "outputs": []
    },
    {
      "cell_type": "code",
      "source": [],
      "metadata": {
        "id": "Z1B75Rz4NqHD"
      },
      "execution_count": null,
      "outputs": []
    }
  ]
}