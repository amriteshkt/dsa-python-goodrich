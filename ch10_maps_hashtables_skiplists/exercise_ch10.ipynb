{
 "cells": [
  {
   "cell_type": "code",
   "execution_count": 1,
   "metadata": {},
   "outputs": [],
   "source": [
    "from collections.abc import MutableMapping\n",
    "from map_base import MapBase\n",
    "from unsorted_table_map import UnsortedTableMap\n",
    "from ch7_source_code import PositionalList"
   ]
  },
  {
   "cell_type": "markdown",
   "metadata": {},
   "source": [
    "# Reinforcement"
   ]
  },
  {
   "cell_type": "markdown",
   "metadata": {},
   "source": [
    "## R-10.1\n",
    "Give a concrete implementation of the `pop` method in the context of the `MutableMapping` class, relying only on the five primary abstract methods of that class."
   ]
  },
  {
   "cell_type": "markdown",
   "metadata": {},
   "source": [
    "Solution: The five primary abstract methods of `MutableMapping` class are:\n",
    "1. `__delitem__`\n",
    "2. `__getitem__`\n",
    "3. `__iter__`\n",
    "4. `__len__`\n",
    "5. `__setitem__`"
   ]
  },
  {
   "cell_type": "code",
   "execution_count": 2,
   "metadata": {},
   "outputs": [],
   "source": [
    "class MutMap(UnsortedTableMap): # UnsortedTableMap has overriden all abstract methods of MutableMap\n",
    "    def pop(self, k):\n",
    "        \"\"\"Remove and return (k,v) pair (or raise KeyError).\"\"\"\n",
    "        temp = self[k]\n",
    "        del self[k]     # uses __delitem__ abstract method\n",
    "        return (k, temp)"
   ]
  },
  {
   "cell_type": "code",
   "execution_count": 3,
   "metadata": {},
   "outputs": [
    {
     "name": "stdout",
     "output_type": "stream",
     "text": [
      "[('a', 3), ('b', 5), ('c', 7)]\n",
      "('b', 5)\n",
      "[('a', 3), ('c', 7)]\n"
     ]
    }
   ],
   "source": [
    "map = MutMap()\n",
    "for i in [('a', 3), ('b', 5), ('c', 7)]:\n",
    "        map[i[0]] = i[1]\n",
    "print(list(map.items()))\n",
    "print(map.pop('b'))\n",
    "print(list(map.items()))"
   ]
  },
  {
   "cell_type": "markdown",
   "metadata": {},
   "source": [
    "## R-10.2\n",
    "Give a concrete implementation of the `items()` method in the context of the `MutableMapping` class, relying only on the five primary abstract methods of that class. What would its running time be if directly applied to the `UnsortedTableMap` subclass?"
   ]
  },
  {
   "cell_type": "code",
   "execution_count": 4,
   "metadata": {},
   "outputs": [],
   "source": [
    "class MutMap(UnsortedTableMap):\n",
    "    def items(self):    # items method already exits in MutableMapping, we are overriding it\n",
    "        for k in self:      # uses __iter__ method\n",
    "            yield (k, self[k])      # uses __getitem__method"
   ]
  },
  {
   "cell_type": "code",
   "execution_count": 5,
   "metadata": {},
   "outputs": [
    {
     "name": "stdout",
     "output_type": "stream",
     "text": [
      "[('A', 1), ('B', 2), ('C', 3), ('D', 4), ('E', 5)]\n"
     ]
    }
   ],
   "source": [
    "map = MutMap()\n",
    "for i in [('A', 1), ('B', 2), ('C', 3), ('D', 4), ('E', 5)]:\n",
    "        map[i[0]] = i[1]\n",
    "print(list(map.items()))"
   ]
  },
  {
   "cell_type": "markdown",
   "metadata": {},
   "source": [
    "If we apply `items()` method to `UnsortedTableMap` subclass, as done above, it will take $ O(n) $."
   ]
  },
  {
   "cell_type": "markdown",
   "metadata": {},
   "source": [
    "## R-10.3\n",
    "Give a concrete implementation of the `items()` method directly within the `UnsortedTableMap` class, ensuring that the entire iteration runs in $ O(n) $ time."
   ]
  },
  {
   "cell_type": "markdown",
   "metadata": {},
   "source": [
    "Solution: Similar to previous question."
   ]
  },
  {
   "cell_type": "markdown",
   "metadata": {},
   "source": [
    "## R-10.4\n",
    "What is the worst-case running time for inserting $ n $ key-value pairs into an initially empty map $ M $ that is implemented with the `UnsortedTableMap` class?"
   ]
  },
  {
   "cell_type": "markdown",
   "metadata": {},
   "source": [
    "Solution: Each insertion into `UnsortedTableMap` takes following steps:\n",
    "1. Search through all keys to find find matching key to one being inserted. $ O(n^2) $ by sum of A.P\n",
    "2. If found the key, then update the key. $ O(1) $\n",
    "3. If key is not found, append the (k,v) to table (self._table, a python list). $ O(1) $ amortized  \n",
    "\n",
    "Hence, the worst-case running time is $ O(n^2) $.  \n",
    "The best case is when we are inserting $ (k,v) $ pairs such that key is same everytime. It means we are updating same key over and over. This way there is single element in the map, and step 1 becomes $ O(1) $ for each insertion. For $ n $ insertions, we simply have $ O(n) $."
   ]
  },
  {
   "cell_type": "markdown",
   "metadata": {},
   "source": [
    "## R-10.5\n",
    "Reimplement the `UnsortedTableMap` class from Section 10.1.5, using the `PositionalList` class from Section 7.4 rather than a Python list."
   ]
  },
  {
   "cell_type": "code",
   "execution_count": 6,
   "metadata": {},
   "outputs": [],
   "source": [
    "class UnsortedTableMap(MapBase):\n",
    "\n",
    "    def __init__(self):\n",
    "        self._table = PositionalList()\n",
    "\n",
    "    def __getitem__(self, k):\n",
    "        for item in self._table: # PL supports iteration, yields the elements (here _Item instances)\n",
    "            if k == item._key:\n",
    "                return item._value\n",
    "        raise KeyError('Key Error: ' + repr(k))\n",
    "\n",
    "    def __setitem__(self, k, v):\n",
    "        for item in self._table:\n",
    "            if k == item._key:\n",
    "                item._value = v\n",
    "                return\n",
    "        # did not find match for key\n",
    "        self._table.add_last(self._Item(k,v))   # add _Item objects to PL, similar to append\n",
    "\n",
    "    def __delitem__(self, k):\n",
    "        \"\"\"Remove item associated with key k (raise KeyError if not found).\"\"\"\n",
    "        node = self._table.first()\n",
    "        while node is not None:\n",
    "            if node.element()._key == k:\n",
    "                break\n",
    "            node = self._table.after(node)\n",
    "        if node is not None:\n",
    "            self._table.delete(node)\n",
    "            return\n",
    "        raise KeyError('Key Error: ' + repr(k))\n",
    "\n",
    "    def __len__(self):\n",
    "        \"\"\"Return number of items in the map.\"\"\"\n",
    "        return len(self._table)\n",
    "\n",
    "    def __iter__(self):\n",
    "        \"\"\"Generate iteration of the map's keys.\"\"\"\n",
    "        for item in self._table:\n",
    "            yield item._key"
   ]
  },
  {
   "cell_type": "code",
   "execution_count": 7,
   "metadata": {},
   "outputs": [
    {
     "name": "stdout",
     "output_type": "stream",
     "text": [
      "[('A', 1), ('B', 2), ('C', 3), ('D', 4), ('E', 5)]\n",
      "5\n",
      "3\n",
      "[('A', 1), ('B', 2), ('D', 4), ('E', 5)]\n",
      "4\n",
      "A\n",
      "B\n",
      "D\n",
      "E\n"
     ]
    }
   ],
   "source": [
    "positionalmap = UnsortedTableMap()\n",
    "for i in [('A', 1), ('B', 2), ('C', 3), ('D', 4), ('E', 5)]:\n",
    "        positionalmap[i[0]] = i[1]              # __setitem__ working\n",
    "print(list(positionalmap.items()))\n",
    "print(len(positionalmap))                       # __len__ working\n",
    "\n",
    "print(positionalmap['C'])                       # __getitem__ working\n",
    "\n",
    "del positionalmap['C']                          # __delitem__ working\n",
    "print(list(positionalmap.items()))\n",
    "\n",
    "print(len(positionalmap))\n",
    "\n",
    "for i in positionalmap:                         # __iter__ working\n",
    "    print(i)    \n",
    "\n",
    "# del positionalmap['X']        raises KeyError as expected"
   ]
  },
  {
   "cell_type": "markdown",
   "metadata": {},
   "source": [
    "## R-10.6\n",
    "Which of the hash table collision-handling schemes could tolerate a load factor above $ 1 $ and which could not?"
   ]
  },
  {
   "cell_type": "markdown",
   "metadata": {},
   "source": [
    "$ \\lambda = \\frac{n}{N} $ is known as load factor, where $ n $ is the size of map and $ N $ is the size of underlying bucket array (a python list, or positional list).  \n",
    "In separate chaining, each bucket has a secondary container. That's why even if we have more number of elements in map than the size of bucket array, we can handle the collision. The downside of having $ \\lambda $ greater than $ 1 $ is that we cannot expect $ O(1) $ in several operations in hash-table.  \n",
    "\n",
    "In open addressing, we don't use secondary container, so value of $ \\lambda $ cannot be greater than $ 1 $."
   ]
  },
  {
   "cell_type": "markdown",
   "metadata": {},
   "source": [
    "## R-10.7\n",
    "Our `Position` classes for lists and trees support the `__eq__` method so that two distinct position instances are considered equivalent if they refer to the same underlying node in a structure. For positions to be allowed as keys in a hash table, there must be a definition for the `__hash__` method that is consistent with this notion of equivalence. Provide such a `__hash__` method.\n"
   ]
  },
  {
   "cell_type": "code",
   "execution_count": 8,
   "metadata": {},
   "outputs": [],
   "source": [
    "# changes that need to be made to __hash__ method in HashMapBase class\n",
    "def __hash__(self, position):\n",
    "    # find the key that has to be hashed\n",
    "    item = position.element()  # here element at position is _Item object\n",
    "    key = item._key\n",
    "    return hash(key)\n",
    "\n",
    "# changes that need to be made in Position nested class in PositionalList class\n",
    "def __eq__(self, other):\n",
    "    return type(other) is type(self) and other._node is self._node and hash(self) == hash(other)"
   ]
  },
  {
   "cell_type": "markdown",
   "metadata": {},
   "source": [
    "If two positions are equal, then their hashes should also be equal.  \n",
    "Example if $ x == y $, then $ hash(x) == hash(y) $\n",
    "\n",
    "In above code, if we two positions are equivalent then their hash should also be equal."
   ]
  },
  {
   "cell_type": "markdown",
   "metadata": {},
   "source": [
    "## R-10.8\n",
    "What would be a good hash code for a vehicle identification number that is a string of numbers and letters of the form \"$ 9X9XX99X9XX999999 $\", where a \"$ 9 $\" represents a digit and an \"$ X $\" represents a letter?"
   ]
  },
  {
   "cell_type": "code",
   "execution_count": 9,
   "metadata": {},
   "outputs": [
    {
     "name": "stdout",
     "output_type": "stream",
     "text": [
      "-1120639965579104668\n"
     ]
    }
   ],
   "source": [
    "string = \"9X9XX99X9XX999999\"  # a string is unmutable so hashable\n",
    "print(hash(string))"
   ]
  },
  {
   "cell_type": "markdown",
   "metadata": {},
   "source": [
    "## R-10.9\n",
    "Draw the 11-entry hash table that results from using the hash function, $ h(i) = (3i+5) mod 11 $, to hash the keys $ 12, 44, 13, 88, 23, 94, 11, 39, 20, 16,$  and $ 5 $, assuming collisions are handled by chaining."
   ]
  },
  {
   "cell_type": "code",
   "execution_count": 10,
   "metadata": {},
   "outputs": [
    {
     "name": "stdout",
     "output_type": "stream",
     "text": [
      "[[13], [94, 39], None, None, None, [44, 88, 11], None, None, [12, 23], [16, 5], [20]]\n"
     ]
    }
   ],
   "source": [
    "def find_index(n):\n",
    "    index = (3*n + 5) % 11\n",
    "    return index\n",
    "\n",
    "# bucket array lst\n",
    "lst = [None]*11     # N = 11 given in hashing function\n",
    "for i in [12, 44, 13, 88, 23, 94, 11, 39, 20, 16, 5]:\n",
    "    index = find_index(i)\n",
    "    if lst[index] is None:\n",
    "        lst[index] = []     # secondary container for collision handling in separate chaining\n",
    "    lst[index].append(i)\n",
    "print(lst)"
   ]
  },
  {
   "cell_type": "markdown",
   "metadata": {},
   "source": [
    "## R-10.10\n",
    "What is the result of the previous exercise, assuming collisions are handled by linear probing?"
   ]
  },
  {
   "cell_type": "code",
   "execution_count": 11,
   "metadata": {},
   "outputs": [
    {
     "name": "stdout",
     "output_type": "stream",
     "text": [
      "[13, 94, 39, 16, 5, 44, 88, 11, 12, 23, 20]\n",
      "[13, 94, 39, None, None, 44, 88, 11, 12, 23, 20, 16, 5, None, None, None, None, None, None, None, None, None]\n"
     ]
    }
   ],
   "source": [
    "def find_index(n):\n",
    "    index = (3*n + 5) % 11\n",
    "    return index\n",
    "\n",
    "# bucket array lst\n",
    "N = 11          # load factor = 1\n",
    "lst = [None] * N\n",
    "for i in [12, 44, 13, 88, 23, 94, 11, 39, 20, 16, 5]:\n",
    "    index = find_index(i)\n",
    "    if lst[index] is None:\n",
    "        lst[index] = i\n",
    "    else:\n",
    "        temp = index\n",
    "        while lst[index] is not None:   # linear probing in action\n",
    "            index = (temp + 1) % N\n",
    "            temp = temp + 1\n",
    "        lst[index] = i\n",
    "print(lst)\n",
    "\n",
    "N = 22          # load factor = 0.5\n",
    "lst = [None] * N\n",
    "for i in [12, 44, 13, 88, 23, 94, 11, 39, 20, 16, 5]:\n",
    "    index = find_index(i)\n",
    "    if lst[index] is None:\n",
    "        lst[index] = i\n",
    "    else:\n",
    "        temp = index\n",
    "        while lst[index] is not None:   # linear probing in action\n",
    "            index = (temp + 1) % N\n",
    "            temp = temp + 1\n",
    "        lst[index] = i\n",
    "print(lst)\n"
   ]
  },
  {
   "cell_type": "markdown",
   "metadata": {},
   "source": [
    "## R-10.11\n",
    "Show the result of Exercise R-10.9, assuming collisions are handled by quadratic probing, up to the point where the method fails."
   ]
  },
  {
   "cell_type": "markdown",
   "metadata": {},
   "source": [
    "Solution: $ index = h(k) $  \n",
    "Linear probing iteratively tries $ BucketArray[index+1] $ until finding an empty bucket.  \n",
    "Quadratic probing iteratively tries $ BucketArray[(index + f(i))\\ mod\\ N] $ for $ i = 0, 1, 2... $ where $ f(i) = i^2 $."
   ]
  },
  {
   "cell_type": "code",
   "execution_count": 12,
   "metadata": {},
   "outputs": [
    {
     "name": "stdout",
     "output_type": "stream",
     "text": [
      "[13, 94, 39, None, None, 44, 88, None, 12, 23, 20, None, None, 16, 11, None, None, None, 5, None, None, None]\n"
     ]
    }
   ],
   "source": [
    "def find_index(n):\n",
    "    index = (3*n + 5) % 11\n",
    "    return index\n",
    "\n",
    "# bucket array lst\n",
    "N = 22              # when N = 11, load factor is 1, program is taking long time\n",
    "lst = [None] * N\n",
    "for i in [12, 44, 13, 88, 23, 94, 11, 39, 20, 16, 5]:\n",
    "    index = find_index(i)\n",
    "    if lst[index] is None:\n",
    "        lst[index] = i\n",
    "    else:\n",
    "        j = 1\n",
    "        temp = index\n",
    "        while lst[index] is not None:   # quadratic probing in action\n",
    "            index = (temp + j**2) % N\n",
    "            j += 1\n",
    "        lst[index] = i\n",
    "print(lst)"
   ]
  },
  {
   "cell_type": "markdown",
   "metadata": {},
   "source": [
    "## R-10.12\n",
    "What is the result of Exercise R-10.9 when collisions are handled by double hashing using the secondary hash function $ h'(k) = 7 − (k\\ mod\\ 7) $ ?"
   ]
  },
  {
   "cell_type": "markdown",
   "metadata": {},
   "source": [
    "Solution: $ index = h(k) $. This index is obtained by usign primary hashing function $ h(k) $.  \n",
    "Sometimes double hashing is used to avoid the clustering by linear or quadratic probing.  \n",
    "Double hashing iteratively tries $ BucketArray[(index + f(i))\\ mod\\ N] $ for $ i = 1, 2, 3 $ where $ f(i) = i.h'(k) $."
   ]
  },
  {
   "cell_type": "code",
   "execution_count": 13,
   "metadata": {},
   "outputs": [
    {
     "name": "stdout",
     "output_type": "stream",
     "text": [
      "[13, 94, 23, 88, 39, 44, 11, 5, 12, 16, 20]\n",
      "[13, 94, None, None, 39, 44, None, None, 12, 16, 20, 88, None, 23, 11, 5, None, None, None, None, None, None]\n"
     ]
    }
   ],
   "source": [
    "def find_index(n):\n",
    "    index = (3*n + 5) % 11\n",
    "    return index\n",
    "\n",
    "# bucket array lst\n",
    "N = 11          # load factor = 1\n",
    "lst = [None] * N\n",
    "for i in [12, 44, 13, 88, 23, 94, 11, 39, 20, 16, 5]:\n",
    "    index = find_index(i)\n",
    "    if lst[index] is None:\n",
    "        lst[index] = i\n",
    "    else:\n",
    "        j = 1\n",
    "        temp = index\n",
    "        while lst[index] is not None:\n",
    "            index = (temp + j*(7 - (i%7))) % N      # using secondary hashing function\n",
    "            j += 1\n",
    "        lst[index] = i\n",
    "print(lst)\n",
    "\n",
    "N = 22          # load factor = 0.5\n",
    "lst = [None] * N\n",
    "for i in [12, 44, 13, 88, 23, 94, 11, 39, 20, 16, 5]:\n",
    "    index = find_index(i)\n",
    "    if lst[index] is None:\n",
    "        lst[index] = i\n",
    "    else:\n",
    "        j = 1\n",
    "        temp = index\n",
    "        while lst[index] is not None:\n",
    "            index = (temp + j*(7 - (i%7))) % N      # using secondary hashing function\n",
    "            j += 1\n",
    "        lst[index] = i\n",
    "print(lst)"
   ]
  },
  {
   "cell_type": "markdown",
   "metadata": {},
   "source": [
    "## R-10.13\n",
    "What is the worst-case time for putting $ n $ entries in an initially empty hash table, with collisions resolved by chaining? What is the best case?"
   ]
  },
  {
   "cell_type": "markdown",
   "metadata": {},
   "source": [
    "Solution: The worst case time will be when all items are inserted in same bucket, ie. all items collide at same place. If an UnsortedTableMap is used as a bucket. Then we have already seen in R-10.4 that it takes $ O(n^2) $ in worst case to place $ n $ items in the map.  \n",
    "The best case is when collision doesn't happen at all. We add items only at empty locations (None in clase UnsortedTableMap) or if the location is not empty, then key at that location is same as key we are inserting, both of which take $ O(1) $ for every insertion, and $ O(n) $ for $ n $ insertions."
   ]
  },
  {
   "cell_type": "markdown",
   "metadata": {},
   "source": [
    "## R-10.14\n",
    "Show the result of rehashing the hash table shown in Figure 10.6 into a table of size $ 19 $ using the new hash function $ h(k) = 3k\\ mod\\ 17 $."
   ]
  },
  {
   "cell_type": "code",
   "execution_count": 14,
   "metadata": {},
   "outputs": [
    {
     "name": "stdout",
     "output_type": "stream",
     "text": [
      "[None, None, [18], None, [10, 36], None, [54, 28, 41], None, None, None, [25, 38, 12, 90], None, None, None, None, None, None, None, None]\n"
     ]
    }
   ],
   "source": [
    "def find_index(n):\n",
    "    index = (3*n) % 13\n",
    "    return index\n",
    "\n",
    "# bucket array lst\n",
    "lst = [None]*19     # N = 11 given in hashing function\n",
    "for i in [54, 28, 41, 18, 10, 36, 25, 38, 12, 90]:\n",
    "    index = find_index(i)\n",
    "    if lst[index] is None:\n",
    "        lst[index] = []     # secondary container for collision handling in separate chaining\n",
    "    lst[index].append(i)\n",
    "print(lst)"
   ]
  },
  {
   "cell_type": "markdown",
   "metadata": {},
   "source": [
    "## R-10.15\n",
    "Our `HashMapBase` class maintains a load factor $ \\lambda \\le 0.5 $. Reimplement that class to allow the user to specify the maximum load, and adjust the concrete subclasses accordingly."
   ]
  },
  {
   "cell_type": "code",
   "execution_count": 15,
   "metadata": {},
   "outputs": [],
   "source": [
    "from map_base import MapBase\n",
    "from random import randrange\n",
    "\n",
    "class HashMapBase(MapBase):\n",
    "    \"\"\"Abstract base class for map using hash-table with MAD compression.\"\"\"\n",
    "\n",
    "    def __init__(self, load, cap=11, p=109345121):\n",
    "        \"\"\"Create an empty hash-table map.\"\"\"\n",
    "        self._table = cap*[None]\n",
    "        self._n = 0\n",
    "        self._prime = p\n",
    "        self._scale = 1 + randrange(p-1)\n",
    "        self._shift = randrange(p)\n",
    "        self._load = load           # user input of load factor\n",
    "\n",
    "    def _hash_function(self, k):\n",
    "        return (hash(k)*self._scale + self._shift) % self._prime % len(self._table)\n",
    "\n",
    "    def __len__(self):\n",
    "        return self._n\n",
    "    \n",
    "    def __getitem__(self, k):\n",
    "        j = self._hash_function(k)\n",
    "        return self._bucket_getitem(j,k)\n",
    "\n",
    "    # This is part that was edited for R-10.15\n",
    "    def __setitem__(self, k, v):\n",
    "        j = self._hash_function(k)\n",
    "        self._bucket_setitem(j, k, v)\n",
    "        if self._n > len(self._table) * self._load:     # maintain load factor\n",
    "            self._resize(len(self._table)//self._load)\n",
    "    \n",
    "    def __delitem__(self, k):\n",
    "        j = self._hash_function(k)\n",
    "        self._bucket_delitem(j, k)\n",
    "        self._n -= 1\n",
    "    \n",
    "    def _resize(self, c):\n",
    "        old = list(self.items())\n",
    "        self._table = c*[None]\n",
    "        self._n = 0\n",
    "        for (k,v) in old:\n",
    "            self[k] = v\n"
   ]
  },
  {
   "cell_type": "markdown",
   "metadata": {},
   "source": [
    "## R-10.16\n",
    "Give a pseudo-code description of an insertion into a hash table that uses quadratic probing to resolve collisions, assuming we also use the trick of replacing deleted entries with a special “deactivated entry” object."
   ]
  },
  {
   "cell_type": "markdown",
   "metadata": {},
   "source": [
    "Solution: similar to the problems we have done above."
   ]
  },
  {
   "cell_type": "markdown",
   "metadata": {},
   "source": [
    "## R-10.17\n",
    "Modify our `ProbeHashMap` to use quadratic probing."
   ]
  },
  {
   "cell_type": "markdown",
   "metadata": {},
   "source": [
    "Solution: Change the last line of `_find_slot` method to incorporate quadratic probing."
   ]
  },
  {
   "cell_type": "markdown",
   "metadata": {},
   "source": [
    "## R-10.18\n",
    "Explain why a hash table is not suited to implement a sorted map."
   ]
  },
  {
   "cell_type": "markdown",
   "metadata": {},
   "source": [
    "Solution: Element's index in hash map depend on hash function, not in any increasing or decreasing order.\n",
    "While a sorted map need to store elements in incrasing or decreasing order."
   ]
  },
  {
   "cell_type": "markdown",
   "metadata": {},
   "source": [
    "## R-10.19\n",
    "Describe how a sorted list implemented as a doubly linked list could be used to implement the sorted map ADT."
   ]
  },
  {
   "cell_type": "markdown",
   "metadata": {},
   "source": [
    "Solution: The best part about array-based list being used in sorted map is that we can apply binary search to find the exact location of a key if it is present, or the place where it should be if it is not present. It takes $ O(\\log n) $ time to do binary search.  \n",
    "If we use doubly linked list, we fortfeit the ability to fast search. If doubly linked list sorted then it will result in faster search, still worst case $ O(n) $"
   ]
  },
  {
   "cell_type": "code",
   "execution_count": 16,
   "metadata": {},
   "outputs": [],
   "source": [
    "from map_base import MapBase\n",
    "\n",
    "class SortedTableMap(MapBase):\n",
    "\n",
    "    #-------------nonpublic behaviors-----------------\n",
    "    def _find_position(self, k):\n",
    "        position = self._table.first()\n",
    "        while position is not None and position.element()._key < k:\n",
    "            position = self._table.after(position)\n",
    "        return position\n",
    "\n",
    "    #-------------public behaviors-------------\n",
    "    def __init__(self):\n",
    "        self._table = PositionalList()      # Using PositionalList (doubly linked list)\n",
    "\n",
    "    def __len__(self):\n",
    "        return len(self._table)\n",
    "\n",
    "    def __getitem__(self, k):\n",
    "        p = self._find_position(k)\n",
    "        if p is None or p.element()._key != k:\n",
    "            raise KeyError('Key Error: ' + repr(k))\n",
    "        return p.element()._value\n",
    "\n",
    "    def __setitem__(self, k, v):\n",
    "        p = self._find_position(k)\n",
    "        if p is not None and p.element()._key == k:\n",
    "            p.element()._value = v                   # reassign value\n",
    "        elif len(self._table) == 0:\n",
    "            self._table.add_first(self._Item(k,v))\n",
    "        elif p is None:\n",
    "            self._table.add_last(self._Item(k,v))\n",
    "        else:\n",
    "            self._table.add_before(p, self._Item(k,v))      # adds new item\n",
    "\n",
    "    def __delitem__(self, k):\n",
    "        p = self._find_position(k)\n",
    "        if p is None or p.element()._key != k:\n",
    "            raise KeyError('Key Error: ' + repr(k))\n",
    "        self._table.delete(p)\n",
    "\n",
    "    def __iter__(self):\n",
    "        for item in self._table:\n",
    "            yield item._key\n",
    "\n",
    "    # def __reversed__(self):        # need to update PositionalList to support reversed\n",
    "    #     for item in reversed(self._table):\n",
    "    #         yield item._key\n",
    "    \n",
    "    def find_min(self):\n",
    "        if len(self._table) > 0:\n",
    "            return (self._table.first().element()._key, self._table.first().element()._value)\n",
    "        else:\n",
    "            return None\n",
    "\n",
    "    def find_max(self):\n",
    "        if len(self._table) > 0:\n",
    "            return (self._table.last().element()._key, self._table.last().element()._value)\n",
    "        else:\n",
    "            return None\n"
   ]
  },
  {
   "cell_type": "code",
   "execution_count": 17,
   "metadata": {},
   "outputs": [
    {
     "name": "stdout",
     "output_type": "stream",
     "text": [
      "5\n",
      "A 1\n",
      "B 2\n",
      "C 3\n",
      "D 4\n",
      "E 5\n",
      "('A', 1)\n",
      "('E', 5)\n",
      "A 1\n",
      "B 2\n",
      "D 4\n",
      "E 5\n",
      "\n",
      "after random additions, check if order is maintained\n",
      "\n",
      "A 1\n",
      "B 2\n",
      "C 56\n",
      "D 4\n",
      "E 5\n",
      "a 10\n",
      "j 88\n",
      "z 22\n",
      "max k,v pair: ('z', 22), min k,v pair: ('A', 1)\n"
     ]
    }
   ],
   "source": [
    "sortedmap = SortedTableMap()\n",
    "for i in [('A', 1), ('B', 2), ('C', 3), ('D', 4), ('E', 5)]:\n",
    "    sortedmap[i[0]] = i[1]\n",
    "\n",
    "print(len(sortedmap))\n",
    "for i in sortedmap:\n",
    "    print(i, sortedmap[i])\n",
    "print(sortedmap.find_min())\n",
    "print(sortedmap.find_max())\n",
    "del sortedmap['C']\n",
    "for i in sortedmap:\n",
    "    print(i, sortedmap[i])\n",
    "\n",
    "# now check if insertion of random element is happening at proper place\n",
    "sortedmap['C'] = 56\n",
    "sortedmap['a'] = 10\n",
    "sortedmap['z'] = 22\n",
    "sortedmap['j'] = 88\n",
    "print('\\nafter random additions, check if order is maintained\\n')\n",
    "for i in sortedmap:\n",
    "    print(i, sortedmap[i])      # working great; NOTE: A < a\n",
    "\n",
    "print(f'max k,v pair: {sortedmap.find_max()}, min k,v pair: {sortedmap.find_min()}')"
   ]
  },
  {
   "cell_type": "markdown",
   "metadata": {},
   "source": [
    "## R-10.20\n",
    "What is the worst-case asymptotic running time for performing $ n $ deletions from a `SortedTableMap` instance that initially contains $ 2n $ entries?"
   ]
  },
  {
   "cell_type": "markdown",
   "metadata": {},
   "source": [
    "Solution: If `SortedTableMap` is implemented with an array-based list (python list), then worst runtime for deletion is achieved when we delete the minimum element (popping first element) from the list every time.  \n",
    "\n",
    "Deletion of single element happens in two steps:\n",
    "1. Find the index of element by binary search. $ O(\\log n) $\n",
    "2. Popping the element at that index. $ O(n) $  \n",
    "\n",
    "The dominant time taking activity in the given problem is described below:\n",
    "1. Remove the first element from $ 2n $ elements. $ 2n-1 $ elements will be shifted left.\n",
    "2. Remove the first element from now $ 2n-1 $ elements. $ 2n-2 $ elements will be shifted left.\n",
    "3. This will continue until we remove first element from remaining $ n+1 $ elements. $ n $ elements will be shifted left.\n",
    "\n",
    "So total time = $ (2n-1) + (2n-2) + (2n-3) +...+ (2n - n) $\n",
    "= $ 2n^2 - (1+2+...+n) $\n",
    "= $ \\frac{3(n^2)-n}{2}  $\n",
    "\n",
    "$ O(n^2) $"
   ]
  },
  {
   "cell_type": "markdown",
   "metadata": {},
   "source": [
    "## R-10.21\n",
    "Consider the following variant of the `_find_index` method from Code Fragment 10.8, in the context of the `SortedTableMap` class:\n",
    "```\n",
    "def _find_index(self, k, low, high):\n",
    "    if high < low:\n",
    "        return high + 1\n",
    "    else:\n",
    "        mid = (low + high) // 2\n",
    "        if self._table[mid]._key < k:\n",
    "            return self._find_index(k, mid + 1, high)\n",
    "        else:\n",
    "            return self._find_index(k, low, mid − 1)\n",
    "```\n",
    "\n",
    "Does this always produce the same result as the original version? Justify your answer."
   ]
  },
  {
   "cell_type": "markdown",
   "metadata": {},
   "source": [
    "Solution: Yes, it produces the same result.  \n",
    "But it always takes $ \\log n $ as we are running the algorithm until high < low. If we checked if mid key is equal to k, then we might have finished the algorithm sooner than $ \\log n $."
   ]
  },
  {
   "cell_type": "markdown",
   "metadata": {},
   "source": [
    "## R-10.22\n",
    "What is the expected running time of the methods for maintaining a maxima set if we insert $ n $ pairs such that each pair has lower cost and performance than one before it? What is contained in the sorted map at the end of this series of operations? What if each pair had a lower cost and higher performance than the one before it?"
   ]
  },
  {
   "cell_type": "markdown",
   "metadata": {},
   "source": [
    "Solution: If each pair has lower cost and lower performance, then we are adding each pair at the beginning of sorted map(assuming we are using Python list for storage). It requires shifting all previous element to right, then placing the element at the start of map. It will never delete any element from the map as we don't have any pair with higher cost and lower performance. $ O(n^2) $  \n",
    "At the end of series of such operations, we are left with $ n $ (cost, performance) pairs in the sorted map.  \n",
    "If each pair had a lower cost and higher performance than one before it, then we will be left with just last (cost, performance) pair in the sorted map. Each addition will delete the one after it. $ O(n) $  \n",
    "\n",
    "We have ignored the analysis of search operation each time a pair is being added because we use binary search which takes logarithmic time, and it will not be the dominant time in the entire operation."
   ]
  },
  {
   "cell_type": "markdown",
   "metadata": {},
   "source": [
    "## R-10.23\n",
    "Draw an example skip list $ S $ that results from performing the following series of operations on the skip list shown in Figure 10.13: `del` $ S[38] $, $ S[48] = $'x' ,$ S[24] =$ 'y', `del` $ S[55] $. Record your coin flips, as well."
   ]
  },
  {
   "cell_type": "markdown",
   "metadata": {},
   "source": [
    "Solution: Refer the pdf imported from ipad."
   ]
  },
  {
   "cell_type": "markdown",
   "metadata": {},
   "source": [
    "## R-10.24\n",
    "Give a pseudo-code description of the `__delitem__` map operation when using a skip list."
   ]
  },
  {
   "cell_type": "markdown",
   "metadata": {},
   "source": [
    "Solution: Refer the pdf imported from ipad."
   ]
  },
  {
   "cell_type": "markdown",
   "metadata": {},
   "source": [
    "## R-10.25\n",
    "Give a concrete implementation of the `pop` method, in the context of a `MutableSet` abstract base class, that relies only on the five core set behaviors described in Section 10.5.2."
   ]
  },
  {
   "cell_type": "markdown",
   "metadata": {},
   "source": [
    "Solution:  The five core abstract methods of `MutableSet` are:  \n",
    "1. `add`\n",
    "2. `discard`\n",
    "3. `__contains__`\n",
    "4. `__len__`\n",
    "5. `__iter__`"
   ]
  },
  {
   "cell_type": "code",
   "execution_count": 18,
   "metadata": {},
   "outputs": [],
   "source": [
    "from collections.abc import MutableSet\n",
    "from random import randrange\n",
    "\n",
    "class Sets(MutableSet):\n",
    "    \n",
    "    def __init__(self):\n",
    "        self._set = list()\n",
    "    \n",
    "    def add(self, e):\n",
    "        if e not in self._set:\n",
    "            self._set.append(e)\n",
    "    \n",
    "    def discard(self, e):\n",
    "        if e in self._set:\n",
    "            self._set.remove(e)\n",
    "    \n",
    "    def __contains__(self, e):\n",
    "        return e in self._set\n",
    "    \n",
    "    def __len__(self):\n",
    "        return len(self._set)\n",
    "    \n",
    "    def __iter__(self):\n",
    "        for i in self._set:\n",
    "            yield i\n",
    "\n",
    "    def pop(self):\n",
    "        if len(self._set) > 0:\n",
    "            arbitary_element = self._set[randrange(len(self._set))]\n",
    "            self.discard(arbitary_element)\n",
    "            return arbitary_element\n",
    "        else:\n",
    "            raise KeyError\n",
    "    \n",
    "    def __str__(self):\n",
    "        strng = ''\n",
    "        for element in self._set:\n",
    "            strng += f'{element}, '\n",
    "        return strng\n"
   ]
  },
  {
   "cell_type": "code",
   "execution_count": 19,
   "metadata": {},
   "outputs": [
    {
     "name": "stdout",
     "output_type": "stream",
     "text": [
      "0, 1, 2, 3, 4, 5, 6, 7, 8, 9, \n",
      "0, 1, 2, 3, 4, 5, 6, 7, 8, \n",
      "False\n",
      "True\n",
      "9\n",
      "0, 1, 2, 3, 4, 5, 6, 7, 8, \n",
      "7\n"
     ]
    }
   ],
   "source": [
    "newset = Sets()\n",
    "for i in range(10):     # add method working\n",
    "    newset.add(i)\n",
    "print(newset)           # __str__ method working\n",
    "\n",
    "newset.discard(9)       # discard method working\n",
    "print(newset)\n",
    "\n",
    "print(10 in newset)\n",
    "print(3 in newset)      # __contains__ method working\n",
    "\n",
    "print(len(newset))      # __len__ method working\n",
    "\n",
    "for i in newset:        # __iter__ method working\n",
    "    print(i, end=', ')\n",
    "print()\n",
    "\n",
    "print(newset.pop())    # this should delete random elements in every execution, woking well\n"
   ]
  },
  {
   "cell_type": "markdown",
   "metadata": {},
   "source": [
    "## R-10.26\n",
    "Give a concrete implementation of the `isdisjoint` method in the context of the `MutableSet` abstract base class, relying only on the five primary abstract methods of that class. Your algorithm should run in $ O(min(n, m)) $ where $ n $ and $ m $ denote the respective cardinalities of the two sets."
   ]
  },
  {
   "cell_type": "markdown",
   "metadata": {},
   "source": [
    "Solution: We will achieve $ O(min(n,m)) $ only when the set is implemented with hashing. Code written below doesn't use hashing, but the logic behind checking disjoint is same that has been asked in the problem."
   ]
  },
  {
   "cell_type": "code",
   "execution_count": 20,
   "metadata": {},
   "outputs": [],
   "source": [
    "class SetsAnother(Sets):\n",
    "\n",
    "    def isdisjoint(self, other):\n",
    "        n = len(self)\n",
    "        m = len(other)\n",
    "        if n < m:\n",
    "            for e in self:          # iterate through min(n,m)\n",
    "                other.add(e)        # each add will take O(1) if hashing is used\n",
    "            return len(other) == n + m\n",
    "        else:\n",
    "            for e in other:\n",
    "                self.add(e)\n",
    "            return len(self) == n + m"
   ]
  },
  {
   "cell_type": "code",
   "execution_count": 21,
   "metadata": {},
   "outputs": [
    {
     "name": "stdout",
     "output_type": "stream",
     "text": [
      "False\n"
     ]
    }
   ],
   "source": [
    "set1 = SetsAnother()\n",
    "for i in range(10):\n",
    "    set1.add(i)\n",
    "\n",
    "set2 = SetsAnother()\n",
    "for i in range(9,20):\n",
    "    set2.add(i)\n",
    "\n",
    "print(set1.isdisjoint(set2))"
   ]
  },
  {
   "cell_type": "markdown",
   "metadata": {},
   "source": [
    "## R-10.27\n",
    "What abstraction would you use to manage a database of friends’ birthdays in order to support efficient queries such as “find all friends whose birthday is today” and “find the friend who will be the next to celebrate a birthday”?"
   ]
  },
  {
   "cell_type": "markdown",
   "metadata": {},
   "source": [
    "Solution: We use `MultiMap`, where keys are birthdays. Each key is mapped to a container that contains the name of friends whose birthday is on a given date(key)."
   ]
  }
 ],
 "metadata": {
  "kernelspec": {
   "display_name": "Python 3",
   "language": "python",
   "name": "python3"
  },
  "language_info": {
   "codemirror_mode": {
    "name": "ipython",
    "version": 3
   },
   "file_extension": ".py",
   "mimetype": "text/x-python",
   "name": "python",
   "nbconvert_exporter": "python",
   "pygments_lexer": "ipython3",
   "version": "3.12.0"
  }
 },
 "nbformat": 4,
 "nbformat_minor": 2
}
