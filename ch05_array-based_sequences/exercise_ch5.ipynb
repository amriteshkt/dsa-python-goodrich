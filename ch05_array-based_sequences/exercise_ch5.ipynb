{
  "cells": [
    {
      "cell_type": "markdown",
      "metadata": {
        "id": "hhVNrfeC9Ca6"
      },
      "source": [
        "# Textbook Code Practice"
      ]
    },
    {
      "cell_type": "markdown",
      "metadata": {
        "id": "e-Glx7CuKpLA"
      },
      "source": [
        "## 5.5.1 Storing High Scores for a Game"
      ]
    },
    {
      "cell_type": "markdown",
      "metadata": {
        "id": "D5Wr-EhkNDRu"
      },
      "source": [
        "A simple class for entering name of player and high score for a single game."
      ]
    },
    {
      "cell_type": "code",
      "execution_count": null,
      "metadata": {
        "id": "MM80OPnhK1bh"
      },
      "outputs": [],
      "source": [
        "class GameEntry:\n",
        "  \"\"\"Represents one entry of a list of high scores.\"\"\"\n",
        "\n",
        "  def __init__(self, name, score):\n",
        "    \"\"\"Create an entry with given name and score.\"\"\"\n",
        "    self._name = name\n",
        "    self._score = score\n",
        "\n",
        "  def get_name(self):\n",
        "    \"\"\"Return the name of the person for this entry.\"\"\"\n",
        "    return self._name\n",
        "\n",
        "  def get_score(self):\n",
        "    \"\"\"Return the score of this entry.\"\"\"\n",
        "    return self._score\n",
        "\n",
        "  def __str__(self):\n",
        "    \"\"\"Return string representation of the entry.\"\"\"\n",
        "    return '({0}, {1})'.format(self._name, self._score)"
      ]
    },
    {
      "cell_type": "code",
      "execution_count": null,
      "metadata": {
        "id": "a86kl5rULf-V"
      },
      "outputs": [],
      "source": [
        "gameone = GameEntry('Michael', 999)"
      ]
    },
    {
      "cell_type": "code",
      "execution_count": null,
      "metadata": {
        "colab": {
          "base_uri": "https://localhost:8080/"
        },
        "id": "BICfw4TRL0IU",
        "outputId": "29bc5a44-3201-4310-ee46-69d1f821d5ef"
      },
      "outputs": [
        {
          "name": "stdout",
          "output_type": "stream",
          "text": [
            "(Michael, 999)\n"
          ]
        }
      ],
      "source": [
        "print(gameone)"
      ]
    },
    {
      "cell_type": "markdown",
      "metadata": {
        "id": "TUGrsMFzM8Se"
      },
      "source": [
        "Now we need to store these GameEntry objects (that are high scores) into a sequence. For this we create another class, Scoreboard."
      ]
    },
    {
      "cell_type": "code",
      "execution_count": null,
      "metadata": {
        "id": "n8c4oQdXPQ-K"
      },
      "outputs": [],
      "source": [
        "class Scoreboard:\n",
        "  \"\"\"Fixed-length sequence of high scores in nondecreasing order.\"\"\"\n",
        "\n",
        "  def __init__(self, capacity=10):\n",
        "    \"\"\"Initialize scoreboard with given maximum capacity.\n",
        "\n",
        "    All entries are initially None.\n",
        "    \"\"\"\n",
        "    self._board = [None] * capacity        # reserve space for future scores\n",
        "    self._n = 0                            # number of actual entries\n",
        "\n",
        "  def __getitem__(self, k):\n",
        "    \"\"\"Return entry at index k.\"\"\"\n",
        "    return self._board[k]\n",
        "\n",
        "  def __str__(self):\n",
        "    \"\"\"Return string representation of the high score list.\"\"\"\n",
        "    return '\\n'.join(str(self._board[j]) for j in range(self._n))\n",
        "\n",
        "  def add(self, entry):\n",
        "    \"\"\"Consider adding entry to high scores.\"\"\"\n",
        "    score = entry.get_score()\n",
        "\n",
        "    # Does new entry qualify as a high score?\n",
        "    # answer is yes if board not full or score is higher than last entry\n",
        "    good = self._n < len(self._board) or score > self._board[-1].get_score()\n",
        "\n",
        "    if good:\n",
        "      if self._n < len(self._board):        # no score drops from list\n",
        "        self._n += 1                        # so overall number increases\n",
        "\n",
        "      # shift lower scores rightward to make room for new entry\n",
        "      j = self._n - 1\n",
        "      while j > 0 and self._board[j-1].get_score() < score:\n",
        "        self._board[j] = self._board[j-1]   # shift entry from j-1 to j\n",
        "        j -= 1                              # and decrement j\n",
        "      self._board[j] = entry                # when done, add new entry"
      ]
    },
    {
      "cell_type": "markdown",
      "metadata": {
        "id": "hmFMfiwKUgwO"
      },
      "source": [
        "For testing let's create GameEntry objects and store them in a Scoreboard object."
      ]
    },
    {
      "cell_type": "code",
      "execution_count": null,
      "metadata": {
        "id": "jDGbbP2vW1ml"
      },
      "outputs": [],
      "source": [
        "game1 = GameEntry('Mike', 1105)\n",
        "game2 = GameEntry('Rob', 750)\n",
        "game3 = GameEntry('Jill', 740)\n",
        "game4 = GameEntry('Jack', 510)\n",
        "game5 = GameEntry('Rose', 590)\n",
        "game6 = GameEntry('Anna', 660)\n",
        "game7 = GameEntry('Paul',720)"
      ]
    },
    {
      "cell_type": "code",
      "execution_count": null,
      "metadata": {
        "id": "w6c9aHkGXyPJ"
      },
      "outputs": [],
      "source": [
        "scoreboard = Scoreboard(5)\n",
        "scoreboard.add(game1)\n",
        "scoreboard.add(game2)\n",
        "scoreboard.add(game3)\n",
        "scoreboard.add(game4)\n",
        "scoreboard.add(game5)\n",
        "scoreboard.add(game6)\n",
        "scoreboard.add(game7)"
      ]
    },
    {
      "cell_type": "code",
      "execution_count": null,
      "metadata": {
        "colab": {
          "base_uri": "https://localhost:8080/"
        },
        "id": "uQZBcrxCYKvj",
        "outputId": "9ea2c8e5-f2e5-4e51-e60c-4bea1a3ee091"
      },
      "outputs": [
        {
          "name": "stdout",
          "output_type": "stream",
          "text": [
            "(Mike, 1105)\n",
            "(Rob, 750)\n",
            "(Jill, 740)\n",
            "(Paul, 720)\n",
            "(Anna, 660)\n"
          ]
        }
      ],
      "source": [
        "print(scoreboard)"
      ]
    },
    {
      "cell_type": "markdown",
      "metadata": {
        "id": "vWoxtfoNR_3H"
      },
      "source": [
        "Another test."
      ]
    },
    {
      "cell_type": "code",
      "execution_count": null,
      "metadata": {
        "colab": {
          "base_uri": "https://localhost:8080/"
        },
        "id": "Sl8FuMowRUOo",
        "outputId": "972af62b-d3b2-4e96-89c9-72baf477f6de"
      },
      "outputs": [
        {
          "name": "stdout",
          "output_type": "stream",
          "text": [
            "After considering (Rob, 750), scoreboard is:\n",
            "(Rob, 750)\n",
            "\n",
            "After considering (Mike, 1105), scoreboard is:\n",
            "(Mike, 1105)\n",
            "(Rob, 750)\n",
            "\n",
            "After considering (Rose, 590), scoreboard is:\n",
            "(Mike, 1105)\n",
            "(Rob, 750)\n",
            "(Rose, 590)\n",
            "\n",
            "After considering (Jill, 740), scoreboard is:\n",
            "(Mike, 1105)\n",
            "(Rob, 750)\n",
            "(Jill, 740)\n",
            "(Rose, 590)\n",
            "\n",
            "After considering (Jack, 510), scoreboard is:\n",
            "(Mike, 1105)\n",
            "(Rob, 750)\n",
            "(Jill, 740)\n",
            "(Rose, 590)\n",
            "(Jack, 510)\n",
            "\n",
            "After considering (Anna, 660), scoreboard is:\n",
            "(Mike, 1105)\n",
            "(Rob, 750)\n",
            "(Jill, 740)\n",
            "(Anna, 660)\n",
            "(Rose, 590)\n",
            "\n",
            "After considering (Paul, 720), scoreboard is:\n",
            "(Mike, 1105)\n",
            "(Rob, 750)\n",
            "(Jill, 740)\n",
            "(Paul, 720)\n",
            "(Anna, 660)\n",
            "\n",
            "After considering (Bob, 400), scoreboard is:\n",
            "(Mike, 1105)\n",
            "(Rob, 750)\n",
            "(Jill, 740)\n",
            "(Paul, 720)\n",
            "(Anna, 660)\n",
            "\n"
          ]
        }
      ],
      "source": [
        "board = Scoreboard(5)\n",
        "for e in (\n",
        "    ('Rob', 750), ('Mike',1105), ('Rose', 590), ('Jill', 740),\n",
        "    ('Jack', 510), ('Anna', 660), ('Paul', 720), ('Bob', 400),\n",
        "    ):\n",
        "    ge = GameEntry(e[0], e[1])\n",
        "    board.add(ge)\n",
        "    print('After considering {0}, scoreboard is:'.format(ge))\n",
        "    print(board)\n",
        "    print()"
      ]
    },
    {
      "cell_type": "markdown",
      "metadata": {
        "id": "j7xpat2hYPBg"
      },
      "source": [
        "Everything is working fine. We created  a scoreboard object of Scoreboard class to store maximum of 5 high scores. Now we try to add a high score that is more than current highest score in the scoreboard. It should come at top and the last high score of Anna should be dropped from the list."
      ]
    },
    {
      "cell_type": "code",
      "execution_count": null,
      "metadata": {
        "id": "dt431-D0Yhym"
      },
      "outputs": [],
      "source": [
        "board.add(GameEntry('Ramesh',1200))"
      ]
    },
    {
      "cell_type": "code",
      "execution_count": null,
      "metadata": {
        "colab": {
          "base_uri": "https://localhost:8080/"
        },
        "id": "XWAtHlD7Zbpm",
        "outputId": "14fbf0d0-38b2-47fb-fb8e-6c4d6ec7210c"
      },
      "outputs": [
        {
          "name": "stdout",
          "output_type": "stream",
          "text": [
            "(Ramesh, 1200)\n",
            "(Mike, 1105)\n",
            "(Rob, 750)\n",
            "(Jill, 740)\n",
            "(Paul, 720)\n"
          ]
        }
      ],
      "source": [
        "print(board)"
      ]
    },
    {
      "cell_type": "markdown",
      "metadata": {
        "id": "4tsVN_d_NX1f"
      },
      "source": [
        "## 5.5.3 Sorting a Sequence."
      ]
    },
    {
      "cell_type": "markdown",
      "metadata": {
        "id": "brMRDRL1O43f"
      },
      "source": [
        "Insertion Sort.\n",
        "* It takes $ O(n^2) $."
      ]
    },
    {
      "cell_type": "code",
      "execution_count": null,
      "metadata": {
        "id": "bCmYFdbKNY8C"
      },
      "outputs": [],
      "source": [
        "def insertion_sort(A):\n",
        "    \"\"\"Sort list of comparable elements into nondecreasing order.\"\"\"\n",
        "    for k in range(1, len(A)):         # from 1 to n-1\n",
        "        cur = A[k]                       # current element to be inserted\n",
        "        j = k                            # find correct index j for current\n",
        "        while j > 0 and A[j-1] > cur:    # element A[j-1] must be after current\n",
        "            A[j] = A[j-1]\n",
        "            j -= 1\n",
        "            A[j] = cur                       # cur is now in the right place\n",
        "    return A"
      ]
    },
    {
      "cell_type": "code",
      "execution_count": null,
      "metadata": {
        "colab": {
          "base_uri": "https://localhost:8080/"
        },
        "id": "cdN9LVoCZdfm",
        "outputId": "1268ed3e-c7ed-4297-c37f-ec10a6df6ee5"
      },
      "outputs": [
        {
          "name": "stdout",
          "output_type": "stream",
          "text": [
            "[11, 12, 23, 45, 65]\n",
            "[12, 45, 56, 56, 87]\n",
            "[43, 99, 111, 123, 736, 5667]\n"
          ]
        }
      ],
      "source": [
        "sequences = [[45,23,65,12,11], [56,45,12,87,56], [99,123,43,5667,736,111]]\n",
        "for sequence in sequences:\n",
        "    print(insertion_sort(sequence))"
      ]
    },
    {
      "cell_type": "markdown",
      "metadata": {
        "id": "ei3LqbHNOkBr"
      },
      "source": [
        "## 5.5.3 Simple Cryptography"
      ]
    },
    {
      "cell_type": "markdown",
      "metadata": {
        "id": "H-7us7O5POa4"
      },
      "source": [
        "Ceaser Cipher"
      ]
    },
    {
      "cell_type": "code",
      "execution_count": null,
      "metadata": {
        "id": "YtPXSUhkPT3l"
      },
      "outputs": [],
      "source": [
        "class CaesarCipher:\n",
        "    \"\"\"Class for doing encryption and decryption using a Caesar cipher.\"\"\"\n",
        "\n",
        "    def __init__(self, shift):\n",
        "        \"\"\"Construct Caesar cipher using given integer shift for rotation.\"\"\"\n",
        "        encoder = [None] * 26                     # temp array for encryption\n",
        "        decoder = [None] * 26                     # temp array for decryption\n",
        "        for k in range(26):\n",
        "            encoder[k] = chr((k + shift) % 26 + ord('A'))\n",
        "            decoder[k] = chr((k - shift) % 26 + ord('A'))\n",
        "        self._forward = ''.join(encoder)          # will store as string\n",
        "        self._backward = ''.join(decoder)         # since fixed\n",
        "\n",
        "    def encrypt(self, message):\n",
        "        \"\"\"Return string representing encripted message.\"\"\"\n",
        "        return  self._transform(message, self._forward)\n",
        "\n",
        "    def decrypt(self, secret):\n",
        "        \"\"\"Return decrypted message given encrypted secret.\"\"\"\n",
        "        return  self._transform(secret, self._backward)\n",
        "\n",
        "    def _transform(self, original, code):\n",
        "        \"\"\"Utility to perform transformation based on given code string.\"\"\"\n",
        "        msg = list(original)\n",
        "        for k in range(len(msg)):\n",
        "            if msg[k].isupper():\n",
        "                j = ord(msg[k]) - ord('A')            # index from 0 to 25\n",
        "                msg[k] = code[j]                      # replace this character\n",
        "        return ''.join(msg)"
      ]
    },
    {
      "cell_type": "code",
      "execution_count": null,
      "metadata": {
        "colab": {
          "base_uri": "https://localhost:8080/"
        },
        "id": "CtockJGzQFWC",
        "outputId": "e87d8d09-e4e2-4872-9a96-58a17016f5d2"
      },
      "outputs": [
        {
          "name": "stdout",
          "output_type": "stream",
          "text": [
            "Secret:  WKH HDJOH LV LQ SODB; PHHW DW MRH'V.\n",
            "Message: THE EAGLE IS IN PLAY; MEET AT JOE'S.\n"
          ]
        }
      ],
      "source": [
        "cipher = CaesarCipher(3)\n",
        "message = \"THE EAGLE IS IN PLAY; MEET AT JOE'S.\"\n",
        "coded = cipher.encrypt(message)\n",
        "print('Secret: ', coded)\n",
        "answer = cipher.decrypt(coded)\n",
        "print('Message:', answer)"
      ]
    },
    {
      "cell_type": "markdown",
      "metadata": {
        "id": "6cm3tecMQN2D"
      },
      "source": [
        "## Multidimensional Data Sets\n",
        "### Two-Dimensional Arrays and Positional Games"
      ]
    },
    {
      "cell_type": "markdown",
      "metadata": {
        "id": "9LIxyMKeUKkz"
      },
      "source": [
        "To properly initialize a two-dimensional list in python, we must ensure that each cell of the primary list refers to an independent instance of a secondary list. This can be accomplished through the use of python's list comprehension syntax."
      ]
    },
    {
      "cell_type": "code",
      "execution_count": null,
      "metadata": {
        "colab": {
          "base_uri": "https://localhost:8080/"
        },
        "id": "ac-Sw4OuUhg5",
        "outputId": "e0ced344-17b4-4f43-c70b-428d6cf8e16d"
      },
      "outputs": [
        {
          "name": "stdout",
          "output_type": "stream",
          "text": [
            "[[0, 0, 0, 0], [0, 0, 0, 0], [0, 0, 0, 0]]\n"
          ]
        }
      ],
      "source": [
        "# to draw of matrix of 3*4\n",
        "r = 3\n",
        "c = 4\n",
        "data = [[0]*c for j in range(r)]\n",
        "print(data)"
      ]
    },
    {
      "cell_type": "markdown",
      "metadata": {
        "id": "mRR3YBfUVZ56"
      },
      "source": [
        "It is wrong to use $ data = ([0]*c)*r $ or $ data = [[0]*c]*r $ to create a list of $ r*c $ dimension."
      ]
    },
    {
      "cell_type": "code",
      "execution_count": null,
      "metadata": {
        "colab": {
          "base_uri": "https://localhost:8080/"
        },
        "id": "GRTK7R-vWjx7",
        "outputId": "fc124620-a0f9-49a1-d4de-9936c37ee4c9"
      },
      "outputs": [
        {
          "name": "stdout",
          "output_type": "stream",
          "text": [
            "[[0, 0, 0, 0], [0, 0, 0, 0], [0, 0, 0, 0]]\n"
          ]
        }
      ],
      "source": [
        "data_wrong = [[0]*4]*3\n",
        "print(data_wrong)"
      ]
    },
    {
      "cell_type": "markdown",
      "metadata": {
        "id": "kbZ7wxphW9m8"
      },
      "source": [
        "`data_wrong` looks same as `data`. The problem is that all 3 entries(sublists) of list data are references to the same instance of list of 4 zeroes [0,0,0,0].\n",
        "For example: if I change the reference of object at index 2 of second list inside `data_wrong`, see what happens below."
      ]
    },
    {
      "cell_type": "code",
      "execution_count": null,
      "metadata": {
        "colab": {
          "base_uri": "https://localhost:8080/"
        },
        "id": "jlX4cA7nWwKd",
        "outputId": "e6d98842-4e5c-4f60-e4d2-e1c17663416b"
      },
      "outputs": [
        {
          "name": "stdout",
          "output_type": "stream",
          "text": [
            "[[0, 0, 1, 0], [0, 0, 1, 0], [0, 0, 1, 0]]\n"
          ]
        }
      ],
      "source": [
        "data_wrong[1][2] = 1\n",
        "print(data_wrong)"
      ]
    },
    {
      "cell_type": "markdown",
      "metadata": {
        "id": "eK09BoHoYYHt"
      },
      "source": [
        "now see the effect on data which was initialised properly."
      ]
    },
    {
      "cell_type": "code",
      "execution_count": null,
      "metadata": {
        "colab": {
          "base_uri": "https://localhost:8080/"
        },
        "id": "bEo_-7MgYgrL",
        "outputId": "40569737-0ff5-493e-955a-7b46e182cdf9"
      },
      "outputs": [
        {
          "name": "stdout",
          "output_type": "stream",
          "text": [
            "[[0, 0, 0, 0], [0, 0, 1, 0], [0, 0, 0, 0]]\n"
          ]
        }
      ],
      "source": [
        "data[1][2] = 1\n",
        "print(data)"
      ]
    },
    {
      "cell_type": "markdown",
      "metadata": {
        "id": "hRnli2wRSRfj"
      },
      "source": [
        "Tic-Tac-Toe"
      ]
    },
    {
      "cell_type": "code",
      "execution_count": null,
      "metadata": {
        "id": "9qXT9dHDSivB"
      },
      "outputs": [],
      "source": [
        "class TicTacToe:\n",
        "    \"\"\"Management of a Tic-Tac-Toe game (does not do strategy).\"\"\"\n",
        "\n",
        "    def __init__(self):\n",
        "        \"\"\"Start a new game.\"\"\"\n",
        "        self._board = [ [' '] * 3 for j in range(3) ]\n",
        "        self._player = 'X'\n",
        "\n",
        "    def mark(self, i, j):\n",
        "        \"\"\"Put an X or O mark at position (i,j) for next player's turn.\"\"\"\n",
        "        if not (0 <= i <= 2 and 0 <= j <= 2):\n",
        "            raise ValueError('Invalid board position')\n",
        "        if self._board[i][j] != ' ':\n",
        "            raise ValueError('Board position occupied')\n",
        "        if self.winner() is not None:\n",
        "            raise ValueError('Game is already complete')\n",
        "        self._board[i][j] = self._player\n",
        "        if self._player == 'X':\n",
        "            self._player = 'O'\n",
        "        else:\n",
        "            self._player = 'X'\n",
        "\n",
        "    def _is_win(self, mark):\n",
        "        \"\"\"Check whether the board configuration is a win for the given player.\"\"\"\n",
        "        board = self._board                             # local variable for shorthand\n",
        "        return (mark == board[0][0] == board[0][1] == board[0][2] or    # row 0\n",
        "                mark == board[1][0] == board[1][1] == board[1][2] or    # row 1\n",
        "                mark == board[2][0] == board[2][1] == board[2][2] or    # row 2\n",
        "                mark == board[0][0] == board[1][0] == board[2][0] or    # column 0\n",
        "                mark == board[0][1] == board[1][1] == board[2][1] or    # column 1\n",
        "                mark == board[0][2] == board[1][2] == board[2][2] or    # column 2\n",
        "                mark == board[0][0] == board[1][1] == board[2][2] or    # diagonal\n",
        "                mark == board[0][2] == board[1][1] == board[2][0])      # rev diag\n",
        "\n",
        "    def winner(self):\n",
        "        \"\"\"Return mark of winning player, or None to indicate a tie.\"\"\"\n",
        "        for mark in 'XO':\n",
        "            if self._is_win(mark):\n",
        "                return mark\n",
        "        return None\n",
        "\n",
        "    def __str__(self):\n",
        "        \"\"\"Return string representation of current game board.\"\"\"\n",
        "        rows = ['|'.join(self._board[r]) for r in range(3)]\n",
        "        return '\\n-----\\n'.join(rows)"
      ]
    },
    {
      "cell_type": "code",
      "execution_count": null,
      "metadata": {
        "colab": {
          "base_uri": "https://localhost:8080/"
        },
        "id": "4B1QENzdTAMK",
        "outputId": "3e0f88f4-b61f-4900-f126-151f74c96e18"
      },
      "outputs": [
        {
          "name": "stdout",
          "output_type": "stream",
          "text": [
            "O|X|O\n",
            "-----\n",
            "O|X|X\n",
            "-----\n",
            "X|O|X\n",
            "Tie\n"
          ]
        }
      ],
      "source": [
        "# this game is not interactive.\n",
        "# we place the 'X' and 'O' and then check who won manually.\n",
        "game = TicTacToe()\n",
        "# X moves:            # O moves:\n",
        "game.mark(1, 1);      game.mark(0, 2)\n",
        "game.mark(2, 2);      game.mark(0, 0)\n",
        "game.mark(0, 1);      game.mark(2, 1)\n",
        "game.mark(1, 2);      game.mark(1, 0)\n",
        "game.mark(2, 0)\n",
        "\n",
        "print(game)\n",
        "winner = game.winner()\n",
        "if winner is None:\n",
        "    print('Tie')\n",
        "else:\n",
        "    print(winner, 'wins')"
      ]
    },
    {
      "cell_type": "markdown",
      "metadata": {
        "id": "_KaqsRx187q2"
      },
      "source": [
        "# Exercises"
      ]
    },
    {
      "cell_type": "markdown",
      "metadata": {
        "id": "l2yHAFDyTMvw"
      },
      "source": [
        "## R-5.4\n",
        "Our `DynamicArray` class as given in Code Fragment 5.3, does not support use of negative indices with `__getitem__`. Update that method to better match the semantics of a Python list."
      ]
    },
    {
      "cell_type": "code",
      "execution_count": null,
      "metadata": {
        "id": "N8Cld1zUf4HJ"
      },
      "outputs": [],
      "source": [
        "import ctypes                                      # provides low-level arrays\n",
        "\n",
        "class DynamicArray:\n",
        "    \"\"\"A dynamic array class akin to a simplified Python list.\"\"\"\n",
        "\n",
        "    def __init__(self):\n",
        "        \"\"\"Create an empty array.\"\"\"\n",
        "        self._n = 0                                    # count actual elements\n",
        "        self._capacity = 1                             # default array capacity\n",
        "        self._A = self._make_array(self._capacity)     # low-level array\n",
        "\n",
        "    def __len__(self):\n",
        "        \"\"\"Return number of elements stored in the array.\"\"\"\n",
        "        return self._n\n",
        "\n",
        "    #--- I have modified this section for the given problem R-5.4  ---#\n",
        "    def __getitem__(self, k):\n",
        "        \"\"\"Return element at index k.\"\"\"\n",
        "        if not 0 <= k < self._n and not -self._n <= k < 0:\n",
        "            raise IndexError('invalid index')\n",
        "        if k >= 0:\n",
        "            return self._A[k]                              # retrieve from array\n",
        "        else:\n",
        "            return self._A[k+self._n]\n",
        "    #--- I have modified this section for the given problem R-5.4  ---#\n",
        "\n",
        "    def append(self, obj):\n",
        "        \"\"\"Add object to end of the array.\"\"\"\n",
        "        if self._n == self._capacity:                  # not enough room\n",
        "            self._resize(2 * self._capacity)             # so double capacity\n",
        "        self._A[self._n] = obj\n",
        "        self._n += 1\n",
        "\n",
        "    def _resize(self, c):                            # nonpublic utitity\n",
        "        \"\"\"Resize internal array to capacity c.\"\"\"\n",
        "        B = self._make_array(c)                        # new (bigger) array\n",
        "        for k in range(self._n):                       # for each existing value\n",
        "            B[k] = self._A[k]\n",
        "        self._A = B                                    # use the bigger array\n",
        "        self._capacity = c\n",
        "\n",
        "    def _make_array(self, c):                        # nonpublic utitity\n",
        "        \"\"\"Return new array with capacity c.\"\"\"\n",
        "        return (c * ctypes.py_object)()               # see ctypes documentation"
      ]
    },
    {
      "cell_type": "code",
      "execution_count": null,
      "metadata": {
        "colab": {
          "base_uri": "https://localhost:8080/"
        },
        "id": "TK7dbMmHkEx9",
        "outputId": "f5f8545d-dee0-4b94-d1b9-5e4ede71d43b"
      },
      "outputs": [
        {
          "name": "stdout",
          "output_type": "stream",
          "text": [
            "<__main__.DynamicArray object at 0x7995a6c0cca0>\n",
            "10\n",
            "10 10\n",
            "19 19\n"
          ]
        }
      ],
      "source": [
        "dynamic_array = DynamicArray()\n",
        "for i in range(10,20):\n",
        "    dynamic_array.append(i)\n",
        "print(dynamic_array)  # this will not work, we have not defined __str__.\n",
        "print(len(dynamic_array))\n",
        "print(dynamic_array[0], dynamic_array[-10])\n",
        "print(dynamic_array[9], dynamic_array[-1])"
      ]
    },
    {
      "cell_type": "markdown",
      "metadata": {
        "id": "eUcB3okJl4fy"
      },
      "source": [
        "## R-5.6\n",
        "Our implementation of insert for the `DynamicArray` class, as given in Code Fragment 5.5, has the following inefficiency. In the case when a resize occurs, the resize operation takes time to copy all the elements from an old array to a new array, and then the subsequent loop in the body of insert shifts many of those elements. Give an improved implementation of the `insert` method, so that, in the case of a resize, the elements are shifted into their final position during that operation, thereby avoiding the subsequent shifting.\n"
      ]
    },
    {
      "cell_type": "code",
      "execution_count": null,
      "metadata": {
        "id": "99b9coxSwYh6"
      },
      "outputs": [],
      "source": [
        "import ctypes                                      # provides low-level arrays\n",
        "\n",
        "class DynamicArray1:\n",
        "    \"\"\"A dynamic array class akin to a simplified Python list.\"\"\"\n",
        "\n",
        "    def __init__(self):\n",
        "        \"\"\"Create an empty array.\"\"\"\n",
        "        self._n = 0                                    # count actual elements\n",
        "        self._capacity = 1                             # default array capacity\n",
        "        self._A = self._make_array(self._capacity)     # low-level array\n",
        "\n",
        "    def __str__(self):\n",
        "        return ', '.join(str(self._A[i]) for i in range(self._n))\n",
        "        # here I was writing str(i) for i in self._A, but it was not working.\n",
        "        # it took me long to figure out that 'in' operator will not work in self._A,\n",
        "        # as I have not defined __contains__ method in this class.\n",
        "        # so I have to use range object here, because range class has this method.\n",
        "\n",
        "    def __len__(self):\n",
        "        \"\"\"Return number of elements stored in the array.\"\"\"\n",
        "        return self._n\n",
        "\n",
        "    #--- I have modified this section for the given problem R-5.4  ---#\n",
        "    def __getitem__(self, k):\n",
        "        \"\"\"Return element at index k.\"\"\"\n",
        "        if not 0 <= k < self._n and not -self._n <= k < 0:\n",
        "            raise IndexError('invalid index')\n",
        "        if k >= 0:\n",
        "            return self._A[k]                              # retrieve from array\n",
        "        else:\n",
        "            return self._A[k+self._n]\n",
        "    #--- I have modified this section for the given problem R-5.4  ---#\n",
        "\n",
        "    def append(self, obj):\n",
        "        \"\"\"Add object to end of the array.\"\"\"\n",
        "        if self._n == self._capacity:                  # not enough room\n",
        "            self._resize(2 * self._capacity)             # so double capacity\n",
        "        self._A[self._n] = obj\n",
        "        self._n += 1\n",
        "\n",
        "    def _make_array(self, c):                        # nonpublic utitity\n",
        "        \"\"\"Return new array with capacity c.\"\"\"\n",
        "        return (c * ctypes.py_object)()               # see ctypes documentation\n",
        "\n",
        "    #--- I have modified this section for the given problem R-5.6  ---#\n",
        "    def insert(self, k, value):\n",
        "        \"\"\"Insert value at index k, shifting subsequent values rightward.\"\"\"\n",
        "        # (for simplicity, we assume 0 <= k <= n in this verion)\n",
        "        if self._n == self._capacity:                  # not enough room\n",
        "            self._resize(2 * self._capacity, k, value)   # so double capacity\n",
        "        else:\n",
        "            self._resize(self._capacity, k, value)\n",
        "        self._n += 1\n",
        "\n",
        "    def _resize(self, c, k=None, value=None):              # nonpublic utitity\n",
        "        \"\"\"Resize internal array to capacity c.\"\"\"\n",
        "        B = self._make_array(c)                    # new (bigger) array\n",
        "        if k == None and value == None:     # if append method is used.\n",
        "            for j in range(self._n):              # for each existing value\n",
        "                B[j] = self._A[j]\n",
        "        else:                               # if insert method is used.\n",
        "            for j in range(self._n,k,-1):\n",
        "                B[j] = self._A[j-1]\n",
        "            for j in range(k):\n",
        "                B[j] = self._A[j]\n",
        "                B[k] = value\n",
        "        self._A = B                                    # use the bigger array\n",
        "        self._capacity = c\n",
        "    #--- I have modified this section for the given problem R-5.6  ---#"
      ]
    },
    {
      "cell_type": "code",
      "execution_count": null,
      "metadata": {
        "colab": {
          "base_uri": "https://localhost:8080/"
        },
        "id": "IgvvRW7AzhdQ",
        "outputId": "cc152616-c5a9-4e7e-ca1f-33d326de440c"
      },
      "outputs": [
        {
          "name": "stdout",
          "output_type": "stream",
          "text": [
            "15, 16, 17, 18, 19, 20, 21, 22, 23, 24\n"
          ]
        }
      ],
      "source": [
        "dyn_arr_insert = DynamicArray1() # create an empty list.\n",
        "for i in range(15,25):\n",
        "    dyn_arr_insert.append(i)     # use append method to grow the list.\n",
        "print(dyn_arr_insert)"
      ]
    },
    {
      "cell_type": "code",
      "execution_count": null,
      "metadata": {
        "id": "azFScvPy4NNf"
      },
      "outputs": [],
      "source": [
        "# insert 555 at index 2\n",
        "dyn_arr_insert.insert(2, 555)\n",
        "# this insert is more efficient than Code Fragment 5.5 in the book.\n",
        "# the insertion is happening during resize only."
      ]
    },
    {
      "cell_type": "code",
      "execution_count": null,
      "metadata": {
        "colab": {
          "base_uri": "https://localhost:8080/"
        },
        "id": "ChAv7L2o9l5r",
        "outputId": "09c0e0d9-7c0e-4913-8b6e-ea0a8d32478e"
      },
      "outputs": [
        {
          "name": "stdout",
          "output_type": "stream",
          "text": [
            "15, 16, 555, 17, 18, 19, 20, 21, 22, 23, 24\n"
          ]
        }
      ],
      "source": [
        "print(dyn_arr_insert)"
      ]
    },
    {
      "cell_type": "markdown",
      "metadata": {
        "id": "L-H0McJl_IKg"
      },
      "source": [
        "## R-5.7\n",
        "Let $ A $ be an array of size $ n ≥ 2 $ containing integers from $ 1 $ to $ n-1 $, inclusive, with exactly one repeated. Describe a fast algorithm for finding the integer in $ A $ that is repeated.\n"
      ]
    },
    {
      "cell_type": "code",
      "execution_count": null,
      "metadata": {
        "id": "nn-8dscyJGTo"
      },
      "outputs": [],
      "source": [
        "# A naive implementation.\n",
        "def find_repeated_int(A):\n",
        "    for i in range(len(A)):\n",
        "        for j in range(i+1, len(A)):\n",
        "            #print(f'{i}, {A[i]} : {j}, {A[j]}')\n",
        "            if A[i] == A[j]:\n",
        "                return A[i]\n",
        "# This algorithm has O(n^2) complexity."
      ]
    },
    {
      "cell_type": "code",
      "execution_count": null,
      "metadata": {
        "colab": {
          "base_uri": "https://localhost:8080/"
        },
        "id": "uevrgRTQJvap",
        "outputId": "6e8044a2-b366-4e78-d159-7bdcbd88c313"
      },
      "outputs": [
        {
          "name": "stdout",
          "output_type": "stream",
          "text": [
            "6\n"
          ]
        }
      ],
      "source": [
        "print(find_repeated_int([1,2,3,4,5,6,6]))"
      ]
    },
    {
      "cell_type": "markdown",
      "metadata": {
        "id": "hzo97zw2J5R-"
      },
      "source": [
        "We can make this algorithm efficient by applying mathematical tools.\n",
        "It has been given in problem that the integers are from $ 1 $ to $ n-1 $.\n",
        "* We find their sum by using formula $ \\frac{t(t+1)}{2} $ i.e sum of AP. So the sum becomes $ \\frac{(n-1) n}{2} $. It takes $ O(1) $.\n",
        "* We find sum of the array $ A $, by using $ sum(A) $, it takes $ O(n) $.\n",
        "* Then we subtract them to get the repeated integer."
      ]
    },
    {
      "cell_type": "code",
      "execution_count": null,
      "metadata": {
        "id": "nFdeO7gWLKsm"
      },
      "outputs": [],
      "source": [
        "def efficient_find_repeated_int(A):\n",
        "    n = len(A)              # O(1)\n",
        "    sum1 = ((n-1)*n)/2      # O(1)\n",
        "    sum2 = sum(A)           # O(n)\n",
        "    integer = sum2 - sum1   # O(1)\n",
        "    if integer%1 == 0:      # if num%1 == 0, then num is int.\n",
        "        return int(integer)\n",
        "# This algorithm has O(n) time complexity."
      ]
    },
    {
      "cell_type": "code",
      "execution_count": null,
      "metadata": {
        "colab": {
          "base_uri": "https://localhost:8080/"
        },
        "id": "7K7uT4F_MUE-",
        "outputId": "5cf8adf8-5d34-49ee-86bc-f75c6de6bfd2"
      },
      "outputs": [
        {
          "data": {
            "text/plain": [
              "8"
            ]
          },
          "execution_count": 139,
          "metadata": {},
          "output_type": "execute_result"
        }
      ],
      "source": [
        "efficient_find_repeated_int([1,2,3,4,5,6,7,8,8,9,10,11,12])"
      ]
    },
    {
      "cell_type": "markdown",
      "metadata": {
        "id": "P9Rx5kA7MaoO"
      },
      "source": [
        "We test the time taken by both algorithms."
      ]
    },
    {
      "cell_type": "code",
      "execution_count": null,
      "metadata": {
        "colab": {
          "base_uri": "https://localhost:8080/"
        },
        "id": "Ze9kWdWYM5cF",
        "outputId": "ab4221d0-cef9-49cc-c46e-15df8d13d572"
      },
      "outputs": [
        {
          "name": "stdout",
          "output_type": "stream",
          "text": [
            "527\n",
            "time of inefficient algorithm:  4.6102447509765625\n",
            "527\n",
            "time of efficient algorithm:  0.0007550716400146484\n"
          ]
        }
      ],
      "source": [
        "from time import time\n",
        "\n",
        "A = [i for i in range(1,100000)]\n",
        "A.insert(9000,527)      # 527 is the repeated item at index 9000\n",
        "\n",
        "start_time_i = time()\n",
        "print(find_repeated_int(A))\n",
        "end_time_i = time()\n",
        "elapsed_i = end_time_i - start_time_i\n",
        "print('time of inefficient algorithm: ',elapsed_i)\n",
        "\n",
        "start_time = time()\n",
        "print(efficient_find_repeated_int(A))\n",
        "end_time = time()\n",
        "elapsed = end_time - start_time\n",
        "print('time of efficient algorithm: ',elapsed)\n"
      ]
    },
    {
      "cell_type": "markdown",
      "metadata": {
        "id": "o18MqdMBZZjT"
      },
      "source": [
        "## R-5.10\n",
        "The constructor for the `CaesarCipher` class in Code Fragment 5.11 can be implemented with a two-line body by building the forward and backward strings using a combination of the join method and an appropriate comprehension syntax. Give such an implementation."
      ]
    },
    {
      "cell_type": "code",
      "execution_count": null,
      "metadata": {
        "id": "Q7Wx7b5JH--G"
      },
      "outputs": [],
      "source": [
        "class CaesarCipher1:  # changed name to avoid conflict.\n",
        "    \"\"\"Class for doing encryption and decryption using a Caesar cipher.\"\"\"\n",
        "\n",
        "    def __init__(self, shift):\n",
        "        \"\"\"Construct Caesar cipher using given integer shift for rotation.\"\"\"\n",
        "        # replaced earlier code block by using comprehension syntax.\n",
        "        self._forward = ''.join(chr((k + shift) % 26 + ord('A')) for k in range(26))\n",
        "        self._backward = ''.join(chr((k - shift) % 26 + ord('A')) for k in range(26))\n",
        "\n",
        "    def __str__(self):      # to print the output.\n",
        "        return self._forward + '\\n' + self._backward"
      ]
    },
    {
      "cell_type": "code",
      "execution_count": null,
      "metadata": {
        "colab": {
          "base_uri": "https://localhost:8080/"
        },
        "id": "2tss6JnnJ27x",
        "outputId": "8cb875f4-8bab-4206-90fd-560cbaaa8f76"
      },
      "outputs": [
        {
          "name": "stdout",
          "output_type": "stream",
          "text": [
            "EFGHIJKLMNOPQRSTUVWXYZABCD\n",
            "WXYZABCDEFGHIJKLMNOPQRSTUV\n"
          ]
        }
      ],
      "source": [
        "caesar_test = CaesarCipher1(4)\n",
        "print(caesar_test)"
      ]
    },
    {
      "cell_type": "markdown",
      "metadata": {
        "id": "24XB77xLKDuz"
      },
      "source": [
        "## R-5.11\n",
        "Use standard control structures to compute the sum of all numbers in an $ n \\times n $ data set, represented as a list of lists."
      ]
    },
    {
      "cell_type": "code",
      "execution_count": null,
      "metadata": {
        "id": "hjiba-tXK4Qk"
      },
      "outputs": [],
      "source": [
        "def sum_of_matrix_elements(M):\n",
        "    total = 0\n",
        "    count = 0  # I will use it to check if all elements have been added or not.\n",
        "    for i in M:\n",
        "        for j in i:\n",
        "            total = total + j\n",
        "            count = count + 1\n",
        "    return f'sum of {count} elements of matrix is {total}'"
      ]
    },
    {
      "cell_type": "code",
      "execution_count": null,
      "metadata": {
        "colab": {
          "base_uri": "https://localhost:8080/"
        },
        "id": "ELxSO-0aLZwZ",
        "outputId": "1f1a38d5-1de5-4956-ad8f-cdb7a9dc7f46"
      },
      "outputs": [
        {
          "name": "stdout",
          "output_type": "stream",
          "text": [
            "sum of 9 elements of matrix is 177\n"
          ]
        }
      ],
      "source": [
        "M = [[3,4,5], [2,9,32], [23,76,23]]\n",
        "print(sum_of_matrix_elements(M))"
      ]
    },
    {
      "cell_type": "markdown",
      "metadata": {
        "id": "nuqj3L-3L_Cz"
      },
      "source": [
        "## R-5.12\n",
        "Describe how the built-in `sum` function can be combined with Python's comprehension syntax to compute the sum of all numbers in an $ n \\times n $ data set, represented as a list of lists."
      ]
    },
    {
      "cell_type": "code",
      "execution_count": null,
      "metadata": {
        "id": "s4_MdRHZMScY"
      },
      "outputs": [],
      "source": [
        "def sum_of_elements(M):\n",
        "    return sum(sum(i) for i in M)"
      ]
    },
    {
      "cell_type": "code",
      "execution_count": null,
      "metadata": {
        "colab": {
          "base_uri": "https://localhost:8080/"
        },
        "id": "cL9uUxUWMv3d",
        "outputId": "33577dec-21f0-4b87-d5ae-18c22648e849"
      },
      "outputs": [
        {
          "name": "stdout",
          "output_type": "stream",
          "text": [
            "177\n"
          ]
        }
      ],
      "source": [
        "M = [[3,4,5], [2,9,32], [23,76,23]]\n",
        "print(sum_of_elements(M))"
      ]
    },
    {
      "cell_type": "markdown",
      "metadata": {
        "id": "-DOMUcgPM12h"
      },
      "source": [
        "## C-5.14\n",
        "The `shuffle` method, supported by the `random` module, takes a Python list and rearranges it so that every possible ordering is equally likely. Implement your own version of such a function. You may rely on the `randrange(n)` function of the `random` module, which returns a random number between $ 0 $ and $ n - 1 $ inclusive."
      ]
    },
    {
      "cell_type": "code",
      "execution_count": 4,
      "metadata": {
        "id": "qjxReG_4Osnu"
      },
      "outputs": [],
      "source": [
        "import random\n",
        "def random_shuffle(S):\n",
        "    result_list = list()\n",
        "    while S:\n",
        "        i = random.randrange(len(S))\n",
        "        result_list.append(S.pop(i))\n",
        "    return result_list"
      ]
    },
    {
      "cell_type": "code",
      "execution_count": 5,
      "metadata": {
        "colab": {
          "base_uri": "https://localhost:8080/"
        },
        "id": "FMLRHiCUPXT_",
        "outputId": "ed6c2c76-2d01-43d6-df6b-4ad7ddf152eb"
      },
      "outputs": [
        {
          "name": "stdout",
          "output_type": "stream",
          "text": [
            "[49, 54, 34, 99, 78, 23]\n",
            "[49, 34, 54, 78, 23, 99]\n",
            "[23, 78, 49, 99, 34, 54]\n",
            "[23, 54, 34, 99, 78, 49]\n",
            "[54, 78, 99, 34, 23, 49]\n"
          ]
        }
      ],
      "source": [
        "for i in range(5):\n",
        "    print(random_shuffle([34,78,23,49,54,99]))"
      ]
    },
    {
      "cell_type": "markdown",
      "metadata": {
        "id": "EBU4u4iZkNLt"
      },
      "source": [
        "## C-5.16\n",
        "### Try Again.\n",
        "Implement a `pop` method for the `DynamicArray` class, given in Code Fragment 5.3, that removes the last element of the array, and that shrinks the capacity, $ N $, of the array by half any time the number of elements in the array goes below $ N/4 $.\n"
      ]
    },
    {
      "cell_type": "code",
      "execution_count": null,
      "metadata": {
        "id": "D5V59tTfPadj"
      },
      "outputs": [],
      "source": [
        "import ctypes                                      # provides low-level arrays\n",
        "\n",
        "class DynamicArray2:\n",
        "    \"\"\"A dynamic array class akin to a simplified Python list.\"\"\"\n",
        "\n",
        "    def __init__(self):\n",
        "        \"\"\"Create an empty array.\"\"\"\n",
        "        self._n = 0                                    # count actual elements\n",
        "        self._capacity = 1                             # default array capacity\n",
        "        self._A = self._make_array(self._capacity)     # low-level array\n",
        "\n",
        "    def __str__(self):\n",
        "        return ', '.join(str(self._A[i]) for i in range(self._n))\n",
        "        # here I was writing str(i) for i in self._A, but it was not working.\n",
        "        # it took me long to figure out that 'in' operator will not work in self._A,\n",
        "        # as I have not defined __contains__ method in this class.\n",
        "        # so I have to use range object here, because range class has this method.\n",
        "\n",
        "    def __len__(self):\n",
        "        \"\"\"Return number of elements stored in the array.\"\"\"\n",
        "        return self._n\n",
        "\n",
        "    #--- I have modified this section for the given problem R-5.4  ---#\n",
        "    def __getitem__(self, k):\n",
        "        \"\"\"Return element at index k.\"\"\"\n",
        "        if not 0 <= k < self._n and not -self._n <= k < 0:\n",
        "            raise IndexError('invalid index')\n",
        "        if k >= 0:\n",
        "            return self._A[k]                              # retrieve from array\n",
        "        else:\n",
        "            return self._A[k+self._n]\n",
        "    #--- I have modified this section for the given problem R-5.4  ---#\n",
        "\n",
        "    def append(self, obj):\n",
        "        \"\"\"Add object to end of the array.\"\"\"\n",
        "        if self._n == self._capacity:                  # not enough room\n",
        "            self._resize(2 * self._capacity)             # so double capacity\n",
        "        self._A[self._n] = obj\n",
        "        self._n += 1\n",
        "\n",
        "    def _make_array(self, c):                        # nonpublic utitity\n",
        "        \"\"\"Return new array with capacity c.\"\"\"\n",
        "        return (c * ctypes.py_object)()               # see ctypes documentation\n",
        "\n",
        "    #--- I have modified this section for the given problem R-5.6  ---#\n",
        "    def insert(self, k, value):\n",
        "        \"\"\"Insert value at index k, shifting subsequent values rightward.\"\"\"\n",
        "        # (for simplicity, we assume 0 <= k <= n in this verion)\n",
        "        if self._n == self._capacity:                  # not enough room\n",
        "            self._resize(2 * self._capacity, k, value)   # so double capacity\n",
        "        else:\n",
        "            self._resize(self._capacity, k, value)\n",
        "        self._n += 1\n",
        "\n",
        "    def pop(self):\n",
        "        del self._A[self._n-1] \"\"\"DEL IS NOT SUPPORTED\"\"\"\n",
        "        self._n = self._n - 1\n",
        "        if self._n == self._capacity / 4:   # number of elements have reduced by 1/4 of capacity.\n",
        "            self._resize(self, self._capacity / 2)  # reduce the capacity by half.\n",
        "\n",
        "    def _resize(self, c, k=None, value=None):              # nonpublic utitity\n",
        "        \"\"\"Resize internal array to capacity c.\"\"\"\n",
        "        B = self._make_array(c)                    # new (bigger) array\n",
        "        if k == None and value == None:     # if append method is used.\n",
        "            for j in range(self._n):              # for each existing value\n",
        "                B[j] = self._A[j]\n",
        "        else:                               # if insert method is used.\n",
        "            for j in range(self._n,k,-1):\n",
        "                B[j] = self._A[j-1]\n",
        "            for j in range(k):\n",
        "                B[j] = self._A[j]\n",
        "                B[k] = value\n",
        "        self._A = B                                    # use the bigger array\n",
        "        self._capacity = c\n",
        "    #--- I have modified this section for the given problem R-5.6  ---#"
      ]
    },
    {
      "cell_type": "markdown",
      "metadata": {
        "id": "OrNZBCFroZ4m"
      },
      "source": [
        "We will test two things here:\n",
        "1. Grow a `DynamicArray` object and notice the change in its size.\n",
        "2. Shrink the same object and see if the size of the object is reducing."
      ]
    },
    {
      "cell_type": "code",
      "execution_count": null,
      "metadata": {
        "colab": {
          "base_uri": "https://localhost:8080/"
        },
        "id": "EfI1xHEDkmgW",
        "outputId": "48119711-b302-4017-8dad-4b7ba1fefa43"
      },
      "outputs": [
        {
          "name": "stdout",
          "output_type": "stream",
          "text": [
            "n:  0 size in bytes:  48\n",
            "n:  1 size in bytes:  48\n",
            "n:  2 size in bytes:  48\n",
            "n:  3 size in bytes:  48\n",
            "n:  4 size in bytes:  48\n",
            "n:  5 size in bytes:  48\n",
            "n:  6 size in bytes:  48\n",
            "n:  7 size in bytes:  48\n",
            "n:  8 size in bytes:  48\n",
            "n:  9 size in bytes:  48\n",
            "n:  10 size in bytes:  48\n",
            "n:  11 size in bytes:  48\n",
            "n:  12 size in bytes:  48\n",
            "n:  13 size in bytes:  48\n",
            "n:  14 size in bytes:  48\n",
            "n:  15 size in bytes:  48\n",
            "n:  16 size in bytes:  48\n",
            "n:  17 size in bytes:  48\n",
            "n:  18 size in bytes:  48\n",
            "n:  19 size in bytes:  48\n",
            "n:  20 size in bytes:  48\n",
            "n:  21 size in bytes:  48\n",
            "n:  22 size in bytes:  48\n",
            "n:  23 size in bytes:  48\n",
            "n:  24 size in bytes:  48\n",
            "n:  25 size in bytes:  48\n",
            "n:  26 size in bytes:  48\n",
            "n:  27 size in bytes:  48\n",
            "n:  28 size in bytes:  48\n",
            "n:  29 size in bytes:  48\n"
          ]
        }
      ],
      "source": [
        "import sys\n",
        "dyn_arr = DynamicArray2()\n",
        "for k in range(30):\n",
        "    a = len(dyn_arr)\n",
        "    b = sys.getsizeof(dyn_arr) # why is it not working???\n",
        "    print('n: ',a , 'size in bytes: ',b)\n",
        "    dyn_arr.append(None)"
      ]
    },
    {
      "cell_type": "markdown",
      "metadata": {
        "id": "-cxQ3RphLJeI"
      },
      "source": [
        "## C-5.25\n",
        "The syntax `data.remove(value)` for Python list data removes only the first occurrence of element value from the list. Give an implementation of a function, with signature `remove_all(data, value)`, that removes all occurrences of value from the given list, such that the worst-case running time of the function is $ O(n) $ on a list with $ n $ elements. Not that it is not efficient enough in general to rely on repeated calls to remove.\n"
      ]
    },
    {
      "cell_type": "code",
      "execution_count": null,
      "metadata": {
        "id": "YX2df0fkMiEE"
      },
      "outputs": [],
      "source": [
        "def remove_all(data,value):\n",
        "    lst = list()\n",
        "    for i in range(len(data)):\n",
        "        if data[i] != value:\n",
        "            lst.append(data[i])\n",
        "    \"\"\" data[i] is O(1), lst.append() is O(1) amortized, and\n",
        "        the loop will run n time.\n",
        "        O(1) + O(1) runs n times.\n",
        "        This makes whole operation O(n)\"\"\"\n",
        "    return lst"
      ]
    },
    {
      "cell_type": "code",
      "execution_count": null,
      "metadata": {
        "colab": {
          "base_uri": "https://localhost:8080/"
        },
        "id": "0O5HA2lSOU3p",
        "outputId": "7a428dfd-181c-4df8-80ce-1f2ef9296aeb"
      },
      "outputs": [
        {
          "name": "stdout",
          "output_type": "stream",
          "text": [
            "[1, 2, 4, 5]\n"
          ]
        }
      ],
      "source": [
        "print(remove_all([1,2,3,4,3,5],3))"
      ]
    },
    {
      "cell_type": "markdown",
      "metadata": {
        "id": "uTZTzWbtOb_c"
      },
      "source": [
        "## C-5.27\n",
        "Given a Python list $ L $ of $ n $ positive integers, each represented with $ k = ⌈log(n)⌉ + 1 $ bits, describe an $ O(n) $-time method for finding a $ k $-bit integer not in $ L $."
      ]
    },
    {
      "cell_type": "code",
      "execution_count": null,
      "metadata": {
        "id": "kj7dVnUcaBCy"
      },
      "outputs": [],
      "source": [
        "# I don't understand what is special in this question.\n",
        "# it's quite simple.\n",
        "def check_int(L, k_bit_integer):\n",
        "    \"\"\" This will check all n elements in list,\n",
        "        if k-bit integer is not in list.\n",
        "        So O(n)-time.\"\"\"\n",
        "    if k_bit_integer in L:\n",
        "        return True\n",
        "    return False"
      ]
    },
    {
      "cell_type": "markdown",
      "metadata": {
        "id": "xQ6wAUnmatkF"
      },
      "source": [
        "## C-5.29\n",
        "A useful operation in databases is the **natural join**. If we view a database as a list of ordered pairs of objects, then the natural join of databases $ A $ and $ B $ is the list of all ordered triples $ (x,y,z) $ such that the pair $ (x,y) $ is in $ A $ and the pair $ (y,z) $ is in $ B $. Describe and analyze an efficient algorithm for computing the natural join of a list $ A $ of $ n $ pairs and a list $ B $ of $ m $ pairs."
      ]
    },
    {
      "cell_type": "code",
      "execution_count": null,
      "metadata": {
        "id": "0kup3y42fqSW"
      },
      "outputs": [],
      "source": [
        "def natural_join(A, B):\n",
        "    nj = list()\n",
        "    for i in A:\n",
        "        for j in B:\n",
        "            if i[1] == j[0]:\n",
        "                nj.append((i[0],i[1],j[1]))\n",
        "    return nj\n",
        "    # This algorithm has O(n*m) time complexity.\n",
        "    # Can this algorithm be made better?"
      ]
    },
    {
      "cell_type": "code",
      "execution_count": null,
      "metadata": {
        "colab": {
          "base_uri": "https://localhost:8080/"
        },
        "id": "6rWw2Js5gw-g",
        "outputId": "7b2a6263-2763-42b4-f667-281923f0cb1a"
      },
      "outputs": [
        {
          "name": "stdout",
          "output_type": "stream",
          "text": [
            "[(12, 34, 10), (77, 9, 32), ('x', 'y', 'z')]\n"
          ]
        }
      ],
      "source": [
        "A = [(12,34),(45,67),(11,87),(77,9),('x','y')]\n",
        "B = [(11,23),(9,32),(34,10),('y','z')]\n",
        "print(natural_join(A, B))"
      ]
    },
    {
      "cell_type": "markdown",
      "metadata": {
        "id": "7JE7VhQahOmE"
      },
      "source": [
        "## C-5.31\n",
        "Describe a way to use recursion to add all the numbers in an $ n \\times n $ data set, represented as a list of lists."
      ]
    },
    {
      "cell_type": "code",
      "execution_count": null,
      "metadata": {
        "id": "uSRhkw__iiXN"
      },
      "outputs": [],
      "source": [
        "def recursion_add(L, lower, low, high, sm = 0):\n",
        "    \"\"\" L is the list of list.\n",
        "        lower is the index of L referencing sub-lists.\n",
        "        low and high are the indices of sub-list representing numbers.\n",
        "        We would need a higher parameter if L was not n*n.\"\"\"\n",
        "    if lower == high and low > high:\n",
        "        return sm\n",
        "    if low > high:\n",
        "        lower = lower + 1\n",
        "        low = 0\n",
        "    sm = sm + L[lower][low]\n",
        "    return recursion_add(L, lower, low+1, high, sm)"
      ]
    },
    {
      "cell_type": "code",
      "execution_count": null,
      "metadata": {
        "colab": {
          "base_uri": "https://localhost:8080/"
        },
        "id": "8dZiWNHlkJ8-",
        "outputId": "f2652821-e1cc-4431-b48a-7c9a97a63e4a"
      },
      "outputs": [
        {
          "name": "stdout",
          "output_type": "stream",
          "text": [
            "177\n"
          ]
        }
      ],
      "source": [
        "M = [[3,4,5], [2,9,32], [23,76,23]]\n",
        "print(recursion_add(M, 0, 0, 2))"
      ]
    },
    {
      "cell_type": "code",
      "execution_count": null,
      "metadata": {
        "id": "WbdEmA2vrICQ"
      },
      "outputs": [],
      "source": []
    }
  ],
  "metadata": {
    "colab": {
      "provenance": []
    },
    "kernelspec": {
      "display_name": "Python 3",
      "name": "python3"
    },
    "language_info": {
      "codemirror_mode": {
        "name": "ipython",
        "version": 3
      },
      "file_extension": ".py",
      "mimetype": "text/x-python",
      "name": "python",
      "nbconvert_exporter": "python",
      "pygments_lexer": "ipython3",
      "version": "3.12.0"
    }
  },
  "nbformat": 4,
  "nbformat_minor": 0
}
