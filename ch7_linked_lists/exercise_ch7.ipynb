{
 "cells": [
  {
   "cell_type": "code",
   "execution_count": 1,
   "metadata": {},
   "outputs": [],
   "source": [
    "from linked_stack import LinkedStack\n",
    "from linked_queue import LinkedQueue\n",
    "from linked_deque import LinkedDeque\n",
    "from circular_queue import CircularQueue\n",
    "from positional_list import PositionalList\n",
    "from favorite_list import FavoriteList\n",
    "from favorite_list_mtf import FavoriteListMTF"
   ]
  },
  {
   "cell_type": "markdown",
   "metadata": {},
   "source": [
    "Note:\n",
    "* We'll access nonpublic methods for better clarity. We can always create new classes or make changes to existing ones in which we decide which methods are available for users.\n",
    "* We use inheritance even if it is not explicit in the question, so that we don't have to write whole class definition, if the problem is just asking for small modification. We create a new class, inherit from the main class that has been mentioned in the problem, and modity the new class and check if the modification has been implemented correctly."
   ]
  },
  {
   "cell_type": "markdown",
   "metadata": {},
   "source": [
    "# Reinforcement"
   ]
  },
  {
   "cell_type": "markdown",
   "metadata": {},
   "source": [
    "## R-7.1\n",
    "Give an algorithm for finding the second-to-last node in a singly linked list in which the last node is indicated by a next reference of `None`."
   ]
  },
  {
   "cell_type": "markdown",
   "metadata": {},
   "source": [
    "Solution: In singly linked list we cannot find the second to last node from last node (tail). We have to traverse from head to the required node.\n",
    "We will used `LinkedQueue` class that we have already created to create `SinglyLinkedList`.\n",
    "We are doing so because `LinkedDeque` has access to both head and tail nodes.\n",
    "We could also use `LinkedStack` class."
   ]
  },
  {
   "cell_type": "code",
   "execution_count": 2,
   "metadata": {},
   "outputs": [],
   "source": [
    "class SinglyLinkedList(LinkedQueue):\n",
    "    \"\"\"We use the Linked Queue class to define a singly linked list\n",
    "    in which we create a find method which will traverse the list\n",
    "    from head to the second-to-last node.\n",
    "    \n",
    "    Linked Queue stores reference to hail and tail.\n",
    "    \"\"\"\n",
    "\n",
    "    def append(self, e):\n",
    "        super().enqueue(e)\n",
    "    \n",
    "    def next(self, node):\n",
    "        \"\"\"Return the next node.\"\"\"\n",
    "        return node._next\n",
    "    \n",
    "    def element(self, node):\n",
    "        \"\"\"Reuturn the element of a given node.\"\"\"\n",
    "        return node._element\n",
    "    \n",
    "    def first(self):\n",
    "        \"\"\"Return the first node.\"\"\"\n",
    "        return self._head\n",
    "    \n",
    "    def first_element(self):\n",
    "        \"\"\"Return the first element.\"\"\"\n",
    "        return self._head._element\n",
    "\n",
    "    def last(self):\n",
    "        \"\"\"Return the last node.\"\"\"\n",
    "        return self._tail\n",
    "\n",
    "    def last_element(self):\n",
    "        \"\"\"Return the last element.\"\"\"\n",
    "        return self._tail._element"
   ]
  },
  {
   "cell_type": "code",
   "execution_count": 3,
   "metadata": {},
   "outputs": [
    {
     "name": "stdout",
     "output_type": "stream",
     "text": [
      "6\n",
      "23,56,76,hello,43,76,\n",
      "second to last element:  43\n"
     ]
    }
   ],
   "source": [
    "snglinklist = SinglyLinkedList()\n",
    "for i in [23, 56, 76, \"hello\", 43, 76]:\n",
    "    snglinklist.append(i)\n",
    "\n",
    "print(len(snglinklist))\n",
    "print(snglinklist)\n",
    "\n",
    "marker = snglinklist.first()\n",
    "while snglinklist.next(marker) is not snglinklist.last():\n",
    "    marker = snglinklist.next(marker)\n",
    "\n",
    "# marker is the second to last node.\n",
    "# we try to print the element of marker node to verity our result.\n",
    "print(\"second to last element: \", snglinklist.element(marker))\n"
   ]
  },
  {
   "cell_type": "markdown",
   "metadata": {},
   "source": [
    "## R-7.2\n",
    "Describe a good algorithm for concatenating two singly linked lists $ L $ and $ M $, given only references to the first node of each list, into a single list $ L_{new} $ that contains all the nodes of $ L $ followed by all the nodes of $ M $."
   ]
  },
  {
   "cell_type": "markdown",
   "metadata": {},
   "source": [
    "Solution: We will find the last node of singly linked list $ L $ and link it to the first node (head) of singly linked list $ M $.\n",
    "* This takes $ O(1) $ unlike list class of Python."
   ]
  },
  {
   "cell_type": "code",
   "execution_count": 4,
   "metadata": {},
   "outputs": [
    {
     "name": "stdout",
     "output_type": "stream",
     "text": [
      "45,34,23,66,99,new,34,67,22,old,11,\n"
     ]
    }
   ],
   "source": [
    "L = SinglyLinkedList()\n",
    "for i in [45, 34, 23,66, 99 , \"new\"]:\n",
    "    L.append(i)\n",
    "\n",
    "M = SinglyLinkedList()\n",
    "for i in [34, 67, 22, \"old\", 11]:\n",
    "    M.append(i)\n",
    "\n",
    "def concatenate_two_SLL(L, M):\n",
    "    node = L._head\n",
    "    while node._next:\n",
    "        node = node._next\n",
    "    node._next = M._head\n",
    "    return L\n",
    "\n",
    "print(concatenate_two_SLL(L,M))"
   ]
  },
  {
   "cell_type": "markdown",
   "metadata": {},
   "source": [
    "## R-7.3\n",
    "Describe a recursive algorithm that counts the number of nodes in a singly linked list."
   ]
  },
  {
   "cell_type": "code",
   "execution_count": 5,
   "metadata": {},
   "outputs": [],
   "source": [
    "def count_nodes_of_SLL(L, node, count=0):\n",
    "    if node is None:\n",
    "        return count\n",
    "    count += 1\n",
    "    return count_nodes_of_SLL(L, node._next, count)"
   ]
  },
  {
   "cell_type": "code",
   "execution_count": 6,
   "metadata": {},
   "outputs": [
    {
     "name": "stdout",
     "output_type": "stream",
     "text": [
      "0\n",
      "6\n"
     ]
    }
   ],
   "source": [
    "lst = SinglyLinkedList()\n",
    "print(count_nodes_of_SLL(lst, lst._head))\n",
    "\n",
    "for i in [33, 67, 1, 1, 'two', 'say']:\n",
    "    lst.append(i)\n",
    "\n",
    "print(count_nodes_of_SLL(lst, lst._head))"
   ]
  },
  {
   "cell_type": "markdown",
   "metadata": {},
   "source": [
    "## R-7.4\n",
    "Describe in detail how to swap two nodes $ x $ and $ y $ (and not just their contents) in a singly linked list $ L $ given references only to $ x $ and $ y $. Repeat this exercise for the case when $ L $ is a doubly linked list. Which algorithm takes more time?"
   ]
  },
  {
   "cell_type": "code",
   "execution_count": 7,
   "metadata": {},
   "outputs": [],
   "source": [
    "def swap_nodes_of_SLL(L, x, y):\n",
    "    node1 = L._head\n",
    "    while node1._next is not x:\n",
    "        node1 = node1._next\n",
    "    temp_x_prev = node1\n",
    "    \n",
    "    node2 = L._head\n",
    "    while node2._next is not y:\n",
    "        node2 = node2._next\n",
    "    temp_y_prev = node2\n",
    "\n",
    "    temp_x_next = x._next\n",
    "    temp_y_next = y._next\n",
    "\n",
    "    temp_x_prev._next = y\n",
    "    temp_y_prev._next = x\n",
    "    y._next = temp_x_next\n",
    "    x._next = temp_y_next"
   ]
  },
  {
   "cell_type": "code",
   "execution_count": 8,
   "metadata": {},
   "outputs": [
    {
     "name": "stdout",
     "output_type": "stream",
     "text": [
      "Original SLL:  5,11,45,swap,ll,22,\n",
      "SLL after swapping:  5,22,45,swap,ll,11,\n"
     ]
    }
   ],
   "source": [
    "L = SinglyLinkedList()\n",
    "for i in [5, 11, 45, 'swap', 'll', 22]:\n",
    "    L.append(i)\n",
    "print(\"Original SLL: \", L)\n",
    "\n",
    "# now we try to swap second node of L and last node of L.\n",
    "x = L._head._next  # second node\n",
    "y = L._tail        # last node\n",
    "\n",
    "swap_nodes_of_SLL(L, x, y)\n",
    "print(\"SLL after swapping: \", L)"
   ]
  },
  {
   "cell_type": "code",
   "execution_count": 9,
   "metadata": {},
   "outputs": [],
   "source": [
    "class DoublyLinkedList(LinkedDeque):\n",
    "    \"\"\"Create a DoublyLinkedList class based on LinkedDeque,\n",
    "    which is itself based on _DoublyLinkedBase.\"\"\"\n",
    "    pass"
   ]
  },
  {
   "cell_type": "code",
   "execution_count": 10,
   "metadata": {},
   "outputs": [],
   "source": [
    "def swap_nodes_of_DLL(L, x, y):\n",
    "    a = x._prev\n",
    "    b = x._next\n",
    "    c = y._prev\n",
    "    d = y._next\n",
    "\n",
    "    a._next = y\n",
    "    c._next = x\n",
    "    x._next = d\n",
    "    y._next = b\n",
    "    y._prev = a\n",
    "    b._prev = y\n",
    "    x._prev = c\n",
    "    d._prev = x\n",
    "\n",
    "# This whole operation takes O(1)\n",
    "# In SLL we need to iterate to find the previous node but in DLL it is readily available.   "
   ]
  },
  {
   "cell_type": "code",
   "execution_count": 11,
   "metadata": {},
   "outputs": [
    {
     "name": "stdout",
     "output_type": "stream",
     "text": [
      "Original DLL:  33, 45, 23, neo, one, 11, \n",
      "DLL after swapping:  33, 11, 23, neo, one, 45, \n"
     ]
    }
   ],
   "source": [
    "D = DoublyLinkedList()\n",
    "for i in [33, 45, 23, 'neo', 'one', 11]:\n",
    "    D.insert_last(i)\n",
    "print(\"Original DLL: \", D)\n",
    "\n",
    "x = D._header._next._next   # second node, in DLL header is not real head as we have in SLL\n",
    "y = D._trailer._prev        # last node, in DLL trailer is not real tail as we have in SLL\n",
    "swap_nodes_of_DLL(D, x, y)\n",
    "print(\"DLL after swapping: \", D)"
   ]
  },
  {
   "cell_type": "markdown",
   "metadata": {},
   "source": [
    "## R-7.5\n",
    "Implement a function that counts the number of nodes in a circularly linked list."
   ]
  },
  {
   "cell_type": "code",
   "execution_count": 12,
   "metadata": {},
   "outputs": [],
   "source": [
    "class CircularLinkedList(CircularQueue):\n",
    "    \"\"\"We create a CircularLinkedList from CircularDeque.\"\"\"\n",
    "\n",
    "    def append(self, e):\n",
    "        super().enqueue(e)"
   ]
  },
  {
   "cell_type": "code",
   "execution_count": 13,
   "metadata": {},
   "outputs": [],
   "source": [
    "def count_nodes_of_CLL(L):\n",
    "    node = L._tail\n",
    "    count = 0\n",
    "    while True:\n",
    "        count += 1\n",
    "        node = node._next\n",
    "        if node is L._tail:\n",
    "            break\n",
    "    return count"
   ]
  },
  {
   "cell_type": "code",
   "execution_count": 14,
   "metadata": {},
   "outputs": [
    {
     "name": "stdout",
     "output_type": "stream",
     "text": [
      "6\n"
     ]
    }
   ],
   "source": [
    "C = CircularLinkedList()\n",
    "for i in [34, 45, 111, 67, 90, 101]:\n",
    "    C.append(i)\n",
    "\n",
    "print(count_nodes_of_CLL(C))"
   ]
  },
  {
   "cell_type": "markdown",
   "metadata": {},
   "source": [
    "## R-7.6\n",
    "Suppose that $ x $ and $ y $ are references to nodes of circularly linked lists, although not necessarily the same list. Describe a fast algorithm for telling if $ x $ and $ y $ belong to the same list."
   ]
  },
  {
   "cell_type": "code",
   "execution_count": 15,
   "metadata": {},
   "outputs": [],
   "source": [
    "def check_if_xy_in_same_CLL(x, y):\n",
    "    node = x\n",
    "    while True:\n",
    "        node = node._next\n",
    "        if node is y:\n",
    "            return \"x and y are in same CLL.\"\n",
    "        if node is x:\n",
    "            break\n",
    "    return \"x and y are not in same CLL.\""
   ]
  },
  {
   "cell_type": "code",
   "execution_count": 16,
   "metadata": {},
   "outputs": [
    {
     "name": "stdout",
     "output_type": "stream",
     "text": [
      "x and y are in same CLL.\n",
      "x and y are not in same CLL.\n"
     ]
    }
   ],
   "source": [
    "CLL1 = CircularLinkedList()\n",
    "for i in [34, 45, 111, 67, 90, 101]:\n",
    "    CLL1.append(i)\n",
    "\n",
    "CLL2 = CircularLinkedList()\n",
    "for i in [23, 34, 23, 56, 67]:\n",
    "    CLL2.append(i)\n",
    "\n",
    "# we check for x and y of same list CLL1\n",
    "print(check_if_xy_in_same_CLL(CLL1._tail, CLL1._tail._next._next))\n",
    "# we check for x of CLL1 and y of CLL2\n",
    "print(check_if_xy_in_same_CLL(CLL1._tail, CLL2._tail))"
   ]
  },
  {
   "cell_type": "markdown",
   "metadata": {},
   "source": [
    "Will our algorithm work if both circular linked lists contain same elements in same order?"
   ]
  },
  {
   "cell_type": "code",
   "execution_count": 17,
   "metadata": {},
   "outputs": [
    {
     "name": "stdout",
     "output_type": "stream",
     "text": [
      "x and y are in same CLL.\n",
      "x and y are not in same CLL.\n"
     ]
    }
   ],
   "source": [
    "CLL1 = CircularLinkedList()\n",
    "for i in [34, 45, 111, 67, 90, 101]:\n",
    "    CLL1.append(i)\n",
    "\n",
    "CLL2 = CircularLinkedList()\n",
    "for i in [34, 45, 111, 67, 90, 101]:\n",
    "    CLL2.append(i)\n",
    "\n",
    "# we check for x and y of same list CLL1\n",
    "print(check_if_xy_in_same_CLL(CLL1._tail, CLL1._tail._next._next))\n",
    "# we check for x of CLL1 and y of CLL2\n",
    "print(check_if_xy_in_same_CLL(CLL1._tail, CLL2._tail._next._next))"
   ]
  },
  {
   "cell_type": "markdown",
   "metadata": {},
   "source": [
    "## R-7.7\n",
    "Our `CircularQueue` class of Section 7.2.2 provides a `rotate()` method that has semantics equivalent to `Q.enqueue(Q.dequeue())`, for a nonempty queue. Implement such a method for the `LinkedQueue` class of Section 7.1.2 without the creation of any new nodes."
   ]
  },
  {
   "cell_type": "markdown",
   "metadata": {},
   "source": [
    "Solution: \n",
    "* `rotate()` method makes the old head become new tail.\n",
    "* `Q.enqueue(Q.dequeue())` method takes the element from front and push it to back."
   ]
  },
  {
   "cell_type": "code",
   "execution_count": 18,
   "metadata": {},
   "outputs": [],
   "source": [
    "class LinkedQueueModified(LinkedQueue):\n",
    "    def make_head_tail(self):\n",
    "        second_node = self._head._next\n",
    "        self._head._next = None\n",
    "        self._tail._next = self._head\n",
    "        self._tail = self._head     # head becomes tail\n",
    "        self._head = second_node    # second node becomes head"
   ]
  },
  {
   "cell_type": "code",
   "execution_count": 19,
   "metadata": {},
   "outputs": [
    {
     "name": "stdout",
     "output_type": "stream",
     "text": [
      "Original linked queue:  head,43,12,45,11,tail,\n",
      "Linked queue after method:  43,12,45,11,tail,head,\n"
     ]
    }
   ],
   "source": [
    "LQ = LinkedQueueModified()\n",
    "for i in ['head', 43, 12, 45, 11, 'tail']:\n",
    "    LQ.enqueue(i)\n",
    "\n",
    "print(\"Original linked queue: \", LQ)\n",
    "\n",
    "LQ.make_head_tail()\n",
    "\n",
    "print(\"Linked queue after method: \", LQ)"
   ]
  },
  {
   "cell_type": "markdown",
   "metadata": {},
   "source": [
    "## R-7.8\n",
    "Describe a nonrecursive method for finding, by link hopping, the middle node of a doubly linked list with header and trailer sentinels. In the case of an even number of nodes, report the node slightly left of center as the “middle.” (Note: This method must only use link hopping; it cannot use a counter.) What is the running time of this method?\n"
   ]
  },
  {
   "cell_type": "code",
   "execution_count": 20,
   "metadata": {},
   "outputs": [],
   "source": [
    "def find_middle_by_link_hopping(DLL):\n",
    "    hop_from_header = DLL._header._next\n",
    "    hop_from_trailer = DLL._trailer._prev\n",
    "    while hop_from_header is not DLL._trailer or hop_from_trailer is not DLL._header:\n",
    "        if hop_from_header is hop_from_trailer:\n",
    "            middle_node = hop_from_header  # this is middle node, we print its element to verify.\n",
    "            return f\"middle element when there are odd number of nodes is: {middle_node._element}\"\n",
    "        if hop_from_header._prev is hop_from_trailer:\n",
    "            middle_node = hop_from_header._prev\n",
    "            return f\"middle element when there are even number of nodes is: {middle_node._element}\"\n",
    "        hop_from_header = hop_from_header._next\n",
    "        hop_from_trailer = hop_from_trailer._prev\n",
    "    return f\"The list is empty.\""
   ]
  },
  {
   "cell_type": "code",
   "execution_count": 21,
   "metadata": {},
   "outputs": [
    {
     "name": "stdout",
     "output_type": "stream",
     "text": [
      "The list is empty.\n",
      "DLL is: 3, 8, 89, 23, string, last, \n",
      "middle element when there are even number of nodes is: 89\n",
      "DLL is: 3, 8, 89, 23, string, last, odd, \n",
      "middle element when there are odd number of nodes is: 23\n"
     ]
    }
   ],
   "source": [
    "DLL = DoublyLinkedList()\n",
    "print(find_middle_by_link_hopping(DLL))\n",
    "\n",
    "for i in [3, 8, 89, 23, 'string', 'last']:\n",
    "    DLL.insert_last(i)\n",
    "print(f'DLL is: {DLL}')\n",
    "print(find_middle_by_link_hopping(DLL))\n",
    "\n",
    "DLL.insert_last('odd')\n",
    "print(f'DLL is: {DLL}')\n",
    "print(find_middle_by_link_hopping(DLL))"
   ]
  },
  {
   "cell_type": "markdown",
   "metadata": {},
   "source": [
    "## R-7.9\n",
    "Give a fast algorithm for concatenating two doubly linked lists $ L $ and $ M $, with header and trailer sentinel nodes, into a single list $ L_{new} $.\n"
   ]
  },
  {
   "cell_type": "code",
   "execution_count": 22,
   "metadata": {},
   "outputs": [],
   "source": [
    "def concatenate_two_DLL(L, M):\n",
    "    last_node_of_L = L._trailer._prev\n",
    "    first_node_of_M = M._header._next\n",
    "    # we link the above two nodes\n",
    "    last_node_of_L._next = first_node_of_M\n",
    "    first_node_of_M._prev = last_node_of_L\n",
    "    # deprecate the trailer of L and header of M\n",
    "    L._trailer._prev  = None    # its element and next are already None\n",
    "    M._header._next = None      # its element and prev are already None\n",
    "    # since we have deprecated the tail of L, we need to assign it a tail\n",
    "    L._trailer = M._trailer\n",
    "    Lnew = L\n",
    "    return Lnew"
   ]
  },
  {
   "cell_type": "code",
   "execution_count": 23,
   "metadata": {},
   "outputs": [
    {
     "name": "stdout",
     "output_type": "stream",
     "text": [
      "one, two, three, four, \n",
      "five, six, seven, eight, \n",
      "one, two, three, four, five, six, seven, eight, \n"
     ]
    }
   ],
   "source": [
    "L = DoublyLinkedList()\n",
    "for i in ['one', 'two', 'three', 'four']:\n",
    "    L.insert_last(i)\n",
    "print(L)\n",
    "M = DoublyLinkedList()\n",
    "for i in ['five', 'six', 'seven', 'eight']:\n",
    "    M.insert_last(i)\n",
    "print(M)\n",
    "\n",
    "print(concatenate_two_DLL(L, M))"
   ]
  },
  {
   "cell_type": "markdown",
   "metadata": {},
   "source": [
    "## R-7.10\n",
    "There seems to be some redundancy in the repertoire of the positional list ADT, as the operation `L.add_first(e)` could be enacted by the alternative `L.add_before(L.first(), e)`. Likewise, `L.add_last(e)` might be performed as `L.add_after(L.last(), e)`. Explain why the methods `add_first` and `add_last` are necessary."
   ]
  },
  {
   "cell_type": "markdown",
   "metadata": {},
   "source": [
    "Solution: `L.first()` and `L.last()` methods inside `L.add_before(L.first(), e)` and `L.add_after(L.lst(), e)` will not work if we start with an empty positional list. The `L.first()` and `L.last()` methods use nonpublic `_make_positon` method which returns `None` instead of a Position class instance when the list is empty. And when `None` is entered in `L.add_before(None, e)` and `L.add_after(None, e)`, another nonpublic method `_validate` raises `TypeError` when it gets `NoneType` object instead of Position class instance."
   ]
  },
  {
   "cell_type": "markdown",
   "metadata": {},
   "source": [
    "## R-7.11\n",
    "Implement a function, with calling syntax `max(L)`, that returns the maximum element from a PositionalList instance L containing comparable elements."
   ]
  },
  {
   "cell_type": "code",
   "execution_count": 24,
   "metadata": {},
   "outputs": [],
   "source": [
    "def maximum_of_positional_list(L):\n",
    "    mx = None\n",
    "    node = L._header._next\n",
    "    while node is not L._trailer:\n",
    "        element = node._element\n",
    "        if mx == None or mx < element:\n",
    "            mx = element\n",
    "        node = node._next\n",
    "    return mx"
   ]
  },
  {
   "cell_type": "code",
   "execution_count": 25,
   "metadata": {},
   "outputs": [
    {
     "name": "stdout",
     "output_type": "stream",
     "text": [
      "Positional List: 12, 34, 55, 11, 9, 1, \n",
      "maximum element of positional list is: 55\n"
     ]
    }
   ],
   "source": [
    "L = PositionalList()\n",
    "for i in [12, 34, 55, 11, 9, 1]:\n",
    "    L.add_last(i)\n",
    "print(L)\n",
    "print(f\"maximum element of positional list is: {maximum_of_positional_list(L)}\")"
   ]
  },
  {
   "cell_type": "markdown",
   "metadata": {},
   "source": [
    "## R-7.12\n",
    "Redo the previously problem with `max` as a method of the `PositionalList` class, so that calling syntax `L.max()` is supported."
   ]
  },
  {
   "cell_type": "code",
   "execution_count": 26,
   "metadata": {},
   "outputs": [],
   "source": [
    "class PositionalListMax(PositionalList):\n",
    "    def max(self):\n",
    "        mx = None\n",
    "        node = L._header._next\n",
    "        while node is not L._trailer:\n",
    "            element = node._element\n",
    "            if mx == None or mx < element:\n",
    "                mx = element\n",
    "            node = node._next\n",
    "        return mx"
   ]
  },
  {
   "cell_type": "code",
   "execution_count": 27,
   "metadata": {},
   "outputs": [
    {
     "name": "stdout",
     "output_type": "stream",
     "text": [
      "Positional List: 12, 34, 55, 11, 9, 1, \n",
      "maximum element of positional list is: 55\n"
     ]
    }
   ],
   "source": [
    "L = PositionalListMax()\n",
    "for i in [12, 34, 55, 11, 9, 1]:\n",
    "    L.add_last(i)\n",
    "print(L)\n",
    "print(f\"maximum element of positional list is: {L.max()}\")"
   ]
  },
  {
   "cell_type": "markdown",
   "metadata": {},
   "source": [
    "## R-7.13\n",
    "Update the `PositionalList` class to support an additional method `find(e)`, which returns the position of the (first occurrence of ) element $ e $ in the list (or `None` if not found)."
   ]
  },
  {
   "cell_type": "code",
   "execution_count": 28,
   "metadata": {},
   "outputs": [],
   "source": [
    "class PositionalListFind(PositionalList):\n",
    "    def find(self, e):\n",
    "        node = self._header._next\n",
    "        while node is not self._trailer:\n",
    "            if node._element == e:              # find the node that has element\n",
    "                return self._make_position(node) # return the positon of the node\n",
    "            node = node._next"
   ]
  },
  {
   "cell_type": "code",
   "execution_count": 29,
   "metadata": {},
   "outputs": [
    {
     "name": "stdout",
     "output_type": "stream",
     "text": [
      "Positional List: 12, 34, 55, 11, 9, 1, \n",
      "<positional_list.PositionalList.Position object at 0x10ba86390>\n",
      "11\n",
      "None\n"
     ]
    }
   ],
   "source": [
    "LF = PositionalListFind()\n",
    "for i in [12, 34, 55, 11, 9, 1]:\n",
    "    LF.add_last(i)\n",
    "print(LF)\n",
    "\n",
    "e = 11\n",
    "position_of_e = LF.find(e)      # this is the required position\n",
    "print(position_of_e)\n",
    "print(position_of_e.element())  # we print to check if correct\n",
    "\n",
    "e = 22\n",
    "position_of_e = LF.find(e)\n",
    "print(position_of_e)            # position is None when e is not found\n",
    "#print(position_of_e.element()) # None has no attribute element()"
   ]
  },
  {
   "cell_type": "markdown",
   "metadata": {},
   "source": [
    "## R-7.14\n",
    "Repeat the previous process using recursion. Your method should not contain any loops. How much space does your method use in addition to the space used for L?"
   ]
  },
  {
   "cell_type": "markdown",
   "metadata": {},
   "source": [
    "Solution: This method will use additional space due function call stack in recursion, which does not happend when we use iteration."
   ]
  },
  {
   "cell_type": "code",
   "execution_count": 30,
   "metadata": {},
   "outputs": [],
   "source": [
    "class PositionalListFindRecursion(PositionalList):\n",
    "    def find(self, e, node = None):\n",
    "        if node == None:\n",
    "            node = self._header._next\n",
    "        \n",
    "        if node._element == e or node is self._trailer:\n",
    "            return self._make_position(node)\n",
    "        \n",
    "        node = node._next\n",
    "        return self.find(e, node)"
   ]
  },
  {
   "cell_type": "code",
   "execution_count": 31,
   "metadata": {},
   "outputs": [
    {
     "name": "stdout",
     "output_type": "stream",
     "text": [
      "Positional List: 12, 34, 55, 11, 9, 1, \n",
      "<positional_list.PositionalList.Position object at 0x10ba56a90>\n",
      "11\n",
      "None\n"
     ]
    }
   ],
   "source": [
    "LFR = PositionalListFindRecursion()\n",
    "for i in [12, 34, 55, 11, 9, 1]:\n",
    "    LFR.add_last(i)\n",
    "print(LFR)\n",
    "\n",
    "e = 11\n",
    "position_of_e = LFR.find(e)      # this is the required position\n",
    "print(position_of_e)\n",
    "print(position_of_e.element())  # we print to check if correct\n",
    "\n",
    "e = 22\n",
    "position_of_e = LFR.find(e)\n",
    "print(position_of_e)            # position is None when e is not found\n",
    "#print(position_of_e.element()) # None has no attribute element()"
   ]
  },
  {
   "cell_type": "markdown",
   "metadata": {},
   "source": [
    "## R-7.15\n",
    "Provide support for a `__reversed__` method of the PositionalList class that is similar to the given `__iter__`, but that iterates the elements in reversed order."
   ]
  },
  {
   "cell_type": "code",
   "execution_count": 32,
   "metadata": {},
   "outputs": [],
   "source": [
    "class PositionalListReverse(PositionalList):\n",
    "    def __reversed__(self):\n",
    "        node = self._trailer._prev\n",
    "        while node is not self._header:\n",
    "            yield node._element\n",
    "            node = node._prev"
   ]
  },
  {
   "cell_type": "code",
   "execution_count": 33,
   "metadata": {},
   "outputs": [
    {
     "name": "stdout",
     "output_type": "stream",
     "text": [
      "Positional List: 12, 34, 55, 11, 9, 1, \n",
      "1,9,11,55,34,12,"
     ]
    }
   ],
   "source": [
    "PLR = PositionalListReverse()\n",
    "for i in [12, 34, 55, 11, 9, 1]:\n",
    "    PLR.add_last(i)\n",
    "print(PLR)\n",
    "\n",
    "for j in reversed(PLR):\n",
    "    print(j, end=\",\")"
   ]
  },
  {
   "cell_type": "markdown",
   "metadata": {},
   "source": [
    "## R-7.16\n",
    "Describe an implementation of the `PositionalList` methods `add_last` and `add_before` realized by using only methods in the set {`is_empty`, `first`, `last`, `prev`, `next`, `add_after`, and `add_first`}."
   ]
  },
  {
   "cell_type": "code",
   "execution_count": 34,
   "metadata": {},
   "outputs": [],
   "source": [
    "class PositionalListNew(PositionalList):\n",
    "    def add_last(self, e):\n",
    "        \"\"\"Overriding add_last method as per problem requirement.\"\"\"\n",
    "        if self.is_empty():\n",
    "            self.add_first(e)\n",
    "        else:\n",
    "            self.add_after(self.last(), e)\n",
    "\n",
    "    def add_before(self, p, e):\n",
    "        \"\"\"Override add_before method as per problem requirement\"\"\"\n",
    "        position = self.before(p)  # here before method is same as prev\n",
    "        self.add_after(position, e)"
   ]
  },
  {
   "cell_type": "code",
   "execution_count": 35,
   "metadata": {},
   "outputs": [
    {
     "name": "stdout",
     "output_type": "stream",
     "text": [
      "Positional List: 10, 34, 43, 67, 87, 12, \n",
      "Positional List: 10, 34, 43, 67, entered before last two elements, 87, 12, \n"
     ]
    }
   ],
   "source": [
    "lst = PositionalListNew()\n",
    "for i in [10, 34, 43, 67, 87, 12]:\n",
    "    lst.add_last(i)\n",
    "\n",
    "print(lst)      # add_last is working\n",
    "\n",
    "node = lst._trailer._prev._prev         # second-to-last node\n",
    "position = lst._make_position(node)     # position of second to last node\n",
    "lst.add_before(position, 'entered before last two elements')  # add before second to last\n",
    "print(lst)      # add_before is working"
   ]
  },
  {
   "cell_type": "markdown",
   "metadata": {},
   "source": [
    "## R-7.17\n",
    "In the `FavoritesListMTF` class, we rely on public methods of the positional list ADT to move an element of a list at position $ p $ to become the first element of the list, while keeping the relative order of the remaining elements unchanged. Internally, that combination of operations causes one node to be removed and a new node to be inserted. Augment the `PositionalList` class to support a new method, `move_to_front(p)`, that accomplishes this goal more directly, by relinking the existing node."
   ]
  },
  {
   "cell_type": "code",
   "execution_count": 36,
   "metadata": {},
   "outputs": [],
   "source": [
    "class PositionalListMTF(PositionalList):\n",
    "    def move_to_front(self, p):\n",
    "        node = self._validate(p)\n",
    "        prev_node = node._prev\n",
    "        next_node = node._next\n",
    "        prev_node._next = next_node\n",
    "        next_node._prev = prev_node\n",
    "\n",
    "        first_node = self._header._next\n",
    "        self._header._next = node\n",
    "        node._prev = self._header\n",
    "        node._next = first_node\n",
    "        first_node._prev = node"
   ]
  },
  {
   "cell_type": "code",
   "execution_count": 37,
   "metadata": {},
   "outputs": [
    {
     "name": "stdout",
     "output_type": "stream",
     "text": [
      "Positional List: 23, 45, 67, 12, 89, 11, 10, \n",
      "Positional List: 11, 23, 45, 67, 12, 89, 10, \n"
     ]
    }
   ],
   "source": [
    "MFT = PositionalListMTF()\n",
    "for i in [23, 45, 67, 12, 89, 11, 10]:\n",
    "    MFT.add_last(i)\n",
    "print(MFT)\n",
    "\n",
    "# select the second to last node and retrieve its position and check move_to_front method.\n",
    "node = MFT._trailer._prev._prev\n",
    "position = MFT._make_position(node)\n",
    "MFT.move_to_front(position)\n",
    "print(MFT)"
   ]
  },
  {
   "cell_type": "markdown",
   "metadata": {},
   "source": [
    "## R-7.18\n",
    "Given the set of element $ \\{a,b,c,d,e,f\\} $ stored in a list, show the final state of the list, assuming we use the move-to-front heuristic and access the elements according to the following sequence: $ (a,b,c,d,e, f,a,c, f,b,d,e) $."
   ]
  },
  {
   "cell_type": "markdown",
   "metadata": {},
   "source": [
    "Solution: We insert the elements of set to a list that supports MTF heuristic by keeping record of number of times an element is accessed. Then access them according to the given sequence."
   ]
  },
  {
   "cell_type": "code",
   "execution_count": 38,
   "metadata": {},
   "outputs": [
    {
     "name": "stdout",
     "output_type": "stream",
     "text": [
      "Positional List: a, b, c, d, e, f, \n",
      "Positional List: e, d, b, f, c, a, \n"
     ]
    }
   ],
   "source": [
    "mtf_lst = PositionalListMTF()\n",
    "for i in ['a', 'b', 'c', 'd', 'e', 'f']:\n",
    "    mtf_lst.add_last(i)       # this access method will add elements to the list\n",
    "\n",
    "print(mtf_lst)\n",
    "\n",
    "for i in ['a', 'b', 'c', 'd', 'e', 'f', 'a', 'c', 'f', 'b', 'd', 'e']:\n",
    "    node = mtf_lst._header._next\n",
    "    while node is not mtf_lst._trailer:\n",
    "        if node._element == i:\n",
    "            position = mtf_lst._make_position(node)\n",
    "            break\n",
    "        node = node._next\n",
    "    mtf_lst.move_to_front(position)\n",
    "print(mtf_lst)  # the element that was accessed last 'e' will be in front."
   ]
  },
  {
   "cell_type": "markdown",
   "metadata": {},
   "source": [
    "## R-7.19\n",
    "Suppose that we have made $ kn $ total accesses to the elements in a list $ L $ of $ n $ elements, for some integer $ k \\geq 1 $. What are the minimum and maximum number of elements that have been accessed fewer than $ k $ times?"
   ]
  },
  {
   "cell_type": "markdown",
   "metadata": {},
   "source": [
    "Solution:\n",
    "1. Minimum number of elements that have been accessed fewer than $ k $ times: It will be zero if every element is accessed exactly $ k $ times.\n",
    "2. Maximum number of elements that have been accessed fewer than $ k $ times: It will be $ (n - 1) $, if single element is accessed every time."
   ]
  },
  {
   "cell_type": "markdown",
   "metadata": {},
   "source": [
    "## R-7.20\n",
    "Let $ L $ be a list of $ n $ items maintained according to the move-to-front heuristic. Describe a series of $ O(n) $ accesses that will reverse $ L $."
   ]
  },
  {
   "cell_type": "markdown",
   "metadata": {},
   "source": [
    "Solution: It will take $ n-1 $ accesses in which element after the first element is accessed once.\n",
    "* Example: $ [a, b, c, d, e, f] $\n",
    "    * the first element is $ a $, keep accessing the element after it until $ a $ is last element.\n",
    "    * access $ b $ (which is after $ a $), then result is $ [b, a, c, d, e, f] $\n",
    "    * access $ c $ (which is after $ a $), then result is $ [c, b, a, d ,e, f] $\n",
    "    * access $ d $ (which is after $ a $), then result is $ [d, c, b, a, e, f] $\n",
    "    * access $ e $ (which is after $ a $), then result is $ [e, d, c, b, a, f] $\n",
    "    * access $ f $ (which is after $ a $), then result is $ [f, e, d, c, b ,a] $\n",
    "* It took total 5 accesses when there are 6 elements."
   ]
  },
  {
   "cell_type": "markdown",
   "metadata": {},
   "source": [
    "## R-7.21\n",
    "Suppose we have an $ n $ -element list $ L $ maintained according to the move-to-front heuristic. Describe a sequence of $ n^2 $ accesses that is guaranteed to take $ Ω(n^3) $ time to perform on $ L $."
   ]
  },
  {
   "cell_type": "markdown",
   "metadata": {},
   "source": [
    "TODO"
   ]
  },
  {
   "cell_type": "markdown",
   "metadata": {},
   "source": [
    "## R-7.22\n",
    "Implement a `clear()` method for the `FavoritesList` class that returns the list to empty."
   ]
  },
  {
   "cell_type": "code",
   "execution_count": 39,
   "metadata": {},
   "outputs": [],
   "source": [
    "class FavoriteListClear(FavoriteList):\n",
    "    def clear(self):\n",
    "        self._data = PositionalList()\n",
    "# self._data is a positiona list that stores the elements, if we want to clear the elements,\n",
    "# just set self._data to an empty positional list."
   ]
  },
  {
   "cell_type": "code",
   "execution_count": 40,
   "metadata": {},
   "outputs": [
    {
     "name": "stdout",
     "output_type": "stream",
     "text": [
      "23, 5, 45, 66, 11, 90, \n",
      "Empty List\n",
      "a, b, c, d, e, \n"
     ]
    }
   ],
   "source": [
    "flc = FavoriteListClear()\n",
    "for i in [23, 5, 45, 66, 11, 90]:\n",
    "    flc.access(i)\n",
    "print(flc)\n",
    "\n",
    "flc.clear()  # clear the list\n",
    "print(flc)\n",
    "\n",
    "for i in ['a', 'b', 'c', 'd', 'e']:\n",
    "    flc.access(i)\n",
    "print(flc)"
   ]
  },
  {
   "cell_type": "markdown",
   "metadata": {},
   "source": [
    "## R-7.23\n",
    "Implement a `reset_counts()` method for the `FavoritesList` class that resets all elements’ access counts to zero (while leaving the order of the list unchanged)."
   ]
  },
  {
   "cell_type": "code",
   "execution_count": 41,
   "metadata": {},
   "outputs": [],
   "source": [
    "class FavoriteListResetCount(FavoriteList):\n",
    "    def reset_counts(self):\n",
    "        for item in self._data:\n",
    "            item._count = 0"
   ]
  },
  {
   "cell_type": "code",
   "execution_count": 42,
   "metadata": {},
   "outputs": [
    {
     "name": "stdout",
     "output_type": "stream",
     "text": [
      "23, 5, 45, 66, 11, 90, \n",
      "5, 11, 23, 45, 66, 90, \n",
      "element: 5, count: 11\n",
      "element: 11, count: 4\n",
      "element: 23, count: 1\n",
      "element: 45, count: 1\n",
      "element: 66, count: 1\n",
      "element: 90, count: 1\n",
      "element: 5, count: 0\n",
      "element: 11, count: 0\n",
      "element: 23, count: 0\n",
      "element: 45, count: 0\n",
      "element: 66, count: 0\n",
      "element: 90, count: 0\n",
      "5, 11, 23, 45, 66, 90, \n"
     ]
    }
   ],
   "source": [
    "rc_lst = FavoriteListResetCount()\n",
    "for i in [23, 5, 45, 66, 11, 90]:\n",
    "    rc_lst.access(i)\n",
    "print(rc_lst)\n",
    "# access some of the elements again\n",
    "for i in range(3):\n",
    "    rc_lst.access(11)\n",
    "for i in range(10):\n",
    "    rc_lst.access(5)\n",
    "# now print the list to check most accessed it at front\n",
    "print(rc_lst)\n",
    "\n",
    "# print the count of each element\n",
    "for item in rc_lst._data:\n",
    "    print(f'element: {item._value}, count: {item._count}')\n",
    "\n",
    "# use reset_count method.\n",
    "rc_lst.reset_counts()\n",
    "\n",
    "for item in rc_lst._data:\n",
    "    print(f'element: {item._value}, count: {item._count}')\n",
    "\n",
    "# print the list to see if order is intact after resetting count.\n",
    "print(rc_lst)"
   ]
  }
 ],
 "metadata": {
  "kernelspec": {
   "display_name": "Python 3",
   "language": "python",
   "name": "python3"
  },
  "language_info": {
   "codemirror_mode": {
    "name": "ipython",
    "version": 3
   },
   "file_extension": ".py",
   "mimetype": "text/x-python",
   "name": "python",
   "nbconvert_exporter": "python",
   "pygments_lexer": "ipython3",
   "version": "3.11.5"
  },
  "orig_nbformat": 4
 },
 "nbformat": 4,
 "nbformat_minor": 2
}
