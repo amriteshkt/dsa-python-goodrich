{
  "cells": [
    {
      "cell_type": "markdown",
      "metadata": {
        "id": "4gI9U16bFHfi"
      },
      "source": [
        "### Practice codes from the chapter"
      ]
    },
    {
      "cell_type": "code",
      "execution_count": null,
      "metadata": {
        "id": "Mcp84oIgV4ZC"
      },
      "outputs": [],
      "source": [
        "def draw_line(tick_length, tick_label = ''):\n",
        "    line = '-'*tick_length\n",
        "    if tick_label:\n",
        "        line = line + ' ' + tick_label\n",
        "    print(line)\n",
        "def draw_interval(center_length):\n",
        "    if center_length > 0:\n",
        "        draw_interval(center_length - 1)\n",
        "        draw_line(center_length)\n",
        "        draw_interval(center_length - 1)\n",
        "def draw_ruler(num_inches, major_length):\n",
        "    draw_line(major_length, '0')\n",
        "    for j in range(1, 1+num_inches):\n",
        "        draw_interval(major_length - 1)\n",
        "        draw_line(major_length, str(j))"
      ]
    },
    {
      "cell_type": "code",
      "execution_count": null,
      "metadata": {
        "colab": {
          "base_uri": "https://localhost:8080/"
        },
        "id": "xfwywfshXSYL",
        "outputId": "9b998cd4-41dc-4bca-9abc-348c9f1ce1d4"
      },
      "outputs": [
        {
          "name": "stdout",
          "output_type": "stream",
          "text": [
            "--- 0\n",
            "-\n",
            "--\n",
            "-\n",
            "--- 1\n",
            "-\n",
            "--\n",
            "-\n",
            "--- 2\n",
            "-\n",
            "--\n",
            "-\n",
            "--- 3\n"
          ]
        }
      ],
      "source": [
        "draw_ruler(3, 3)"
      ]
    },
    {
      "cell_type": "markdown",
      "metadata": {
        "id": "VSEu2tyMs-bX"
      },
      "source": [
        "We see two different recursive algorithms to find power of a number.\n",
        "* One takes linear time.\n",
        "* Other takes logarithmic time."
      ]
    },
    {
      "cell_type": "code",
      "execution_count": null,
      "metadata": {
        "id": "y3h5RtQ-bDzT"
      },
      "outputs": [],
      "source": [
        "def power_n(x,n):\n",
        "    if n==0:\n",
        "        return 1\n",
        "    return x*power_n(x, n-1)  # it takes O(n)"
      ]
    },
    {
      "cell_type": "code",
      "execution_count": null,
      "metadata": {
        "colab": {
          "base_uri": "https://localhost:8080/"
        },
        "id": "jZlD5UU6JhBV",
        "outputId": "b6afe24e-0a4d-4621-efd1-b6ddc133bbd7"
      },
      "outputs": [
        {
          "name": "stdout",
          "output_type": "stream",
          "text": [
            "1267650600228229401496703205376\n",
            "CPU times: user 110 µs, sys: 0 ns, total: 110 µs\n",
            "Wall time: 113 µs\n"
          ]
        }
      ],
      "source": [
        "%%time\n",
        "print(power_n(2,100))"
      ]
    },
    {
      "cell_type": "code",
      "execution_count": null,
      "metadata": {
        "id": "XwB7lMZPJvjr"
      },
      "outputs": [],
      "source": [
        "def power_g(x,n):\n",
        "    if n == 0:\n",
        "        return 1\n",
        "    partial = power_g(x, n//2)  #it takes O(log n)\n",
        "    result = partial*partial\n",
        "    if n%2 == 1:\n",
        "        result = result*x\n",
        "    return result"
      ]
    },
    {
      "cell_type": "code",
      "execution_count": null,
      "metadata": {
        "colab": {
          "base_uri": "https://localhost:8080/"
        },
        "id": "guSOTDL4KN6g",
        "outputId": "b730098d-4f2d-4060-fdeb-a37dee5f9e2d"
      },
      "outputs": [
        {
          "name": "stdout",
          "output_type": "stream",
          "text": [
            "1267650600228229401496703205376\n",
            "CPU times: user 0 ns, sys: 36 µs, total: 36 µs\n",
            "Wall time: 38.9 µs\n"
          ]
        }
      ],
      "source": [
        "%%time\n",
        "print(power_g(2,100))"
      ]
    },
    {
      "cell_type": "markdown",
      "metadata": {
        "id": "ldF4eNBvsENS"
      },
      "source": [
        "### *R-4.1* Describe a recursive algorithm for finding the maximum element in a sequence, S, of n elements. What is your running time and space usage?"
      ]
    },
    {
      "cell_type": "markdown",
      "metadata": {
        "id": "FwQ6_lb3lrWY"
      },
      "source": [
        "* We need a base case, when we have only one element, we return value as maximum.\n",
        "* in first pass, maximum (optional parameter) takes value of first element in the sequence, then we have a value to pass as maximum parameter for subsequent recursive calls.\n",
        "* for better clearity, see the while loop version of this problem, which is below this code."
      ]
    },
    {
      "cell_type": "code",
      "execution_count": null,
      "metadata": {
        "id": "eDb1MuR6Yk17"
      },
      "outputs": [],
      "source": [
        "def max_element_recursion(S, n, low, high, maximum=None):\n",
        "    if low > high: # see point 1 above.\n",
        "        return maximum\n",
        "    if maximum == None or S[low] > maximum:  # see point 2 above.\n",
        "        maximum = S[low]\n",
        "    return max_element_recursion(S, n, low+1, high, maximum)"
      ]
    },
    {
      "cell_type": "code",
      "execution_count": null,
      "metadata": {
        "colab": {
          "base_uri": "https://localhost:8080/"
        },
        "id": "HiINObgUhNzF",
        "outputId": "5719325f-b12c-4822-8cd6-79b5299841b3"
      },
      "outputs": [
        {
          "data": {
            "text/plain": [
              "771"
            ]
          },
          "execution_count": 8,
          "metadata": {},
          "output_type": "execute_result"
        }
      ],
      "source": [
        "max_element_recursion([4,71,10,771,9,81], 6, 0,5)"
      ]
    },
    {
      "cell_type": "code",
      "execution_count": null,
      "metadata": {
        "colab": {
          "base_uri": "https://localhost:8080/"
        },
        "id": "dNC0fSkxhabZ",
        "outputId": "98abd929-549c-4d76-b014-428120fee5ce"
      },
      "outputs": [
        {
          "data": {
            "text/plain": [
              "4"
            ]
          },
          "execution_count": 9,
          "metadata": {},
          "output_type": "execute_result"
        }
      ],
      "source": [
        "max_element_recursion([4], 1, 0, 0)"
      ]
    },
    {
      "cell_type": "markdown",
      "metadata": {},
      "source": [
        "We can remove the extra parameter `n`, and rewrite the function as:\n",
        "```python\n",
        "def max_element_recursion(S, low=0, high=None, maximum=None):\n",
        "    if high is None:\n",
        "        high = len(S) - 1\n",
        "    if low > high:\n",
        "        return maximum\n",
        "    if maximum is None or S[low] > maximum:\n",
        "        maximum = S[low]\n",
        "    \n",
        "    return max_element_recursion(S, low+1, high, maximum)\n",
        "```"
      ]
    },
    {
      "cell_type": "markdown",
      "metadata": {
        "id": "9ux3aWQGp9Bk"
      },
      "source": [
        "* The above recursive algorithm is a variation of while loop written below. Whenever in doubt when forming recursive algorithms, try to think in terms of loops.\n",
        "* There are two considerations:\n",
        "    *   The maximum parameter that is outside the while loop should be in parameter field of recursive algorithm, so that it can be stored and updated in successive recursive calls.\n",
        "    *   The condition in while loop tells us the logic that we need to put in the base case of recursive algorithm.\n",
        "\n"
      ]
    },
    {
      "cell_type": "code",
      "execution_count": null,
      "metadata": {
        "id": "GtbRBKL2jsax"
      },
      "outputs": [],
      "source": [
        "def max_element_while(S,n, low, high):\n",
        "    maximum = S[0]\n",
        "    while low <= high:\n",
        "        if S[low] >= maximum:\n",
        "            maximum = S[low]\n",
        "        low = low + 1\n",
        "    return maximum"
      ]
    },
    {
      "cell_type": "code",
      "execution_count": null,
      "metadata": {
        "colab": {
          "base_uri": "https://localhost:8080/"
        },
        "id": "Q1A1HWNXpbeP",
        "outputId": "b00b2e61-4de0-478c-be64-89e4b519b014"
      },
      "outputs": [
        {
          "data": {
            "text/plain": [
              "772"
            ]
          },
          "execution_count": 11,
          "metadata": {},
          "output_type": "execute_result"
        }
      ],
      "source": [
        "max_element_while([4,71,10,771,9,81,772], 7, 0,6)"
      ]
    },
    {
      "cell_type": "markdown",
      "metadata": {
        "id": "xreLqqEhpfn_"
      },
      "source": [
        "The time complexity of recursive algorithm is O(n) as we are checking each element, so is the space complexity as we are making O(n) recursive calls."
      ]
    },
    {
      "cell_type": "markdown",
      "metadata": {
        "id": "bh6NBiMhsIBq"
      },
      "source": [
        "### *R-4.6* Describe a recursive function for computing the nth Harmonic number, $ Hn = ∑ 1/i. $"
      ]
    },
    {
      "cell_type": "code",
      "execution_count": null,
      "metadata": {
        "id": "ZKN5teHWsIed"
      },
      "outputs": [],
      "source": [
        "#R-4.6 Describe a recursive function for computing the nth Harmonic number,\n",
        "#Hn = ∑ni=1 1/i.\n",
        "\n",
        "def harmonic_recursion(i): # i must be greater than zero.\n",
        "    if i < 1:\n",
        "        return  'Enter valid value of i'\n",
        "    if i == 1:\n",
        "        return 1\n",
        "    return (1/i)+harmonic_recursion(i-1)"
      ]
    },
    {
      "cell_type": "code",
      "execution_count": null,
      "metadata": {
        "id": "7rlsS-lTspML"
      },
      "outputs": [],
      "source": [
        "for i in range(6):\n",
        "    print(harmonic_recursion(i))"
      ]
    },
    {
      "cell_type": "markdown",
      "metadata": {
        "id": "hjlynai7sulR"
      },
      "source": [
        "### *R-4.7* Describe a recursive function for converting a string of digits into the integer it represents. For example, '13531' represents the integer 13,531."
      ]
    },
    {
      "cell_type": "code",
      "execution_count": 1,
      "metadata": {
        "id": "v53-Sv8ws5in"
      },
      "outputs": [],
      "source": [
        "#R-4.7 Describe a recursive function for converting a string of digits into\n",
        "#the integer it represents.\n",
        "#For example, '13531'   represents the integer 13,531.\n",
        "\n",
        "def str_into_int(strng, low, high, integer=None):\n",
        "    if low > high:\n",
        "        return integer\n",
        "    integer = int(strng[:low+1])\n",
        "    return str_into_int(strng, low+1, high, integer)"
      ]
    },
    {
      "cell_type": "code",
      "execution_count": 2,
      "metadata": {
        "id": "Rlr_dOoEs9jK"
      },
      "outputs": [
        {
          "name": "stdout",
          "output_type": "stream",
          "text": [
            "356476384566676457\n"
          ]
        }
      ],
      "source": [
        "print(str_into_int('356476384566676457', 0, 17))"
      ]
    },
    {
      "cell_type": "markdown",
      "metadata": {},
      "source": [
        "Above solution is not good. Try to write a better solution."
      ]
    },
    {
      "cell_type": "markdown",
      "metadata": {
        "id": "5aNc3imctPYg"
      },
      "source": [
        "### *R-4.8* Isabel has an interesting way of summing up the values in a sequence A of n integers, where n is a power of two. She creates a new sequence B of half the size of A and sets $ B[i] = A[2i]+A[2i+1] $, for $ i = 0,1,...,(n/2)−1 $. If B has size 1, then she outputs $ B[0] $. Otherwise, she replaces A with B, and repeats the process. What is the running time of her algorithm?"
      ]
    },
    {
      "cell_type": "code",
      "execution_count": null,
      "metadata": {
        "id": "5ofhujKjtaEb"
      },
      "outputs": [],
      "source": [
        "def recursive_sum(A, n, low, high, sm = 0):  # n is power of 2.\n",
        "    if high == 0:\n",
        "        return sm\n",
        "    i = high//2\n",
        "    sm = sm + A[2*i] + A[2*i + 1]       #B[i] = A[2*i] + A[2*i + 1]\n",
        "                                        #sm = sm+B[i]\n",
        "    return recursive_sum(A, n, low, high//2, sm)\n",
        "    # reducing recursive calls by order of 2, so O(log n)"
      ]
    },
    {
      "cell_type": "code",
      "execution_count": null,
      "metadata": {
        "id": "MrWOE3_Ttjp_"
      },
      "outputs": [],
      "source": [
        "print(recursive_sum([1,45], 2, 0, 1))"
      ]
    },
    {
      "cell_type": "markdown",
      "metadata": {
        "id": "8ihAE7XWuRjx"
      },
      "source": [
        "### *C-4.9* Write a short recursive Python function that finds the minimum and maximum values in a sequence without using any loops."
      ]
    },
    {
      "cell_type": "code",
      "execution_count": null,
      "metadata": {
        "id": "z7Kpcwo9uYLM"
      },
      "outputs": [],
      "source": [
        "# C-4.9 Write a short recursive Python function that finds the minimum and\n",
        "#maximum values in a sequence without using any loops.\n",
        "\n",
        "def find_max_and_min(S, n, low, high, mn=None, mx=None):\n",
        "    if low > high:\n",
        "        return f'minimum: {mn} and maximum: {mx}'\n",
        "    if mn == None and mx == None:\n",
        "        if n == 0:\n",
        "            return \"Sequence is Empty!\"\n",
        "        mn = mx = S[0]\n",
        "    if S[low] <= mn:\n",
        "        mn = S[low]\n",
        "    if S[low] >= mx:\n",
        "        mx = S[low]\n",
        "    return find_max_and_min(S, n, low+1, high, mn, mx)"
      ]
    },
    {
      "cell_type": "code",
      "execution_count": null,
      "metadata": {
        "id": "mW5hwxjOuhrG"
      },
      "outputs": [],
      "source": [
        "print(find_max_and_min([34,45,26,12,56,23], 6, 0, 5))"
      ]
    },
    {
      "cell_type": "markdown",
      "metadata": {
        "id": "_YEDH51qujak"
      },
      "source": [
        "### *C-4.10* Describe a recursive algorithm to compute the integer part of the base-two logarithm of n using only addition and integer division."
      ]
    },
    {
      "cell_type": "code",
      "execution_count": null,
      "metadata": {
        "id": "9vWxWw0Hurir"
      },
      "outputs": [],
      "source": [
        "#C-4.10 Describe a recursive algorithm to compute the integer part of\n",
        "#the base-two logarithm of n using only addition and integer division.\n",
        "\n",
        "#eg log 16 = 4, log 8 = 3, log 4 = 2, log 2 = 1, log 1 = 0\n",
        "\n",
        "def find_log_value(L, base, counter=0):\n",
        "    if L <= 1:\n",
        "        return counter\n",
        "    counter = counter + 1\n",
        "    return find_log_value(L//base, base, counter)"
      ]
    },
    {
      "cell_type": "code",
      "execution_count": null,
      "metadata": {
        "id": "Y-7GHW0Eur_4"
      },
      "outputs": [],
      "source": [
        "print(find_log_value(9, 2))"
      ]
    },
    {
      "cell_type": "markdown",
      "metadata": {
        "id": "Mkx12u6Eu5Ai"
      },
      "source": [
        "### *C-4.11* Describe an efficient recursive function for solving the element unique- ness problem, which runs in time that is at most $ O(n^2) $ in the worst case without using sorting."
      ]
    },
    {
      "cell_type": "code",
      "execution_count": null,
      "metadata": {
        "id": "QhC2bbDgvIIi"
      },
      "outputs": [],
      "source": [
        "# C-4.11 Describe an efficient recursive function for solving the\n",
        "#element uniqueness problem, which runs in time that is at most O(n2)\n",
        "#in the worst case\n",
        "#without using sorting.\n",
        "\n",
        "def uniqueness(S, n, low):\n",
        "    if low == n:\n",
        "        return False\n",
        "    if S[low] in S[low+1: n]: # O(n)\n",
        "        return True\n",
        "    return uniqueness(S, n, low+1)  # O(n)\n",
        "# resultant time complexity is O(n^2) in worst case."
      ]
    },
    {
      "cell_type": "code",
      "execution_count": null,
      "metadata": {
        "id": "rgGvwzqMvSts"
      },
      "outputs": [],
      "source": [
        "print(uniqueness([1], 1, 0))"
      ]
    },
    {
      "cell_type": "markdown",
      "metadata": {
        "id": "O0jaUX_BvGEh"
      },
      "source": [
        "### *C-4.12* Give arecursiv ealgorithm to compute the product of two positive integers,$ m $ and $ n $, using only addition and subtraction."
      ]
    },
    {
      "cell_type": "code",
      "execution_count": null,
      "metadata": {
        "id": "G0rnOeszvmpX"
      },
      "outputs": [],
      "source": [
        "# C-4.12 Givea recursive algorithm to compute the product of\n",
        "#two positive integers,\n",
        "#m and n, using only addition and subtraction.\n",
        "\n",
        "def product(m, n, result=0):\n",
        "    if n == 0:\n",
        "        return result\n",
        "    result = result + m\n",
        "    return product(m, n-1, result)"
      ]
    },
    {
      "cell_type": "code",
      "execution_count": null,
      "metadata": {
        "id": "pwX5sIBqvm8r"
      },
      "outputs": [],
      "source": [
        "print(product(4,1000))"
      ]
    },
    {
      "cell_type": "code",
      "execution_count": null,
      "metadata": {
        "id": "-GfPIlUSvyt0"
      },
      "outputs": [],
      "source": [
        "# the runtime in above algorithm is O(n).\n",
        "# when n less than m, then it is good.\n",
        "# when n is far greater than m, then we make greater number of recursive call.\n",
        "# eg: m = 23, n = 1000; here we make 1001 recursive calls.\n",
        "# But this problem can be solved by making just 24 recursive calls,\n",
        "#in following way.\n",
        "\n",
        "def product1(m, n, result=0):\n",
        "    if m > n:\n",
        "        if n == 0:\n",
        "            return result\n",
        "        result = result + m\n",
        "        return product(m, n-1, result)\n",
        "    else:\n",
        "        if m == 0:\n",
        "            return result\n",
        "        result = result + n\n",
        "        return product(m-1, n, result)"
      ]
    },
    {
      "cell_type": "code",
      "execution_count": null,
      "metadata": {
        "id": "NElJ4eMjv5h0"
      },
      "outputs": [],
      "source": [
        "print(product1(4,1000))"
      ]
    },
    {
      "cell_type": "markdown",
      "metadata": {
        "id": "4f4xyq0mwLn8"
      },
      "source": [
        "### C-4.14 Tower of Hanoi -- Try Again--"
      ]
    },
    {
      "cell_type": "markdown",
      "metadata": {
        "id": "14GrQRRUts0Z"
      },
      "source": [
        "### C-4.15 -- Try Again--Finding all subsets of a set."
      ]
    },
    {
      "cell_type": "code",
      "execution_count": null,
      "metadata": {
        "id": "OiIKYCdHwuMP"
      },
      "outputs": [],
      "source": [
        "def subset(S,n):\n",
        "    if n < 0:\n",
        "        return [[]]\n",
        "    #return subset(S[:n],n-1)\n",
        "    #return [[S[n-1]]+i for i in subset(S[:n],n-1)]\n",
        "    return [[i.append(S[n-1]) for i in subset(S[:n],n-1)], subset(S[:n],n-1)]\n",
        "    #t = subset(S[:n], n-1)\n",
        "    #print(t)\n",
        "    #for i in t:\n",
        "    #   i.append(S[n-1])\n",
        "    #return t"
      ]
    },
    {
      "cell_type": "code",
      "execution_count": null,
      "metadata": {
        "colab": {
          "base_uri": "https://localhost:8080/"
        },
        "id": "u87NjvuTxRmQ",
        "outputId": "df92c215-278f-4c1f-926c-dc7d92523066"
      },
      "outputs": [
        {
          "name": "stdout",
          "output_type": "stream",
          "text": [
            "[[None, None], [[None, None], [[None, None], [[None], [[]]]]]]\n"
          ]
        }
      ],
      "source": [
        "print(subset(['a','b','c'], 3))"
      ]
    },
    {
      "cell_type": "markdown",
      "metadata": {
        "id": "RGIRfnQYte38"
      },
      "source": [
        "### *C-4.16* Write a short recursive Python function that takes a character string $ s $ and outputs its reverse. For example, the reverse of 'pots&pans' would be 'snap&stop' ."
      ]
    },
    {
      "cell_type": "code",
      "execution_count": null,
      "metadata": {
        "id": "JSO5whNWsF3x"
      },
      "outputs": [],
      "source": [
        "def reverse(s,n,low, high, result):\n",
        "    # Here I am unable to make result=list() as default parameter.\n",
        "    # it is storing the results of successive test of reverse function.\n",
        "    # I have to pass list() as parameter for each test.\n",
        "    if low > high:\n",
        "        return result\n",
        "    result.append(s[high])\n",
        "    reverse(s,n, low, high-1, result)\n",
        "    return ''.join(result)\n"
      ]
    },
    {
      "cell_type": "code",
      "execution_count": null,
      "metadata": {
        "colab": {
          "base_uri": "https://localhost:8080/"
        },
        "id": "G4d0rfzLu4Cf",
        "outputId": "da6fc605-70ab-4c66-ee3d-87a91d64a44a"
      },
      "outputs": [
        {
          "name": "stdout",
          "output_type": "stream",
          "text": [
            "doog\n",
            "hserf\n",
            "gninrom\n",
            "wol\n",
            "remmus\n"
          ]
        }
      ],
      "source": [
        "for i in ['good', 'fresh', 'morning', 'low', 'summer']:\n",
        "    n = len(i)\n",
        "    low = 0\n",
        "    high = n-1\n",
        "    result = []\n",
        "    print(reverse(i, n, low ,high, result))"
      ]
    },
    {
      "cell_type": "markdown",
      "metadata": {},
      "source": [
        "Another solution that has $O(n)$ time complexity."
      ]
    },
    {
      "cell_type": "markdown",
      "metadata": {},
      "source": [
        "```python\n",
        "def reverse(s, low, high):\n",
        "    if type(s) == str:\n",
        "        s = list(s)\n",
        "    if low > high:\n",
        "        return ''.join(s)\n",
        "    s[low], s[high] = s[high], s[low]\n",
        "    return reverse(s, low+1, high-1)\n",
        "```"
      ]
    },
    {
      "cell_type": "markdown",
      "metadata": {
        "id": "5CLHhBzxvA2Z"
      },
      "source": [
        "### *C-4.17* Write a short recursive Python function that determines if a string s is a palindrome, that is, it is equal to its reverse. For example, 'racecar' and 'gohangasalamiimalasagnahog' are palindromes."
      ]
    },
    {
      "cell_type": "code",
      "execution_count": null,
      "metadata": {
        "id": "Cn4AUN2Iz-fr"
      },
      "outputs": [],
      "source": [
        "def palindrome(s,n, low, high):\n",
        "    if low > high:\n",
        "        return True\n",
        "    if s[low] == s[high]:\n",
        "        return palindrome(s,n,low+1,high-1)\n",
        "    return False"
      ]
    },
    {
      "cell_type": "code",
      "execution_count": null,
      "metadata": {
        "colab": {
          "base_uri": "https://localhost:8080/"
        },
        "id": "Gv_-ncLJ0wQS",
        "outputId": "1712dfe4-42f9-4a3d-af48-42b5de8c3e31"
      },
      "outputs": [
        {
          "name": "stdout",
          "output_type": "stream",
          "text": [
            "True\n",
            "True\n",
            "False\n",
            "True\n",
            "True\n"
          ]
        }
      ],
      "source": [
        "for i in ['racecar', 'lol', 'summer', 'jahaj', 'oooo']:\n",
        "    n = len(i)\n",
        "    low = 0\n",
        "    high = n-1\n",
        "    print(palindrome(i, n, low, high))"
      ]
    },
    {
      "cell_type": "markdown",
      "metadata": {},
      "source": [
        "A simpler non-recursive way to check if a string is palindrome:\n",
        "```python\n",
        "def is_palindrome(s):\n",
        "    return s == s[::-1]"
      ]
    },
    {
      "cell_type": "markdown",
      "metadata": {
        "id": "AmDte_pN054V"
      },
      "source": [
        "### *C-4.18* Use recursion to write a Python function for determining if a string $ s $ has more vowels than consonants."
      ]
    },
    {
      "cell_type": "code",
      "execution_count": null,
      "metadata": {
        "id": "6DE0HZ6K30qs"
      },
      "outputs": [],
      "source": [
        "def v_or_c(s, n, low, high, vowel = 0, consonant = 0):\n",
        "    if low > high:\n",
        "        return (vowel, consonant)\n",
        "    if s[low] in ['a','e','i','o','u']:\n",
        "        vowel = vowel + 1\n",
        "    else:\n",
        "        consonant = consonant + 1\n",
        "    return v_or_c(s, n , low+1, high, vowel, consonant)"
      ]
    },
    {
      "cell_type": "code",
      "execution_count": null,
      "metadata": {
        "colab": {
          "base_uri": "https://localhost:8080/"
        },
        "id": "Uize0Vz-41-e",
        "outputId": "8143eab6-2f01-46d2-9eb4-bbde48799774"
      },
      "outputs": [
        {
          "name": "stdout",
          "output_type": "stream",
          "text": [
            "(3, 4)\n",
            "(1, 2)\n",
            "(2, 4)\n",
            "(2, 3)\n",
            "(4, 0)\n"
          ]
        }
      ],
      "source": [
        "for i in ['racecar', 'lol', 'summer', 'jahaj', 'oooo']:\n",
        "    n = len(i)\n",
        "    low = 0\n",
        "    high = n-1\n",
        "    print(v_or_c(i, n, low, high))"
      ]
    },
    {
      "cell_type": "markdown",
      "metadata": {},
      "source": [
        "Better solution:\n",
        "```python\n",
        "def v_or_c(s, low, high, vowel=0, consonant=0):\n",
        "    if low > high:\n",
        "        return (vowel, consonant)\n",
        "    \n",
        "    char = s[low].lower()\n",
        "    if char.isalpha():\n",
        "        if char in 'aeiou':\n",
        "            return v_or_c(s, low + 1, high, vowel + 1, consonant)\n",
        "        else:\n",
        "            return v_or_c(s, low + 1, high, vowel, consonant + 1)\n",
        "    else:\n",
        "        return v_or_c(s, low + 1, high, vowel, consonant)\n",
        "```"
      ]
    },
    {
      "cell_type": "markdown",
      "metadata": {
        "id": "OaUKjpKZ_y-_"
      },
      "source": [
        "### *C-4.19* Write a short recursive Python function that rearranges a sequence of integer values so that all the even values appear before all the odd values."
      ]
    },
    {
      "cell_type": "code",
      "execution_count": 5,
      "metadata": {
        "id": "p61VuUUG5HBN"
      },
      "outputs": [],
      "source": [
        "def even_before_odd_helper(S, low, high, even_list, odd_list):\n",
        "    \n",
        "    if low > high:\n",
        "        return even_list + odd_list\n",
        "    if S[low] % 2 == 0:\n",
        "        even_list.append(S[low])\n",
        "    else:\n",
        "        odd_list.append(S[low])\n",
        "    return even_before_odd_helper(S, low+1, high, even_list, odd_list)\n",
        "\n",
        "def even_before_odd(S):\n",
        "    low = 0\n",
        "    high = len(S) - 1\n",
        "    even_list = []\n",
        "    odd_list = []\n",
        "    return even_before_odd_helper(S, low, high, even_list, odd_list)"
      ]
    },
    {
      "cell_type": "code",
      "execution_count": 6,
      "metadata": {
        "colab": {
          "base_uri": "https://localhost:8080/"
        },
        "id": "xsz-kqNm76Ys",
        "outputId": "310da75a-e4b0-4dc9-c79c-89397ca1df75"
      },
      "outputs": [
        {
          "name": "stdout",
          "output_type": "stream",
          "text": [
            "[2, 4, 1, 3, 5]\n",
            "[34, 56, 21, 23, 87]\n",
            "[34, 14, 32, 45, 23]\n"
          ]
        }
      ],
      "source": [
        "for S in [[1,2,3,4,5], [34,21,56,23,87], [34,45,23,14,32]]:\n",
        "    print(even_before_odd(S))"
      ]
    },
    {
      "cell_type": "markdown",
      "metadata": {
        "id": "cLARESw4ga0M"
      },
      "source": [
        "### *C-4.20* Given an unsorted sequence, $ S $, of integers and an integer $ k $ , describe a recursive algorithm for rearranging the elements in $ S $  so that all elements less than or equal to $ k $  come before any elements larger than $ k $. What is the running time of your algorithm on a sequence of $ n $ values?"
      ]
    },
    {
      "cell_type": "code",
      "execution_count": null,
      "metadata": {
        "id": "lYhtvlIK-rxG"
      },
      "outputs": [],
      "source": [
        "def rudimentary_sorting(S, n, k, low, high, lesslst, morelst):\n",
        "    if low > high:\n",
        "        return lesslst + morelst\n",
        "    if S[low] > k:\n",
        "        morelst.append(S[low])\n",
        "    else:\n",
        "        lesslst.append(S[low])\n",
        "    return rudimentary_sorting(S, n, k, low+1, high, lesslst, morelst)"
      ]
    },
    {
      "cell_type": "code",
      "execution_count": null,
      "metadata": {
        "colab": {
          "base_uri": "https://localhost:8080/"
        },
        "id": "AHf2nk-gA1Eq",
        "outputId": "ddc02462-1cd8-4d46-d6ab-53d275e709f8"
      },
      "outputs": [
        {
          "name": "stdout",
          "output_type": "stream",
          "text": [
            "[2, 3, 1, 5, 4]\n",
            "[21, 23, 34, 56, 87]\n",
            "[23, 14, 34, 54, 45, 32]\n",
            "[34, 45, 23, 14, 32, 54]\n"
          ]
        }
      ],
      "source": [
        "for i in [[5,2,3,4,1], [34,21,56,23,87], [34,54,45,23,14,32]]:\n",
        "    for k in [3,23,45]:\n",
        "        if k in i:\n",
        "            S = i\n",
        "            n = len(S)\n",
        "            k = k\n",
        "            low = 0\n",
        "            high = n-1\n",
        "            lesslst = list()\n",
        "            morelst = list()\n",
        "            print(rudimentary_sorting(S,n,k,low, high, lesslst,morelst))"
      ]
    },
    {
      "cell_type": "markdown",
      "metadata": {
        "id": "6xAjAXEsxwha"
      },
      "source": [
        "### *C-4.21* Suppose you are given an $n$-element sequence,$ S $, containing distinct integers that are listed in increasing order. Given a number $ k $, describe a recursive algorithm to find two integers in $ S $ that sum to $ k $, if such a pair exists. What is the running time of your algorithm?"
      ]
    },
    {
      "cell_type": "code",
      "execution_count": null,
      "metadata": {
        "id": "x8y7A6eIDLGU"
      },
      "outputs": [],
      "source": [
        "def sum_of_two_int_equals_k(S,n,k,low,high,int1 = None, int2= None):\n",
        "    if low > high:\n",
        "        return 'Integer Pair Not Found'\n",
        "    for i in S:  #can we form a recursive algorithm without this for loop?\n",
        "        if S[low] + i == k and S[low] != i:\n",
        "            int1 = S[low]\n",
        "            int2 = i\n",
        "    if int1 == None and int2 == None:\n",
        "        return sum_of_two_int_equals_k(S,n,k,low+1,high, int1, int2)\n",
        "    return int1, int2\n",
        "    # T(n) = T(n-1) + O(n)\n",
        "    # using master theroem, time complexity of this algorithm is O(n^2)."
      ]
    },
    {
      "cell_type": "code",
      "execution_count": null,
      "metadata": {
        "colab": {
          "base_uri": "https://localhost:8080/"
        },
        "id": "IYEZczyyiykx",
        "outputId": "93e7fc0b-9c65-46d9-b84f-eb55bdf06619"
      },
      "outputs": [
        {
          "name": "stdout",
          "output_type": "stream",
          "text": [
            "(5, 2)\n",
            "Integer Pair Not Found\n",
            "Integer Pair Not Found\n",
            "Integer Pair Not Found\n",
            "(21, 56)\n",
            "Integer Pair Not Found\n",
            "Integer Pair Not Found\n",
            "(54, 23)\n",
            "(54, 45)\n"
          ]
        }
      ],
      "source": [
        "for i in [[5,2,3,4,1], [34,21,56,23,87], [34,54,45,23,14,32]]:\n",
        "    for k in [7,77,99]:\n",
        "        S = i\n",
        "        n = len(S)\n",
        "        low = 0\n",
        "        high = n-1\n",
        "        print(sum_of_two_int_equals_k(S,n,k,low,high))"
      ]
    },
    {
      "cell_type": "code",
      "execution_count": null,
      "metadata": {
        "id": "UOoJLSLKJTZI"
      },
      "outputs": [],
      "source": [
        "# same code as above but cleaner. Same runtime.\n",
        "# I cannot figure out how to use the fact that S is sorted sequence.\n",
        "def sum_of_two_int_equals_k(S,n,k,low,high,int1 = None, int2= None):\n",
        "    if low > high:\n",
        "        return 'Integer Pair Not Found'\n",
        "    if k-S[low] in S and k-S[low] != S[low]:  # 'in' takes O(n) same as for loop.\n",
        "        return S[low], k-S[low]\n",
        "    return sum_of_two_int_equals_k(S,n,k,low+1,high)"
      ]
    },
    {
      "cell_type": "markdown",
      "metadata": {
        "id": "M5oGZkQByDrT"
      },
      "source": [
        "### *C-4.22* Develop a nonrecursive implementation of the version of power from Code Fragment $ 4.12 $ that uses repeated squaring."
      ]
    },
    {
      "cell_type": "code",
      "execution_count": 1,
      "metadata": {
        "id": "jia4N1NKjU3d"
      },
      "outputs": [],
      "source": [
        "def power(x, n):\n",
        "    temp = 1\n",
        "    n1 = n\n",
        "    while n1 > 1:\n",
        "        temp = temp * x\n",
        "        n1 = n1//2\n",
        "    result = temp*temp\n",
        "    if n%2 == 0:\n",
        "        return result\n",
        "    return result*x"
      ]
    },
    {
      "cell_type": "code",
      "execution_count": 2,
      "metadata": {
        "colab": {
          "base_uri": "https://localhost:8080/"
        },
        "id": "Eqg1iJzunMTx",
        "outputId": "3823f0eb-8ceb-4a40-fe95-ef1fdd7ec531"
      },
      "outputs": [
        {
          "name": "stdout",
          "output_type": "stream",
          "text": [
            "4\n",
            "8\n",
            "1\n",
            "\n",
            "9\n",
            "27\n",
            "1\n",
            "\n",
            "16\n",
            "64\n",
            "1\n",
            "\n",
            "25\n",
            "125\n",
            "1\n",
            "\n",
            "36\n",
            "216\n",
            "1\n",
            "\n",
            "49\n",
            "343\n",
            "1\n",
            "\n"
          ]
        }
      ],
      "source": [
        "for i in [2,3,4,5,6,7]:\n",
        "    print(power(i, 2))  # test for even power\n",
        "    print(power(i,3))   # test for odd power\n",
        "    print(power(i, 0))\n",
        "    print()"
      ]
    },
    {
      "cell_type": "code",
      "execution_count": null,
      "metadata": {
        "id": "Yxb0AfmonPUt"
      },
      "outputs": [],
      "source": []
    }
  ],
  "metadata": {
    "colab": {
      "provenance": []
    },
    "kernelspec": {
      "display_name": "Python 3",
      "name": "python3"
    },
    "language_info": {
      "codemirror_mode": {
        "name": "ipython",
        "version": 3
      },
      "file_extension": ".py",
      "mimetype": "text/x-python",
      "name": "python",
      "nbconvert_exporter": "python",
      "pygments_lexer": "ipython3",
      "version": "3.12.0"
    }
  },
  "nbformat": 4,
  "nbformat_minor": 0
}
